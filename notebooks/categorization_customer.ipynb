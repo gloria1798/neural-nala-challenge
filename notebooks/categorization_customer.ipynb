{
  "nbformat": 4,
  "nbformat_minor": 0,
  "metadata": {
    "colab": {
      "name": "categorization-customer.ipynb",
      "provenance": [],
      "collapsed_sections": [
        "X0_b6U9NaLLi",
        "9eA0WEux6AFX",
        "qvwFSwZq6cN_"
      ]
    },
    "kernelspec": {
      "name": "python3",
      "display_name": "Python 3"
    },
    "language_info": {
      "name": "python"
    }
  },
  "cells": [
    {
      "cell_type": "markdown",
      "source": [
        "## **Propose a categorization of the different customers**"
      ],
      "metadata": {
        "id": "cEBG4MUMAJzj"
      }
    },
    {
      "cell_type": "markdown",
      "source": [
        "## **Librerias**"
      ],
      "metadata": {
        "id": "7Ato6YBvAhyC"
      }
    },
    {
      "cell_type": "code",
      "source": [
        "!pip install kneed"
      ],
      "metadata": {
        "colab": {
          "base_uri": "https://localhost:8080/"
        },
        "id": "-b1z5vgTFgW1",
        "outputId": "898cf77a-cee1-44e2-8532-1a1b476e5299"
      },
      "execution_count": 39,
      "outputs": [
        {
          "output_type": "stream",
          "name": "stdout",
          "text": [
            "Requirement already satisfied: kneed in /usr/local/lib/python3.7/dist-packages (0.7.0)\n",
            "Requirement already satisfied: numpy>=1.14.2 in /usr/local/lib/python3.7/dist-packages (from kneed) (1.19.5)\n",
            "Requirement already satisfied: scipy in /usr/local/lib/python3.7/dist-packages (from kneed) (1.4.1)\n",
            "Requirement already satisfied: matplotlib in /usr/local/lib/python3.7/dist-packages (from kneed) (3.2.2)\n",
            "Requirement already satisfied: cycler>=0.10 in /usr/local/lib/python3.7/dist-packages (from matplotlib->kneed) (0.11.0)\n",
            "Requirement already satisfied: pyparsing!=2.0.4,!=2.1.2,!=2.1.6,>=2.0.1 in /usr/local/lib/python3.7/dist-packages (from matplotlib->kneed) (3.0.6)\n",
            "Requirement already satisfied: python-dateutil>=2.1 in /usr/local/lib/python3.7/dist-packages (from matplotlib->kneed) (2.8.2)\n",
            "Requirement already satisfied: kiwisolver>=1.0.1 in /usr/local/lib/python3.7/dist-packages (from matplotlib->kneed) (1.3.2)\n",
            "Requirement already satisfied: six>=1.5 in /usr/local/lib/python3.7/dist-packages (from python-dateutil>=2.1->matplotlib->kneed) (1.15.0)\n"
          ]
        }
      ]
    },
    {
      "cell_type": "code",
      "source": [
        "import pandas as pd\n",
        "import numpy as np\n",
        "import seaborn as sns\n",
        "import matplotlib.pyplot as plt\n",
        "from kneed import KneeLocator\n",
        "from sklearn.datasets import make_blobs\n",
        "from sklearn.cluster import KMeans\n",
        "from sklearn.metrics import silhouette_score\n",
        "from sklearn.preprocessing import StandardScaler\n"
      ],
      "metadata": {
        "id": "fvvZlTc_FV1W"
      },
      "execution_count": 40,
      "outputs": []
    },
    {
      "cell_type": "markdown",
      "source": [
        "## **Carga de datos**"
      ],
      "metadata": {
        "id": "M_B1IuLLAhD7"
      }
    },
    {
      "cell_type": "code",
      "execution_count": 151,
      "metadata": {
        "colab": {
          "base_uri": "https://localhost:8080/",
          "height": 333
        },
        "id": "vlB_LEU9eW3p",
        "outputId": "88ea2e90-e6aa-45d3-ea1b-0d787652a0bc"
      },
      "outputs": [
        {
          "output_type": "execute_result",
          "data": {
            "text/html": [
              "\n",
              "  <div id=\"df-97e5250c-6cee-4488-8059-89b6b3468623\">\n",
              "    <div class=\"colab-df-container\">\n",
              "      <div>\n",
              "<style scoped>\n",
              "    .dataframe tbody tr th:only-of-type {\n",
              "        vertical-align: middle;\n",
              "    }\n",
              "\n",
              "    .dataframe tbody tr th {\n",
              "        vertical-align: top;\n",
              "    }\n",
              "\n",
              "    .dataframe thead th {\n",
              "        text-align: right;\n",
              "    }\n",
              "</style>\n",
              "<table border=\"1\" class=\"dataframe\">\n",
              "  <thead>\n",
              "    <tr style=\"text-align: right;\">\n",
              "      <th></th>\n",
              "      <th>ID_USER</th>\n",
              "      <th>genero</th>\n",
              "      <th>monto</th>\n",
              "      <th>fecha</th>\n",
              "      <th>hora</th>\n",
              "      <th>dispositivo</th>\n",
              "      <th>establecimiento</th>\n",
              "      <th>ciudad</th>\n",
              "      <th>tipo_tc</th>\n",
              "      <th>linea_tc</th>\n",
              "      <th>interes_tc</th>\n",
              "      <th>status_txn</th>\n",
              "      <th>is_prime</th>\n",
              "      <th>dcto</th>\n",
              "      <th>cashback</th>\n",
              "      <th>fraude</th>\n",
              "    </tr>\n",
              "  </thead>\n",
              "  <tbody>\n",
              "    <tr>\n",
              "      <th>0</th>\n",
              "      <td>0</td>\n",
              "      <td>F</td>\n",
              "      <td>608.345633</td>\n",
              "      <td>2020-01-21</td>\n",
              "      <td>20</td>\n",
              "      <td>ANDROID</td>\n",
              "      <td>Super</td>\n",
              "      <td>Merida</td>\n",
              "      <td>Fisica</td>\n",
              "      <td>71000.0</td>\n",
              "      <td>51.0</td>\n",
              "      <td>Aceptada</td>\n",
              "      <td>False</td>\n",
              "      <td>60.834563</td>\n",
              "      <td>5.475111</td>\n",
              "      <td>False</td>\n",
              "    </tr>\n",
              "    <tr>\n",
              "      <th>1</th>\n",
              "      <td>0</td>\n",
              "      <td>F</td>\n",
              "      <td>88.719243</td>\n",
              "      <td>2020-01-15</td>\n",
              "      <td>7</td>\n",
              "      <td>ANDROID</td>\n",
              "      <td>MPago</td>\n",
              "      <td>Merida</td>\n",
              "      <td>Virtual</td>\n",
              "      <td>71000.0</td>\n",
              "      <td>51.0</td>\n",
              "      <td>Aceptada</td>\n",
              "      <td>False</td>\n",
              "      <td>0.000000</td>\n",
              "      <td>1.774385</td>\n",
              "      <td>False</td>\n",
              "    </tr>\n",
              "    <tr>\n",
              "      <th>2</th>\n",
              "      <td>1</td>\n",
              "      <td>F</td>\n",
              "      <td>790.037653</td>\n",
              "      <td>2020-01-17</td>\n",
              "      <td>11</td>\n",
              "      <td>ANDROID</td>\n",
              "      <td>MPago</td>\n",
              "      <td>Guadalajara</td>\n",
              "      <td>Virtual</td>\n",
              "      <td>94000.0</td>\n",
              "      <td>56.0</td>\n",
              "      <td>En proceso</td>\n",
              "      <td>False</td>\n",
              "      <td>0.000000</td>\n",
              "      <td>15.800753</td>\n",
              "      <td>False</td>\n",
              "    </tr>\n",
              "    <tr>\n",
              "      <th>3</th>\n",
              "      <td>1</td>\n",
              "      <td>F</td>\n",
              "      <td>767.005387</td>\n",
              "      <td>2020-01-05</td>\n",
              "      <td>11</td>\n",
              "      <td>WEB</td>\n",
              "      <td>MPago</td>\n",
              "      <td>Guadalajara</td>\n",
              "      <td>Fisica</td>\n",
              "      <td>94000.0</td>\n",
              "      <td>56.0</td>\n",
              "      <td>Aceptada</td>\n",
              "      <td>False</td>\n",
              "      <td>0.000000</td>\n",
              "      <td>7.670054</td>\n",
              "      <td>False</td>\n",
              "    </tr>\n",
              "    <tr>\n",
              "      <th>4</th>\n",
              "      <td>1</td>\n",
              "      <td>F</td>\n",
              "      <td>254.171053</td>\n",
              "      <td>2020-01-30</td>\n",
              "      <td>10</td>\n",
              "      <td>ANDROID</td>\n",
              "      <td>Farmacia</td>\n",
              "      <td>Guadalajara</td>\n",
              "      <td>Fisica</td>\n",
              "      <td>94000.0</td>\n",
              "      <td>56.0</td>\n",
              "      <td>Aceptada</td>\n",
              "      <td>False</td>\n",
              "      <td>0.000000</td>\n",
              "      <td>2.541711</td>\n",
              "      <td>False</td>\n",
              "    </tr>\n",
              "    <tr>\n",
              "      <th>5</th>\n",
              "      <td>1</td>\n",
              "      <td>F</td>\n",
              "      <td>37.003747</td>\n",
              "      <td>2020-01-27</td>\n",
              "      <td>3</td>\n",
              "      <td>ANDROID</td>\n",
              "      <td>MPago</td>\n",
              "      <td>Guadalajara</td>\n",
              "      <td>Fisica</td>\n",
              "      <td>94000.0</td>\n",
              "      <td>56.0</td>\n",
              "      <td>Rechazada</td>\n",
              "      <td>False</td>\n",
              "      <td>0.000000</td>\n",
              "      <td>0.370037</td>\n",
              "      <td>False</td>\n",
              "    </tr>\n",
              "    <tr>\n",
              "      <th>6</th>\n",
              "      <td>1</td>\n",
              "      <td>F</td>\n",
              "      <td>334.516017</td>\n",
              "      <td>2020-01-06</td>\n",
              "      <td>2</td>\n",
              "      <td>ANDROID</td>\n",
              "      <td>Abarrotes</td>\n",
              "      <td>Guadalajara</td>\n",
              "      <td>Fisica</td>\n",
              "      <td>94000.0</td>\n",
              "      <td>56.0</td>\n",
              "      <td>Aceptada</td>\n",
              "      <td>False</td>\n",
              "      <td>33.451602</td>\n",
              "      <td>3.010644</td>\n",
              "      <td>False</td>\n",
              "    </tr>\n",
              "  </tbody>\n",
              "</table>\n",
              "</div>\n",
              "      <button class=\"colab-df-convert\" onclick=\"convertToInteractive('df-97e5250c-6cee-4488-8059-89b6b3468623')\"\n",
              "              title=\"Convert this dataframe to an interactive table.\"\n",
              "              style=\"display:none;\">\n",
              "        \n",
              "  <svg xmlns=\"http://www.w3.org/2000/svg\" height=\"24px\"viewBox=\"0 0 24 24\"\n",
              "       width=\"24px\">\n",
              "    <path d=\"M0 0h24v24H0V0z\" fill=\"none\"/>\n",
              "    <path d=\"M18.56 5.44l.94 2.06.94-2.06 2.06-.94-2.06-.94-.94-2.06-.94 2.06-2.06.94zm-11 1L8.5 8.5l.94-2.06 2.06-.94-2.06-.94L8.5 2.5l-.94 2.06-2.06.94zm10 10l.94 2.06.94-2.06 2.06-.94-2.06-.94-.94-2.06-.94 2.06-2.06.94z\"/><path d=\"M17.41 7.96l-1.37-1.37c-.4-.4-.92-.59-1.43-.59-.52 0-1.04.2-1.43.59L10.3 9.45l-7.72 7.72c-.78.78-.78 2.05 0 2.83L4 21.41c.39.39.9.59 1.41.59.51 0 1.02-.2 1.41-.59l7.78-7.78 2.81-2.81c.8-.78.8-2.07 0-2.86zM5.41 20L4 18.59l7.72-7.72 1.47 1.35L5.41 20z\"/>\n",
              "  </svg>\n",
              "      </button>\n",
              "      \n",
              "  <style>\n",
              "    .colab-df-container {\n",
              "      display:flex;\n",
              "      flex-wrap:wrap;\n",
              "      gap: 12px;\n",
              "    }\n",
              "\n",
              "    .colab-df-convert {\n",
              "      background-color: #E8F0FE;\n",
              "      border: none;\n",
              "      border-radius: 50%;\n",
              "      cursor: pointer;\n",
              "      display: none;\n",
              "      fill: #1967D2;\n",
              "      height: 32px;\n",
              "      padding: 0 0 0 0;\n",
              "      width: 32px;\n",
              "    }\n",
              "\n",
              "    .colab-df-convert:hover {\n",
              "      background-color: #E2EBFA;\n",
              "      box-shadow: 0px 1px 2px rgba(60, 64, 67, 0.3), 0px 1px 3px 1px rgba(60, 64, 67, 0.15);\n",
              "      fill: #174EA6;\n",
              "    }\n",
              "\n",
              "    [theme=dark] .colab-df-convert {\n",
              "      background-color: #3B4455;\n",
              "      fill: #D2E3FC;\n",
              "    }\n",
              "\n",
              "    [theme=dark] .colab-df-convert:hover {\n",
              "      background-color: #434B5C;\n",
              "      box-shadow: 0px 1px 3px 1px rgba(0, 0, 0, 0.15);\n",
              "      filter: drop-shadow(0px 1px 2px rgba(0, 0, 0, 0.3));\n",
              "      fill: #FFFFFF;\n",
              "    }\n",
              "  </style>\n",
              "\n",
              "      <script>\n",
              "        const buttonEl =\n",
              "          document.querySelector('#df-97e5250c-6cee-4488-8059-89b6b3468623 button.colab-df-convert');\n",
              "        buttonEl.style.display =\n",
              "          google.colab.kernel.accessAllowed ? 'block' : 'none';\n",
              "\n",
              "        async function convertToInteractive(key) {\n",
              "          const element = document.querySelector('#df-97e5250c-6cee-4488-8059-89b6b3468623');\n",
              "          const dataTable =\n",
              "            await google.colab.kernel.invokeFunction('convertToInteractive',\n",
              "                                                     [key], {});\n",
              "          if (!dataTable) return;\n",
              "\n",
              "          const docLinkHtml = 'Like what you see? Visit the ' +\n",
              "            '<a target=\"_blank\" href=https://colab.research.google.com/notebooks/data_table.ipynb>data table notebook</a>'\n",
              "            + ' to learn more about interactive tables.';\n",
              "          element.innerHTML = '';\n",
              "          dataTable['output_type'] = 'display_data';\n",
              "          await google.colab.output.renderOutput(dataTable, element);\n",
              "          const docLink = document.createElement('div');\n",
              "          docLink.innerHTML = docLinkHtml;\n",
              "          element.appendChild(docLink);\n",
              "        }\n",
              "      </script>\n",
              "    </div>\n",
              "  </div>\n",
              "  "
            ],
            "text/plain": [
              "   ID_USER genero       monto  ...       dcto   cashback fraude\n",
              "0        0      F  608.345633  ...  60.834563   5.475111  False\n",
              "1        0      F   88.719243  ...   0.000000   1.774385  False\n",
              "2        1      F  790.037653  ...   0.000000  15.800753  False\n",
              "3        1      F  767.005387  ...   0.000000   7.670054  False\n",
              "4        1      F  254.171053  ...   0.000000   2.541711  False\n",
              "5        1      F   37.003747  ...   0.000000   0.370037  False\n",
              "6        1      F  334.516017  ...  33.451602   3.010644  False\n",
              "\n",
              "[7 rows x 16 columns]"
            ]
          },
          "metadata": {},
          "execution_count": 151
        }
      ],
      "source": [
        "data = pd.read_csv(\"/content/drive/MyDrive/Colab Notebooks/fraud_data_complete_final.csv\")\n",
        "data = data.drop(data.columns[0], axis=1)\n",
        "data.head(7)"
      ]
    },
    {
      "cell_type": "code",
      "source": [
        "data_features = ['genero','dispositivo', 'establecimiento','ciudad', 'tipo_tc', 'linea_tc', 'interes_tc', 'is_prime', 'fraude']\n",
        "data_customer = data[data_features]\n",
        "data_customer"
      ],
      "metadata": {
        "id": "bkcPRAThRJmo",
        "colab": {
          "base_uri": "https://localhost:8080/",
          "height": 424
        },
        "outputId": "5d8549db-b7ff-48c2-9d36-7fb1fd5e9b6b"
      },
      "execution_count": 152,
      "outputs": [
        {
          "output_type": "execute_result",
          "data": {
            "text/html": [
              "\n",
              "  <div id=\"df-e187daff-7316-4bdb-8bdb-5f3c7718b662\">\n",
              "    <div class=\"colab-df-container\">\n",
              "      <div>\n",
              "<style scoped>\n",
              "    .dataframe tbody tr th:only-of-type {\n",
              "        vertical-align: middle;\n",
              "    }\n",
              "\n",
              "    .dataframe tbody tr th {\n",
              "        vertical-align: top;\n",
              "    }\n",
              "\n",
              "    .dataframe thead th {\n",
              "        text-align: right;\n",
              "    }\n",
              "</style>\n",
              "<table border=\"1\" class=\"dataframe\">\n",
              "  <thead>\n",
              "    <tr style=\"text-align: right;\">\n",
              "      <th></th>\n",
              "      <th>genero</th>\n",
              "      <th>dispositivo</th>\n",
              "      <th>establecimiento</th>\n",
              "      <th>ciudad</th>\n",
              "      <th>tipo_tc</th>\n",
              "      <th>linea_tc</th>\n",
              "      <th>interes_tc</th>\n",
              "      <th>is_prime</th>\n",
              "      <th>fraude</th>\n",
              "    </tr>\n",
              "  </thead>\n",
              "  <tbody>\n",
              "    <tr>\n",
              "      <th>0</th>\n",
              "      <td>F</td>\n",
              "      <td>ANDROID</td>\n",
              "      <td>Super</td>\n",
              "      <td>Merida</td>\n",
              "      <td>Fisica</td>\n",
              "      <td>71000.0</td>\n",
              "      <td>51.0</td>\n",
              "      <td>False</td>\n",
              "      <td>False</td>\n",
              "    </tr>\n",
              "    <tr>\n",
              "      <th>1</th>\n",
              "      <td>F</td>\n",
              "      <td>ANDROID</td>\n",
              "      <td>MPago</td>\n",
              "      <td>Merida</td>\n",
              "      <td>Virtual</td>\n",
              "      <td>71000.0</td>\n",
              "      <td>51.0</td>\n",
              "      <td>False</td>\n",
              "      <td>False</td>\n",
              "    </tr>\n",
              "    <tr>\n",
              "      <th>2</th>\n",
              "      <td>F</td>\n",
              "      <td>ANDROID</td>\n",
              "      <td>MPago</td>\n",
              "      <td>Guadalajara</td>\n",
              "      <td>Virtual</td>\n",
              "      <td>94000.0</td>\n",
              "      <td>56.0</td>\n",
              "      <td>False</td>\n",
              "      <td>False</td>\n",
              "    </tr>\n",
              "    <tr>\n",
              "      <th>3</th>\n",
              "      <td>F</td>\n",
              "      <td>WEB</td>\n",
              "      <td>MPago</td>\n",
              "      <td>Guadalajara</td>\n",
              "      <td>Fisica</td>\n",
              "      <td>94000.0</td>\n",
              "      <td>56.0</td>\n",
              "      <td>False</td>\n",
              "      <td>False</td>\n",
              "    </tr>\n",
              "    <tr>\n",
              "      <th>4</th>\n",
              "      <td>F</td>\n",
              "      <td>ANDROID</td>\n",
              "      <td>Farmacia</td>\n",
              "      <td>Guadalajara</td>\n",
              "      <td>Fisica</td>\n",
              "      <td>94000.0</td>\n",
              "      <td>56.0</td>\n",
              "      <td>False</td>\n",
              "      <td>False</td>\n",
              "    </tr>\n",
              "    <tr>\n",
              "      <th>...</th>\n",
              "      <td>...</td>\n",
              "      <td>...</td>\n",
              "      <td>...</td>\n",
              "      <td>...</td>\n",
              "      <td>...</td>\n",
              "      <td>...</td>\n",
              "      <td>...</td>\n",
              "      <td>...</td>\n",
              "      <td>...</td>\n",
              "    </tr>\n",
              "    <tr>\n",
              "      <th>6904</th>\n",
              "      <td>M</td>\n",
              "      <td>WEB</td>\n",
              "      <td>Farmacia</td>\n",
              "      <td>Merida</td>\n",
              "      <td>Virtual</td>\n",
              "      <td>94000.0</td>\n",
              "      <td>45.0</td>\n",
              "      <td>False</td>\n",
              "      <td>False</td>\n",
              "    </tr>\n",
              "    <tr>\n",
              "      <th>6905</th>\n",
              "      <td>M</td>\n",
              "      <td>ANDROID</td>\n",
              "      <td>Farmacia</td>\n",
              "      <td>Merida</td>\n",
              "      <td>Virtual</td>\n",
              "      <td>94000.0</td>\n",
              "      <td>45.0</td>\n",
              "      <td>False</td>\n",
              "      <td>True</td>\n",
              "    </tr>\n",
              "    <tr>\n",
              "      <th>6906</th>\n",
              "      <td>M</td>\n",
              "      <td>WEB</td>\n",
              "      <td>Super</td>\n",
              "      <td>Merida</td>\n",
              "      <td>Fisica</td>\n",
              "      <td>94000.0</td>\n",
              "      <td>45.0</td>\n",
              "      <td>False</td>\n",
              "      <td>False</td>\n",
              "    </tr>\n",
              "    <tr>\n",
              "      <th>6907</th>\n",
              "      <td>M</td>\n",
              "      <td>ANDROID</td>\n",
              "      <td>MPago</td>\n",
              "      <td>Monterrey</td>\n",
              "      <td>Fisica</td>\n",
              "      <td>94000.0</td>\n",
              "      <td>45.0</td>\n",
              "      <td>False</td>\n",
              "      <td>False</td>\n",
              "    </tr>\n",
              "    <tr>\n",
              "      <th>6908</th>\n",
              "      <td>M</td>\n",
              "      <td>ANDROID</td>\n",
              "      <td>MPago</td>\n",
              "      <td>Guadalajara</td>\n",
              "      <td>Fisica</td>\n",
              "      <td>96000.0</td>\n",
              "      <td>4.0</td>\n",
              "      <td>False</td>\n",
              "      <td>False</td>\n",
              "    </tr>\n",
              "  </tbody>\n",
              "</table>\n",
              "<p>6909 rows × 9 columns</p>\n",
              "</div>\n",
              "      <button class=\"colab-df-convert\" onclick=\"convertToInteractive('df-e187daff-7316-4bdb-8bdb-5f3c7718b662')\"\n",
              "              title=\"Convert this dataframe to an interactive table.\"\n",
              "              style=\"display:none;\">\n",
              "        \n",
              "  <svg xmlns=\"http://www.w3.org/2000/svg\" height=\"24px\"viewBox=\"0 0 24 24\"\n",
              "       width=\"24px\">\n",
              "    <path d=\"M0 0h24v24H0V0z\" fill=\"none\"/>\n",
              "    <path d=\"M18.56 5.44l.94 2.06.94-2.06 2.06-.94-2.06-.94-.94-2.06-.94 2.06-2.06.94zm-11 1L8.5 8.5l.94-2.06 2.06-.94-2.06-.94L8.5 2.5l-.94 2.06-2.06.94zm10 10l.94 2.06.94-2.06 2.06-.94-2.06-.94-.94-2.06-.94 2.06-2.06.94z\"/><path d=\"M17.41 7.96l-1.37-1.37c-.4-.4-.92-.59-1.43-.59-.52 0-1.04.2-1.43.59L10.3 9.45l-7.72 7.72c-.78.78-.78 2.05 0 2.83L4 21.41c.39.39.9.59 1.41.59.51 0 1.02-.2 1.41-.59l7.78-7.78 2.81-2.81c.8-.78.8-2.07 0-2.86zM5.41 20L4 18.59l7.72-7.72 1.47 1.35L5.41 20z\"/>\n",
              "  </svg>\n",
              "      </button>\n",
              "      \n",
              "  <style>\n",
              "    .colab-df-container {\n",
              "      display:flex;\n",
              "      flex-wrap:wrap;\n",
              "      gap: 12px;\n",
              "    }\n",
              "\n",
              "    .colab-df-convert {\n",
              "      background-color: #E8F0FE;\n",
              "      border: none;\n",
              "      border-radius: 50%;\n",
              "      cursor: pointer;\n",
              "      display: none;\n",
              "      fill: #1967D2;\n",
              "      height: 32px;\n",
              "      padding: 0 0 0 0;\n",
              "      width: 32px;\n",
              "    }\n",
              "\n",
              "    .colab-df-convert:hover {\n",
              "      background-color: #E2EBFA;\n",
              "      box-shadow: 0px 1px 2px rgba(60, 64, 67, 0.3), 0px 1px 3px 1px rgba(60, 64, 67, 0.15);\n",
              "      fill: #174EA6;\n",
              "    }\n",
              "\n",
              "    [theme=dark] .colab-df-convert {\n",
              "      background-color: #3B4455;\n",
              "      fill: #D2E3FC;\n",
              "    }\n",
              "\n",
              "    [theme=dark] .colab-df-convert:hover {\n",
              "      background-color: #434B5C;\n",
              "      box-shadow: 0px 1px 3px 1px rgba(0, 0, 0, 0.15);\n",
              "      filter: drop-shadow(0px 1px 2px rgba(0, 0, 0, 0.3));\n",
              "      fill: #FFFFFF;\n",
              "    }\n",
              "  </style>\n",
              "\n",
              "      <script>\n",
              "        const buttonEl =\n",
              "          document.querySelector('#df-e187daff-7316-4bdb-8bdb-5f3c7718b662 button.colab-df-convert');\n",
              "        buttonEl.style.display =\n",
              "          google.colab.kernel.accessAllowed ? 'block' : 'none';\n",
              "\n",
              "        async function convertToInteractive(key) {\n",
              "          const element = document.querySelector('#df-e187daff-7316-4bdb-8bdb-5f3c7718b662');\n",
              "          const dataTable =\n",
              "            await google.colab.kernel.invokeFunction('convertToInteractive',\n",
              "                                                     [key], {});\n",
              "          if (!dataTable) return;\n",
              "\n",
              "          const docLinkHtml = 'Like what you see? Visit the ' +\n",
              "            '<a target=\"_blank\" href=https://colab.research.google.com/notebooks/data_table.ipynb>data table notebook</a>'\n",
              "            + ' to learn more about interactive tables.';\n",
              "          element.innerHTML = '';\n",
              "          dataTable['output_type'] = 'display_data';\n",
              "          await google.colab.output.renderOutput(dataTable, element);\n",
              "          const docLink = document.createElement('div');\n",
              "          docLink.innerHTML = docLinkHtml;\n",
              "          element.appendChild(docLink);\n",
              "        }\n",
              "      </script>\n",
              "    </div>\n",
              "  </div>\n",
              "  "
            ],
            "text/plain": [
              "     genero dispositivo establecimiento  ... interes_tc is_prime  fraude\n",
              "0         F     ANDROID           Super  ...       51.0    False   False\n",
              "1         F     ANDROID           MPago  ...       51.0    False   False\n",
              "2         F     ANDROID           MPago  ...       56.0    False   False\n",
              "3         F         WEB           MPago  ...       56.0    False   False\n",
              "4         F     ANDROID        Farmacia  ...       56.0    False   False\n",
              "...     ...         ...             ...  ...        ...      ...     ...\n",
              "6904      M         WEB        Farmacia  ...       45.0    False   False\n",
              "6905      M     ANDROID        Farmacia  ...       45.0    False    True\n",
              "6906      M         WEB           Super  ...       45.0    False   False\n",
              "6907      M     ANDROID           MPago  ...       45.0    False   False\n",
              "6908      M     ANDROID           MPago  ...        4.0    False   False\n",
              "\n",
              "[6909 rows x 9 columns]"
            ]
          },
          "metadata": {},
          "execution_count": 152
        }
      ]
    },
    {
      "cell_type": "markdown",
      "source": [
        "## **One-hot encoding y Estandarización**"
      ],
      "metadata": {
        "id": "lm3niBciaRDD"
      }
    },
    {
      "cell_type": "code",
      "source": [
        "numeric_cols = data_customer.select_dtypes(include=['float64', 'int']).columns.to_list()\n",
        "cat_cols = data_customer.select_dtypes(include=['object', 'category', 'bool']).columns.to_list()"
      ],
      "metadata": {
        "id": "4-rn7wW4RD9D"
      },
      "execution_count": 153,
      "outputs": []
    },
    {
      "cell_type": "code",
      "source": [
        "cat_cols"
      ],
      "metadata": {
        "colab": {
          "base_uri": "https://localhost:8080/"
        },
        "id": "alzb07Kj9iAT",
        "outputId": "08c43739-d4fc-4966-ab83-2dc46f9a397d"
      },
      "execution_count": 154,
      "outputs": [
        {
          "output_type": "execute_result",
          "data": {
            "text/plain": [
              "['genero',\n",
              " 'dispositivo',\n",
              " 'establecimiento',\n",
              " 'ciudad',\n",
              " 'tipo_tc',\n",
              " 'is_prime',\n",
              " 'fraude']"
            ]
          },
          "metadata": {},
          "execution_count": 154
        }
      ]
    },
    {
      "cell_type": "code",
      "source": [
        "from sklearn.preprocessing import StandardScaler\n",
        "from sklearn.compose import ColumnTransformer\n",
        "from sklearn.preprocessing import LabelEncoder\n",
        "from sklearn.compose import make_column_selector\n",
        "# Se estandarizan las columnas numéricas y se codifican las categoricas\n",
        "\n",
        "for i in data_customer[cat_cols]:\n",
        "  labelencoder = LabelEncoder()# Assigning numerical values and storing in another column\n",
        "  data_customer[f'{i}_Types'] = labelencoder.fit_transform(data_customer[i])\n",
        "\n",
        "preprocessor = ColumnTransformer(\n",
        "                   [('scale', StandardScaler(), numeric_cols)\n",
        "                    ],\n",
        "                remainder='passthrough')\n",
        "\n",
        "data_prep_customer = preprocessor.fit_transform(data_customer)"
      ],
      "metadata": {
        "id": "XUwJrOOgP5KZ",
        "colab": {
          "base_uri": "https://localhost:8080/"
        },
        "outputId": "107c5515-aca3-4d7a-ac8a-3c6a7c0a3574"
      },
      "execution_count": 155,
      "outputs": [
        {
          "output_type": "stream",
          "name": "stderr",
          "text": [
            "/usr/local/lib/python3.7/dist-packages/ipykernel_launcher.py:9: SettingWithCopyWarning: \n",
            "A value is trying to be set on a copy of a slice from a DataFrame.\n",
            "Try using .loc[row_indexer,col_indexer] = value instead\n",
            "\n",
            "See the caveats in the documentation: https://pandas.pydata.org/pandas-docs/stable/user_guide/indexing.html#returning-a-view-versus-a-copy\n",
            "  if __name__ == '__main__':\n"
          ]
        }
      ]
    },
    {
      "cell_type": "code",
      "source": [
        "data_prep_customer = pd.DataFrame(data_prep_customer)"
      ],
      "metadata": {
        "id": "bteagf3OSCES"
      },
      "execution_count": 157,
      "outputs": []
    },
    {
      "cell_type": "code",
      "source": [
        "data_prep_customer.head(3)"
      ],
      "metadata": {
        "colab": {
          "base_uri": "https://localhost:8080/",
          "height": 143
        },
        "id": "D92izgKzpG6T",
        "outputId": "e58f4bdc-014d-47f2-c222-f98ea818b0e6"
      },
      "execution_count": 158,
      "outputs": [
        {
          "output_type": "execute_result",
          "data": {
            "text/html": [
              "\n",
              "  <div id=\"df-2416a018-09b8-45e5-a5e7-5932c60fc607\">\n",
              "    <div class=\"colab-df-container\">\n",
              "      <div>\n",
              "<style scoped>\n",
              "    .dataframe tbody tr th:only-of-type {\n",
              "        vertical-align: middle;\n",
              "    }\n",
              "\n",
              "    .dataframe tbody tr th {\n",
              "        vertical-align: top;\n",
              "    }\n",
              "\n",
              "    .dataframe thead th {\n",
              "        text-align: right;\n",
              "    }\n",
              "</style>\n",
              "<table border=\"1\" class=\"dataframe\">\n",
              "  <thead>\n",
              "    <tr style=\"text-align: right;\">\n",
              "      <th></th>\n",
              "      <th>0</th>\n",
              "      <th>1</th>\n",
              "      <th>2</th>\n",
              "      <th>3</th>\n",
              "      <th>4</th>\n",
              "      <th>5</th>\n",
              "      <th>6</th>\n",
              "      <th>7</th>\n",
              "      <th>8</th>\n",
              "      <th>9</th>\n",
              "      <th>10</th>\n",
              "      <th>11</th>\n",
              "      <th>12</th>\n",
              "      <th>13</th>\n",
              "      <th>14</th>\n",
              "      <th>15</th>\n",
              "    </tr>\n",
              "  </thead>\n",
              "  <tbody>\n",
              "    <tr>\n",
              "      <th>0</th>\n",
              "      <td>0.377875</td>\n",
              "      <td>0.322654</td>\n",
              "      <td>F</td>\n",
              "      <td>ANDROID</td>\n",
              "      <td>Super</td>\n",
              "      <td>Merida</td>\n",
              "      <td>Fisica</td>\n",
              "      <td>False</td>\n",
              "      <td>False</td>\n",
              "      <td>1</td>\n",
              "      <td>0</td>\n",
              "      <td>4</td>\n",
              "      <td>1</td>\n",
              "      <td>0</td>\n",
              "      <td>0</td>\n",
              "      <td>0</td>\n",
              "    </tr>\n",
              "    <tr>\n",
              "      <th>1</th>\n",
              "      <td>0.377875</td>\n",
              "      <td>0.322654</td>\n",
              "      <td>F</td>\n",
              "      <td>ANDROID</td>\n",
              "      <td>MPago</td>\n",
              "      <td>Merida</td>\n",
              "      <td>Virtual</td>\n",
              "      <td>False</td>\n",
              "      <td>False</td>\n",
              "      <td>1</td>\n",
              "      <td>0</td>\n",
              "      <td>2</td>\n",
              "      <td>1</td>\n",
              "      <td>1</td>\n",
              "      <td>0</td>\n",
              "      <td>0</td>\n",
              "    </tr>\n",
              "    <tr>\n",
              "      <th>2</th>\n",
              "      <td>1.41521</td>\n",
              "      <td>0.846337</td>\n",
              "      <td>F</td>\n",
              "      <td>ANDROID</td>\n",
              "      <td>MPago</td>\n",
              "      <td>Guadalajara</td>\n",
              "      <td>Virtual</td>\n",
              "      <td>False</td>\n",
              "      <td>False</td>\n",
              "      <td>1</td>\n",
              "      <td>0</td>\n",
              "      <td>2</td>\n",
              "      <td>0</td>\n",
              "      <td>1</td>\n",
              "      <td>0</td>\n",
              "      <td>0</td>\n",
              "    </tr>\n",
              "  </tbody>\n",
              "</table>\n",
              "</div>\n",
              "      <button class=\"colab-df-convert\" onclick=\"convertToInteractive('df-2416a018-09b8-45e5-a5e7-5932c60fc607')\"\n",
              "              title=\"Convert this dataframe to an interactive table.\"\n",
              "              style=\"display:none;\">\n",
              "        \n",
              "  <svg xmlns=\"http://www.w3.org/2000/svg\" height=\"24px\"viewBox=\"0 0 24 24\"\n",
              "       width=\"24px\">\n",
              "    <path d=\"M0 0h24v24H0V0z\" fill=\"none\"/>\n",
              "    <path d=\"M18.56 5.44l.94 2.06.94-2.06 2.06-.94-2.06-.94-.94-2.06-.94 2.06-2.06.94zm-11 1L8.5 8.5l.94-2.06 2.06-.94-2.06-.94L8.5 2.5l-.94 2.06-2.06.94zm10 10l.94 2.06.94-2.06 2.06-.94-2.06-.94-.94-2.06-.94 2.06-2.06.94z\"/><path d=\"M17.41 7.96l-1.37-1.37c-.4-.4-.92-.59-1.43-.59-.52 0-1.04.2-1.43.59L10.3 9.45l-7.72 7.72c-.78.78-.78 2.05 0 2.83L4 21.41c.39.39.9.59 1.41.59.51 0 1.02-.2 1.41-.59l7.78-7.78 2.81-2.81c.8-.78.8-2.07 0-2.86zM5.41 20L4 18.59l7.72-7.72 1.47 1.35L5.41 20z\"/>\n",
              "  </svg>\n",
              "      </button>\n",
              "      \n",
              "  <style>\n",
              "    .colab-df-container {\n",
              "      display:flex;\n",
              "      flex-wrap:wrap;\n",
              "      gap: 12px;\n",
              "    }\n",
              "\n",
              "    .colab-df-convert {\n",
              "      background-color: #E8F0FE;\n",
              "      border: none;\n",
              "      border-radius: 50%;\n",
              "      cursor: pointer;\n",
              "      display: none;\n",
              "      fill: #1967D2;\n",
              "      height: 32px;\n",
              "      padding: 0 0 0 0;\n",
              "      width: 32px;\n",
              "    }\n",
              "\n",
              "    .colab-df-convert:hover {\n",
              "      background-color: #E2EBFA;\n",
              "      box-shadow: 0px 1px 2px rgba(60, 64, 67, 0.3), 0px 1px 3px 1px rgba(60, 64, 67, 0.15);\n",
              "      fill: #174EA6;\n",
              "    }\n",
              "\n",
              "    [theme=dark] .colab-df-convert {\n",
              "      background-color: #3B4455;\n",
              "      fill: #D2E3FC;\n",
              "    }\n",
              "\n",
              "    [theme=dark] .colab-df-convert:hover {\n",
              "      background-color: #434B5C;\n",
              "      box-shadow: 0px 1px 3px 1px rgba(0, 0, 0, 0.15);\n",
              "      filter: drop-shadow(0px 1px 2px rgba(0, 0, 0, 0.3));\n",
              "      fill: #FFFFFF;\n",
              "    }\n",
              "  </style>\n",
              "\n",
              "      <script>\n",
              "        const buttonEl =\n",
              "          document.querySelector('#df-2416a018-09b8-45e5-a5e7-5932c60fc607 button.colab-df-convert');\n",
              "        buttonEl.style.display =\n",
              "          google.colab.kernel.accessAllowed ? 'block' : 'none';\n",
              "\n",
              "        async function convertToInteractive(key) {\n",
              "          const element = document.querySelector('#df-2416a018-09b8-45e5-a5e7-5932c60fc607');\n",
              "          const dataTable =\n",
              "            await google.colab.kernel.invokeFunction('convertToInteractive',\n",
              "                                                     [key], {});\n",
              "          if (!dataTable) return;\n",
              "\n",
              "          const docLinkHtml = 'Like what you see? Visit the ' +\n",
              "            '<a target=\"_blank\" href=https://colab.research.google.com/notebooks/data_table.ipynb>data table notebook</a>'\n",
              "            + ' to learn more about interactive tables.';\n",
              "          element.innerHTML = '';\n",
              "          dataTable['output_type'] = 'display_data';\n",
              "          await google.colab.output.renderOutput(dataTable, element);\n",
              "          const docLink = document.createElement('div');\n",
              "          docLink.innerHTML = docLinkHtml;\n",
              "          element.appendChild(docLink);\n",
              "        }\n",
              "      </script>\n",
              "    </div>\n",
              "  </div>\n",
              "  "
            ],
            "text/plain": [
              "         0         1  2        3      4            5   ... 10 11 12 13 14 15\n",
              "0  0.377875  0.322654  F  ANDROID  Super       Merida  ...  0  4  1  0  0  0\n",
              "1  0.377875  0.322654  F  ANDROID  MPago       Merida  ...  0  2  1  1  0  0\n",
              "2   1.41521  0.846337  F  ANDROID  MPago  Guadalajara  ...  0  2  0  1  0  0\n",
              "\n",
              "[3 rows x 16 columns]"
            ]
          },
          "metadata": {},
          "execution_count": 158
        }
      ]
    },
    {
      "cell_type": "code",
      "source": [
        "data_prep_customer.columns = [\"linea_tc\", \"interes_tc\", \"genero\", \"dispositivo\", \"establecimiento\", \n",
        "                              \"ciudad\", 'tipo_tc', 'is_prime', 'fraude', 'genero_Types','dispositivo_Types', 'establecimiento_Types', 'ciudad_Types',\n",
        "                              'tipo_tc_Types', 'is_prime_Types', 'fraude_Types'\n",
        "                              ]\n",
        "data_prep_customer.head(3)                              "
      ],
      "metadata": {
        "colab": {
          "base_uri": "https://localhost:8080/",
          "height": 207
        },
        "id": "AP94Umcw2qpn",
        "outputId": "31a63150-e86c-4158-fc9c-2d079444ab9b"
      },
      "execution_count": 161,
      "outputs": [
        {
          "output_type": "execute_result",
          "data": {
            "text/html": [
              "\n",
              "  <div id=\"df-46c1c6ec-bf81-46b0-9b31-3c222e28c752\">\n",
              "    <div class=\"colab-df-container\">\n",
              "      <div>\n",
              "<style scoped>\n",
              "    .dataframe tbody tr th:only-of-type {\n",
              "        vertical-align: middle;\n",
              "    }\n",
              "\n",
              "    .dataframe tbody tr th {\n",
              "        vertical-align: top;\n",
              "    }\n",
              "\n",
              "    .dataframe thead th {\n",
              "        text-align: right;\n",
              "    }\n",
              "</style>\n",
              "<table border=\"1\" class=\"dataframe\">\n",
              "  <thead>\n",
              "    <tr style=\"text-align: right;\">\n",
              "      <th></th>\n",
              "      <th>linea_tc</th>\n",
              "      <th>interes_tc</th>\n",
              "      <th>genero</th>\n",
              "      <th>dispositivo</th>\n",
              "      <th>establecimiento</th>\n",
              "      <th>ciudad</th>\n",
              "      <th>tipo_tc</th>\n",
              "      <th>is_prime</th>\n",
              "      <th>fraude</th>\n",
              "      <th>genero_Types</th>\n",
              "      <th>dispositivo_Types</th>\n",
              "      <th>establecimiento_Types</th>\n",
              "      <th>ciudad_Types</th>\n",
              "      <th>tipo_tc_Types</th>\n",
              "      <th>is_prime_Types</th>\n",
              "      <th>fraude_Types</th>\n",
              "    </tr>\n",
              "  </thead>\n",
              "  <tbody>\n",
              "    <tr>\n",
              "      <th>0</th>\n",
              "      <td>0.377875</td>\n",
              "      <td>0.322654</td>\n",
              "      <td>F</td>\n",
              "      <td>ANDROID</td>\n",
              "      <td>Super</td>\n",
              "      <td>Merida</td>\n",
              "      <td>Fisica</td>\n",
              "      <td>False</td>\n",
              "      <td>False</td>\n",
              "      <td>1</td>\n",
              "      <td>0</td>\n",
              "      <td>4</td>\n",
              "      <td>1</td>\n",
              "      <td>0</td>\n",
              "      <td>0</td>\n",
              "      <td>0</td>\n",
              "    </tr>\n",
              "    <tr>\n",
              "      <th>1</th>\n",
              "      <td>0.377875</td>\n",
              "      <td>0.322654</td>\n",
              "      <td>F</td>\n",
              "      <td>ANDROID</td>\n",
              "      <td>MPago</td>\n",
              "      <td>Merida</td>\n",
              "      <td>Virtual</td>\n",
              "      <td>False</td>\n",
              "      <td>False</td>\n",
              "      <td>1</td>\n",
              "      <td>0</td>\n",
              "      <td>2</td>\n",
              "      <td>1</td>\n",
              "      <td>1</td>\n",
              "      <td>0</td>\n",
              "      <td>0</td>\n",
              "    </tr>\n",
              "    <tr>\n",
              "      <th>2</th>\n",
              "      <td>1.41521</td>\n",
              "      <td>0.846337</td>\n",
              "      <td>F</td>\n",
              "      <td>ANDROID</td>\n",
              "      <td>MPago</td>\n",
              "      <td>Guadalajara</td>\n",
              "      <td>Virtual</td>\n",
              "      <td>False</td>\n",
              "      <td>False</td>\n",
              "      <td>1</td>\n",
              "      <td>0</td>\n",
              "      <td>2</td>\n",
              "      <td>0</td>\n",
              "      <td>1</td>\n",
              "      <td>0</td>\n",
              "      <td>0</td>\n",
              "    </tr>\n",
              "  </tbody>\n",
              "</table>\n",
              "</div>\n",
              "      <button class=\"colab-df-convert\" onclick=\"convertToInteractive('df-46c1c6ec-bf81-46b0-9b31-3c222e28c752')\"\n",
              "              title=\"Convert this dataframe to an interactive table.\"\n",
              "              style=\"display:none;\">\n",
              "        \n",
              "  <svg xmlns=\"http://www.w3.org/2000/svg\" height=\"24px\"viewBox=\"0 0 24 24\"\n",
              "       width=\"24px\">\n",
              "    <path d=\"M0 0h24v24H0V0z\" fill=\"none\"/>\n",
              "    <path d=\"M18.56 5.44l.94 2.06.94-2.06 2.06-.94-2.06-.94-.94-2.06-.94 2.06-2.06.94zm-11 1L8.5 8.5l.94-2.06 2.06-.94-2.06-.94L8.5 2.5l-.94 2.06-2.06.94zm10 10l.94 2.06.94-2.06 2.06-.94-2.06-.94-.94-2.06-.94 2.06-2.06.94z\"/><path d=\"M17.41 7.96l-1.37-1.37c-.4-.4-.92-.59-1.43-.59-.52 0-1.04.2-1.43.59L10.3 9.45l-7.72 7.72c-.78.78-.78 2.05 0 2.83L4 21.41c.39.39.9.59 1.41.59.51 0 1.02-.2 1.41-.59l7.78-7.78 2.81-2.81c.8-.78.8-2.07 0-2.86zM5.41 20L4 18.59l7.72-7.72 1.47 1.35L5.41 20z\"/>\n",
              "  </svg>\n",
              "      </button>\n",
              "      \n",
              "  <style>\n",
              "    .colab-df-container {\n",
              "      display:flex;\n",
              "      flex-wrap:wrap;\n",
              "      gap: 12px;\n",
              "    }\n",
              "\n",
              "    .colab-df-convert {\n",
              "      background-color: #E8F0FE;\n",
              "      border: none;\n",
              "      border-radius: 50%;\n",
              "      cursor: pointer;\n",
              "      display: none;\n",
              "      fill: #1967D2;\n",
              "      height: 32px;\n",
              "      padding: 0 0 0 0;\n",
              "      width: 32px;\n",
              "    }\n",
              "\n",
              "    .colab-df-convert:hover {\n",
              "      background-color: #E2EBFA;\n",
              "      box-shadow: 0px 1px 2px rgba(60, 64, 67, 0.3), 0px 1px 3px 1px rgba(60, 64, 67, 0.15);\n",
              "      fill: #174EA6;\n",
              "    }\n",
              "\n",
              "    [theme=dark] .colab-df-convert {\n",
              "      background-color: #3B4455;\n",
              "      fill: #D2E3FC;\n",
              "    }\n",
              "\n",
              "    [theme=dark] .colab-df-convert:hover {\n",
              "      background-color: #434B5C;\n",
              "      box-shadow: 0px 1px 3px 1px rgba(0, 0, 0, 0.15);\n",
              "      filter: drop-shadow(0px 1px 2px rgba(0, 0, 0, 0.3));\n",
              "      fill: #FFFFFF;\n",
              "    }\n",
              "  </style>\n",
              "\n",
              "      <script>\n",
              "        const buttonEl =\n",
              "          document.querySelector('#df-46c1c6ec-bf81-46b0-9b31-3c222e28c752 button.colab-df-convert');\n",
              "        buttonEl.style.display =\n",
              "          google.colab.kernel.accessAllowed ? 'block' : 'none';\n",
              "\n",
              "        async function convertToInteractive(key) {\n",
              "          const element = document.querySelector('#df-46c1c6ec-bf81-46b0-9b31-3c222e28c752');\n",
              "          const dataTable =\n",
              "            await google.colab.kernel.invokeFunction('convertToInteractive',\n",
              "                                                     [key], {});\n",
              "          if (!dataTable) return;\n",
              "\n",
              "          const docLinkHtml = 'Like what you see? Visit the ' +\n",
              "            '<a target=\"_blank\" href=https://colab.research.google.com/notebooks/data_table.ipynb>data table notebook</a>'\n",
              "            + ' to learn more about interactive tables.';\n",
              "          element.innerHTML = '';\n",
              "          dataTable['output_type'] = 'display_data';\n",
              "          await google.colab.output.renderOutput(dataTable, element);\n",
              "          const docLink = document.createElement('div');\n",
              "          docLink.innerHTML = docLinkHtml;\n",
              "          element.appendChild(docLink);\n",
              "        }\n",
              "      </script>\n",
              "    </div>\n",
              "  </div>\n",
              "  "
            ],
            "text/plain": [
              "   linea_tc interes_tc genero  ... tipo_tc_Types is_prime_Types fraude_Types\n",
              "0  0.377875   0.322654      F  ...             0              0            0\n",
              "1  0.377875   0.322654      F  ...             1              0            0\n",
              "2   1.41521   0.846337      F  ...             1              0            0\n",
              "\n",
              "[3 rows x 16 columns]"
            ]
          },
          "metadata": {},
          "execution_count": 161
        }
      ]
    },
    {
      "cell_type": "markdown",
      "source": [
        "## **Número óptimo de clústeres**"
      ],
      "metadata": {
        "id": "X0_b6U9NaLLi"
      }
    },
    {
      "cell_type": "code",
      "source": [
        "c = ['genero_Types','dispositivo_Types', 'establecimiento_Types', 'ciudad_Types', 'tipo_tc_Types', 'is_prime_Types']\n",
        "\n",
        "# recoletcar las distorsiones\n",
        "distortions = []\n",
        "K = range(1,10)\n",
        "for k in K:\n",
        " kmeanModel = KMeans(n_clusters=k)\n",
        " kmeanModel.fit(data_prep_customer[c])\n",
        " distortions.append(kmeanModel.inertia_)# graficando las distorsiones\n",
        "plt.figure(figsize=(16,8))\n",
        "plt.plot(K, distortions, 'bx-')\n",
        "plt.xlabel('k')\n",
        "plt.ylabel('Distortion')\n",
        "plt.title('The Elbow Method showing the optimal clusters')\n",
        "plt.show()"
      ],
      "metadata": {
        "colab": {
          "base_uri": "https://localhost:8080/",
          "height": 513
        },
        "id": "13AQOk4IXOVD",
        "outputId": "7175c217-aab9-448f-993e-9799b6346cd3"
      },
      "execution_count": 162,
      "outputs": [
        {
          "output_type": "display_data",
          "data": {
            "image/png": "[encoded data removed]",
            "text/plain": [
              "<Figure size 1152x576 with 1 Axes>"
            ]
          },
          "metadata": {
            "needs_background": "light"
          }
        }
      ]
    },
    {
      "cell_type": "markdown",
      "source": [
        "## **KMEANS**"
      ],
      "metadata": {
        "id": "9eA0WEux6AFX"
      }
    },
    {
      "cell_type": "code",
      "source": [
        "#Taking 4 clusters\n",
        "km1=KMeans(n_clusters=4)\n",
        "#Fitting the input data\n",
        "km1.fit(data_prep_customer[c])\n",
        "#predicting the labels of the input data\n",
        "y=km1.predict(data_prep_customer[c])\n",
        "#adding the labels to a column named label\n",
        "data_prep_customer[\"label\"] = y\n",
        "#The new dataframe with the clustering done\n",
        "data_prep_customer.head()"
      ],
      "metadata": {
        "colab": {
          "base_uri": "https://localhost:8080/",
          "height": 270
        },
        "id": "TRdHUiIC6o4C",
        "outputId": "e6ad84d0-b8e7-4558-a782-29ca79809d7b"
      },
      "execution_count": 163,
      "outputs": [
        {
          "output_type": "execute_result",
          "data": {
            "text/html": [
              "\n",
              "  <div id=\"df-0cf1f5cd-0292-454b-a6d8-d6e196244a4b\">\n",
              "    <div class=\"colab-df-container\">\n",
              "      <div>\n",
              "<style scoped>\n",
              "    .dataframe tbody tr th:only-of-type {\n",
              "        vertical-align: middle;\n",
              "    }\n",
              "\n",
              "    .dataframe tbody tr th {\n",
              "        vertical-align: top;\n",
              "    }\n",
              "\n",
              "    .dataframe thead th {\n",
              "        text-align: right;\n",
              "    }\n",
              "</style>\n",
              "<table border=\"1\" class=\"dataframe\">\n",
              "  <thead>\n",
              "    <tr style=\"text-align: right;\">\n",
              "      <th></th>\n",
              "      <th>linea_tc</th>\n",
              "      <th>interes_tc</th>\n",
              "      <th>genero</th>\n",
              "      <th>dispositivo</th>\n",
              "      <th>establecimiento</th>\n",
              "      <th>ciudad</th>\n",
              "      <th>tipo_tc</th>\n",
              "      <th>is_prime</th>\n",
              "      <th>fraude</th>\n",
              "      <th>genero_Types</th>\n",
              "      <th>dispositivo_Types</th>\n",
              "      <th>establecimiento_Types</th>\n",
              "      <th>ciudad_Types</th>\n",
              "      <th>tipo_tc_Types</th>\n",
              "      <th>is_prime_Types</th>\n",
              "      <th>fraude_Types</th>\n",
              "      <th>label</th>\n",
              "    </tr>\n",
              "  </thead>\n",
              "  <tbody>\n",
              "    <tr>\n",
              "      <th>0</th>\n",
              "      <td>0.377875</td>\n",
              "      <td>0.322654</td>\n",
              "      <td>F</td>\n",
              "      <td>ANDROID</td>\n",
              "      <td>Super</td>\n",
              "      <td>Merida</td>\n",
              "      <td>Fisica</td>\n",
              "      <td>False</td>\n",
              "      <td>False</td>\n",
              "      <td>1</td>\n",
              "      <td>0</td>\n",
              "      <td>4</td>\n",
              "      <td>1</td>\n",
              "      <td>0</td>\n",
              "      <td>0</td>\n",
              "      <td>0</td>\n",
              "      <td>2</td>\n",
              "    </tr>\n",
              "    <tr>\n",
              "      <th>1</th>\n",
              "      <td>0.377875</td>\n",
              "      <td>0.322654</td>\n",
              "      <td>F</td>\n",
              "      <td>ANDROID</td>\n",
              "      <td>MPago</td>\n",
              "      <td>Merida</td>\n",
              "      <td>Virtual</td>\n",
              "      <td>False</td>\n",
              "      <td>False</td>\n",
              "      <td>1</td>\n",
              "      <td>0</td>\n",
              "      <td>2</td>\n",
              "      <td>1</td>\n",
              "      <td>1</td>\n",
              "      <td>0</td>\n",
              "      <td>0</td>\n",
              "      <td>0</td>\n",
              "    </tr>\n",
              "    <tr>\n",
              "      <th>2</th>\n",
              "      <td>1.41521</td>\n",
              "      <td>0.846337</td>\n",
              "      <td>F</td>\n",
              "      <td>ANDROID</td>\n",
              "      <td>MPago</td>\n",
              "      <td>Guadalajara</td>\n",
              "      <td>Virtual</td>\n",
              "      <td>False</td>\n",
              "      <td>False</td>\n",
              "      <td>1</td>\n",
              "      <td>0</td>\n",
              "      <td>2</td>\n",
              "      <td>0</td>\n",
              "      <td>1</td>\n",
              "      <td>0</td>\n",
              "      <td>0</td>\n",
              "      <td>0</td>\n",
              "    </tr>\n",
              "    <tr>\n",
              "      <th>3</th>\n",
              "      <td>1.41521</td>\n",
              "      <td>0.846337</td>\n",
              "      <td>F</td>\n",
              "      <td>WEB</td>\n",
              "      <td>MPago</td>\n",
              "      <td>Guadalajara</td>\n",
              "      <td>Fisica</td>\n",
              "      <td>False</td>\n",
              "      <td>False</td>\n",
              "      <td>1</td>\n",
              "      <td>1</td>\n",
              "      <td>2</td>\n",
              "      <td>0</td>\n",
              "      <td>0</td>\n",
              "      <td>0</td>\n",
              "      <td>0</td>\n",
              "      <td>0</td>\n",
              "    </tr>\n",
              "    <tr>\n",
              "      <th>4</th>\n",
              "      <td>1.41521</td>\n",
              "      <td>0.846337</td>\n",
              "      <td>F</td>\n",
              "      <td>ANDROID</td>\n",
              "      <td>Farmacia</td>\n",
              "      <td>Guadalajara</td>\n",
              "      <td>Fisica</td>\n",
              "      <td>False</td>\n",
              "      <td>False</td>\n",
              "      <td>1</td>\n",
              "      <td>0</td>\n",
              "      <td>1</td>\n",
              "      <td>0</td>\n",
              "      <td>0</td>\n",
              "      <td>0</td>\n",
              "      <td>0</td>\n",
              "      <td>3</td>\n",
              "    </tr>\n",
              "  </tbody>\n",
              "</table>\n",
              "</div>\n",
              "      <button class=\"colab-df-convert\" onclick=\"convertToInteractive('df-0cf1f5cd-0292-454b-a6d8-d6e196244a4b')\"\n",
              "              title=\"Convert this dataframe to an interactive table.\"\n",
              "              style=\"display:none;\">\n",
              "        \n",
              "  <svg xmlns=\"http://www.w3.org/2000/svg\" height=\"24px\"viewBox=\"0 0 24 24\"\n",
              "       width=\"24px\">\n",
              "    <path d=\"M0 0h24v24H0V0z\" fill=\"none\"/>\n",
              "    <path d=\"M18.56 5.44l.94 2.06.94-2.06 2.06-.94-2.06-.94-.94-2.06-.94 2.06-2.06.94zm-11 1L8.5 8.5l.94-2.06 2.06-.94-2.06-.94L8.5 2.5l-.94 2.06-2.06.94zm10 10l.94 2.06.94-2.06 2.06-.94-2.06-.94-.94-2.06-.94 2.06-2.06.94z\"/><path d=\"M17.41 7.96l-1.37-1.37c-.4-.4-.92-.59-1.43-.59-.52 0-1.04.2-1.43.59L10.3 9.45l-7.72 7.72c-.78.78-.78 2.05 0 2.83L4 21.41c.39.39.9.59 1.41.59.51 0 1.02-.2 1.41-.59l7.78-7.78 2.81-2.81c.8-.78.8-2.07 0-2.86zM5.41 20L4 18.59l7.72-7.72 1.47 1.35L5.41 20z\"/>\n",
              "  </svg>\n",
              "      </button>\n",
              "      \n",
              "  <style>\n",
              "    .colab-df-container {\n",
              "      display:flex;\n",
              "      flex-wrap:wrap;\n",
              "      gap: 12px;\n",
              "    }\n",
              "\n",
              "    .colab-df-convert {\n",
              "      background-color: #E8F0FE;\n",
              "      border: none;\n",
              "      border-radius: 50%;\n",
              "      cursor: pointer;\n",
              "      display: none;\n",
              "      fill: #1967D2;\n",
              "      height: 32px;\n",
              "      padding: 0 0 0 0;\n",
              "      width: 32px;\n",
              "    }\n",
              "\n",
              "    .colab-df-convert:hover {\n",
              "      background-color: #E2EBFA;\n",
              "      box-shadow: 0px 1px 2px rgba(60, 64, 67, 0.3), 0px 1px 3px 1px rgba(60, 64, 67, 0.15);\n",
              "      fill: #174EA6;\n",
              "    }\n",
              "\n",
              "    [theme=dark] .colab-df-convert {\n",
              "      background-color: #3B4455;\n",
              "      fill: #D2E3FC;\n",
              "    }\n",
              "\n",
              "    [theme=dark] .colab-df-convert:hover {\n",
              "      background-color: #434B5C;\n",
              "      box-shadow: 0px 1px 3px 1px rgba(0, 0, 0, 0.15);\n",
              "      filter: drop-shadow(0px 1px 2px rgba(0, 0, 0, 0.3));\n",
              "      fill: #FFFFFF;\n",
              "    }\n",
              "  </style>\n",
              "\n",
              "      <script>\n",
              "        const buttonEl =\n",
              "          document.querySelector('#df-0cf1f5cd-0292-454b-a6d8-d6e196244a4b button.colab-df-convert');\n",
              "        buttonEl.style.display =\n",
              "          google.colab.kernel.accessAllowed ? 'block' : 'none';\n",
              "\n",
              "        async function convertToInteractive(key) {\n",
              "          const element = document.querySelector('#df-0cf1f5cd-0292-454b-a6d8-d6e196244a4b');\n",
              "          const dataTable =\n",
              "            await google.colab.kernel.invokeFunction('convertToInteractive',\n",
              "                                                     [key], {});\n",
              "          if (!dataTable) return;\n",
              "\n",
              "          const docLinkHtml = 'Like what you see? Visit the ' +\n",
              "            '<a target=\"_blank\" href=https://colab.research.google.com/notebooks/data_table.ipynb>data table notebook</a>'\n",
              "            + ' to learn more about interactive tables.';\n",
              "          element.innerHTML = '';\n",
              "          dataTable['output_type'] = 'display_data';\n",
              "          await google.colab.output.renderOutput(dataTable, element);\n",
              "          const docLink = document.createElement('div');\n",
              "          docLink.innerHTML = docLinkHtml;\n",
              "          element.appendChild(docLink);\n",
              "        }\n",
              "      </script>\n",
              "    </div>\n",
              "  </div>\n",
              "  "
            ],
            "text/plain": [
              "   linea_tc interes_tc genero  ... is_prime_Types fraude_Types label\n",
              "0  0.377875   0.322654      F  ...              0            0     2\n",
              "1  0.377875   0.322654      F  ...              0            0     0\n",
              "2   1.41521   0.846337      F  ...              0            0     0\n",
              "3   1.41521   0.846337      F  ...              0            0     0\n",
              "4   1.41521   0.846337      F  ...              0            0     3\n",
              "\n",
              "[5 rows x 17 columns]"
            ]
          },
          "metadata": {},
          "execution_count": 163
        }
      ]
    },
    {
      "cell_type": "markdown",
      "source": [
        "## **Categorización de los customers: Visualizacion de los clusteres**"
      ],
      "metadata": {
        "id": "qvwFSwZq6cN_"
      }
    },
    {
      "cell_type": "markdown",
      "source": [
        "### Primer cluster de customers"
      ],
      "metadata": {
        "id": "tmQOiGPZQW1i"
      }
    },
    {
      "cell_type": "code",
      "source": [
        "costumer_cluster1 = data_prep_customer[data_prep_customer['label']==0]\n",
        "len(costumer_cluster1)"
      ],
      "metadata": {
        "colab": {
          "base_uri": "https://localhost:8080/"
        },
        "id": "WRLQjeaYQVPQ",
        "outputId": "2ff223c7-651a-443f-945c-d67844be72d3"
      },
      "execution_count": 164,
      "outputs": [
        {
          "output_type": "execute_result",
          "data": {
            "text/plain": [
              "1941"
            ]
          },
          "metadata": {},
          "execution_count": 164
        }
      ]
    },
    {
      "cell_type": "code",
      "source": [
        "sns.countplot(x='fraude', data = costumer_cluster1, palette='colorblind')\n",
        "plt.title(\"Fraude en cluster 1\")"
      ],
      "metadata": {
        "colab": {
          "base_uri": "https://localhost:8080/",
          "height": 312
        },
        "id": "TOYQiAvw8X9d",
        "outputId": "4035cab3-32da-4bba-cad5-9ce232e858b1"
      },
      "execution_count": 172,
      "outputs": [
        {
          "output_type": "execute_result",
          "data": {
            "text/plain": [
              "Text(0.5, 1.0, 'Fraude en cluster 1')"
            ]
          },
          "metadata": {},
          "execution_count": 172
        },
        {
          "output_type": "display_data",
          "data": {
            "image/png": "[encoded data removed]",
            "text/plain": [
              "<Figure size 432x288 with 1 Axes>"
            ]
          },
          "metadata": {
            "needs_background": "light"
          }
        }
      ]
    },
    {
      "cell_type": "code",
      "source": [
        "fig, ax = plt.subplots(nrows=2, ncols=3, figsize=(20,10))\n",
        "\n",
        "sns.countplot(x='genero', data = costumer_cluster1, palette='colorblind',ax=ax[0][0])\n",
        "ax[0][0].set_title(\"Genero en cluster 1\")\n",
        "sns.countplot(x='dispositivo', data = costumer_cluster1, palette='colorblind',ax=ax[1][0])\n",
        "ax[1][0].set_title('\\n Dispositivos en cluster 1')\n",
        "sns.countplot(x='establecimiento', data = costumer_cluster1, palette='colorblind',ax=ax[0][1])\n",
        "ax[0][1].set_title('Establecimiento en cluster 1');\n",
        "sns.countplot(x='ciudad', data = costumer_cluster1, palette='colorblind',ax=ax[1][1])\n",
        "ax[1][1].set_title('Ciudad en cluster 1');\n",
        "sns.countplot(x='tipo_tc', data = costumer_cluster1, palette='colorblind',ax=ax[0][2])\n",
        "ax[0][2].set_title('tipo_tc en cluster 1');\n",
        "sns.countplot(x='is_prime', data = costumer_cluster1, palette='colorblind',ax=ax[1][2])\n",
        "ax[1][2].set_title('Prime en cluster 1');"
      ],
      "metadata": {
        "id": "yLsU5R99Xlql",
        "colab": {
          "base_uri": "https://localhost:8080/",
          "height": 622
        },
        "outputId": "731e1823-65cd-40f8-eec0-9a75a6172799"
      },
      "execution_count": 125,
      "outputs": [
        {
          "output_type": "display_data",
          "data": {
            "image/png": "[encoded data removed]",
            "text/plain": [
              "<Figure size 1440x720 with 6 Axes>"
            ]
          },
          "metadata": {
            "needs_background": "light"
          }
        }
      ]
    },
    {
      "cell_type": "markdown",
      "source": [
        "- Se puede visualizar que en este cluster hay cierta diferencia en la proporcion de genero de clientes, con mayor predominancia de los varones.\n",
        "- Asimismo, mayor frecuencia de hacer trasferencias en ciertos establecimientos como MPago, restaurante y super.\n",
        "- Y presenta la mayor cantidad de transferencias de tipo física, uso de dispositivo android y clientes prime en todos los clusteres.\n"
      ],
      "metadata": {
        "id": "P2RWuu4763rL"
      }
    },
    {
      "cell_type": "markdown",
      "source": [
        "### Segundo cluster de customers"
      ],
      "metadata": {
        "id": "Ed4eurepSYmG"
      }
    },
    {
      "cell_type": "code",
      "source": [
        "costumer_cluster2 = data_prep_customer[data_prep_customer['label']==1]\n",
        "len(costumer_cluster2)"
      ],
      "metadata": {
        "colab": {
          "base_uri": "https://localhost:8080/"
        },
        "id": "ktclXoT8SnJT",
        "outputId": "63e1f7bb-f844-4491-d87f-4060d3cd2393"
      },
      "execution_count": 174,
      "outputs": [
        {
          "output_type": "execute_result",
          "data": {
            "text/plain": [
              "2140"
            ]
          },
          "metadata": {},
          "execution_count": 174
        }
      ]
    },
    {
      "cell_type": "code",
      "source": [
        "sns.countplot(x='fraude', data = costumer_cluster2, palette='colorblind')\n",
        "plt.title(\"Fraude en cluster 2\")"
      ],
      "metadata": {
        "colab": {
          "base_uri": "https://localhost:8080/",
          "height": 312
        },
        "id": "F5F-D9NH_fFp",
        "outputId": "62c2a400-fb91-42db-b293-444ad1920a18"
      },
      "execution_count": 175,
      "outputs": [
        {
          "output_type": "execute_result",
          "data": {
            "text/plain": [
              "Text(0.5, 1.0, 'Fraude en cluster 2')"
            ]
          },
          "metadata": {},
          "execution_count": 175
        },
        {
          "output_type": "display_data",
          "data": {
            "image/png": "[encoded data removed]",
            "text/plain": [
              "<Figure size 432x288 with 1 Axes>"
            ]
          },
          "metadata": {
            "needs_background": "light"
          }
        }
      ]
    },
    {
      "cell_type": "code",
      "source": [
        "fig, ax = plt.subplots(nrows=2, ncols=3, figsize=(20,10))\n",
        "\n",
        "sns.countplot(x='genero', data = costumer_cluster2, palette='colorblind',ax=ax[0][0])\n",
        "ax[0][0].set_title(\"Genero en cluster 2\")\n",
        "sns.countplot(x='dispositivo', data = costumer_cluster2, palette='colorblind',ax=ax[1][0])\n",
        "ax[1][0].set_title('\\n Dispositivos en cluster 2')\n",
        "sns.countplot(x='establecimiento', data = costumer_cluster2, palette='colorblind',ax=ax[0][1])\n",
        "ax[0][1].set_title('Establecimientos en cluster 2');\n",
        "sns.countplot(x='ciudad', data = costumer_cluster2, palette='colorblind',ax=ax[1][1])\n",
        "ax[1][1].set_title('Ciudades en cluster 2');\n",
        "sns.countplot(x='tipo_tc', data = costumer_cluster2, palette='colorblind',ax=ax[0][2])\n",
        "ax[0][2].set_title('tipo_tc en cluster 2');\n",
        "sns.countplot(x='is_prime', data = costumer_cluster2, palette='colorblind',ax=ax[1][2])\n",
        "ax[1][2].set_title('Prime en cluster 2');"
      ],
      "metadata": {
        "colab": {
          "base_uri": "https://localhost:8080/",
          "height": 622
        },
        "id": "_yvV2TJ51ly-",
        "outputId": "f97e4176-1c47-4a54-9d0e-d89869566697"
      },
      "execution_count": 127,
      "outputs": [
        {
          "output_type": "display_data",
          "data": {
            "image/png": "[encoded data removed]",
            "text/plain": [
              "<Figure size 1440x720 with 6 Axes>"
            ]
          },
          "metadata": {
            "needs_background": "light"
          }
        }
      ]
    },
    {
      "cell_type": "markdown",
      "source": [
        "- En el cluster 2 tambien hay cierta diferencia de genero de clientes, con mayor predominancia de los varones.\n",
        "- Asimismo, mayor frecuencia de hacer trasferencias en establecimientos como Farmacias y abarrotes.\n",
        "- A diferencias del anterior y demas clusteres aqui se observa menos casos de fraude."
      ],
      "metadata": {
        "id": "GlxwuwQL8A6A"
      }
    },
    {
      "cell_type": "markdown",
      "source": [
        "### Tecer cluster de customers"
      ],
      "metadata": {
        "id": "KCoC7zWpS4Ru"
      }
    },
    {
      "cell_type": "code",
      "source": [
        "costumer_cluster3 = data_prep_customer[data_prep_customer['label']==2]\n",
        "len(costumer_cluster3)"
      ],
      "metadata": {
        "colab": {
          "base_uri": "https://localhost:8080/"
        },
        "id": "UmFlp8ahSrOz",
        "outputId": "5fa46df1-d7d7-4715-ac8a-5f6892c3f9a7"
      },
      "execution_count": 177,
      "outputs": [
        {
          "output_type": "execute_result",
          "data": {
            "text/plain": [
              "1285"
            ]
          },
          "metadata": {},
          "execution_count": 177
        }
      ]
    },
    {
      "cell_type": "code",
      "source": [
        "sns.countplot(x='fraude', data = costumer_cluster3, palette='colorblind')\n",
        "plt.title(\"Fraude en cluster 3\")"
      ],
      "metadata": {
        "colab": {
          "base_uri": "https://localhost:8080/",
          "height": 312
        },
        "id": "mxzTa0hM_qAH",
        "outputId": "d07d44b3-2239-4471-b306-7cb30833cf59"
      },
      "execution_count": 178,
      "outputs": [
        {
          "output_type": "execute_result",
          "data": {
            "text/plain": [
              "Text(0.5, 1.0, 'Fraude en cluster 3')"
            ]
          },
          "metadata": {},
          "execution_count": 178
        },
        {
          "output_type": "display_data",
          "data": {
            "image/png": "[encoded data removed]",
            "text/plain": [
              "<Figure size 432x288 with 1 Axes>"
            ]
          },
          "metadata": {
            "needs_background": "light"
          }
        }
      ]
    },
    {
      "cell_type": "code",
      "source": [
        "fig, ax = plt.subplots(nrows=2, ncols=3, figsize=(20,10))\n",
        "\n",
        "sns.countplot(x='genero', data = costumer_cluster3, palette='colorblind',ax=ax[0][0])\n",
        "ax[0][0].set_title(\"Genero en cluster 3\")\n",
        "sns.countplot(x='dispositivo', data = costumer_cluster3, palette='colorblind',ax=ax[1][0])\n",
        "ax[1][0].set_title('\\n Dispositivos en cluster 3')\n",
        "sns.countplot(x='establecimiento', data = costumer_cluster3, palette='colorblind',ax=ax[0][1])\n",
        "ax[0][1].set_title('Establecimientos en cluster 3');\n",
        "sns.countplot(x='ciudad', data = costumer_cluster3, palette='colorblind',ax=ax[1][1])\n",
        "ax[1][1].set_title('Ciudades en cluster 3');\n",
        "sns.countplot(x='tipo_tc', data = costumer_cluster3, palette='colorblind',ax=ax[0][2])\n",
        "ax[0][2].set_title('tipo_tc en cluster 3');\n",
        "sns.countplot(x='is_prime', data = costumer_cluster3, palette='colorblind',ax=ax[1][2])\n",
        "ax[1][2].set_title('Prime en cluster 3');"
      ],
      "metadata": {
        "colab": {
          "base_uri": "https://localhost:8080/",
          "height": 622
        },
        "id": "6TPqE1zM1wwQ",
        "outputId": "8e724c60-51ae-4410-9349-2004322bf1b0"
      },
      "execution_count": 112,
      "outputs": [
        {
          "output_type": "display_data",
          "data": {
            "image/png": "[encoded data removed]",
            "text/plain": [
              "<Figure size 1440x720 with 6 Axes>"
            ]
          },
          "metadata": {
            "needs_background": "light"
          }
        }
      ]
    },
    {
      "cell_type": "markdown",
      "source": [
        "- En el cluster 3 tambien se disminuye la diferencia de genero en los clientes.\n",
        "- Asimismo, mayor frecuencia de hacer trasferencias en establecimientos como Farmacias y abarrotes.\n",
        "- A diferencias del anterior y demas clusteres aqui solo son clientes en las ciudades de Guadalajara y Merida.\n",
        "- Asimismo presenta la menor cantidad de clientes prime en todos los clusteres."
      ],
      "metadata": {
        "id": "IkVGbK-JAJzx"
      }
    },
    {
      "cell_type": "markdown",
      "source": [
        "### Cuarto cluster de customers"
      ],
      "metadata": {
        "id": "UYny6eIES6hj"
      }
    },
    {
      "cell_type": "code",
      "source": [
        "costumer_cluster4 = data_prep_customer[data_prep_customer['label']==3]\n",
        "len(costumer_cluster4)"
      ],
      "metadata": {
        "colab": {
          "base_uri": "https://localhost:8080/"
        },
        "id": "Yn7rJ6Z2Sszv",
        "outputId": "c9642bfe-7039-4b0f-8efd-7a5367ff9063"
      },
      "execution_count": 179,
      "outputs": [
        {
          "output_type": "execute_result",
          "data": {
            "text/plain": [
              "1543"
            ]
          },
          "metadata": {},
          "execution_count": 179
        }
      ]
    },
    {
      "cell_type": "code",
      "source": [
        "sns.countplot(x='fraude', data = costumer_cluster4, palette='colorblind')\n",
        "plt.title(\"Fraude en cluster 4\")"
      ],
      "metadata": {
        "colab": {
          "base_uri": "https://localhost:8080/",
          "height": 312
        },
        "id": "XE1l4an0_yUt",
        "outputId": "260c5453-8df5-4527-e70e-f6a92713e4c5"
      },
      "execution_count": 180,
      "outputs": [
        {
          "output_type": "execute_result",
          "data": {
            "text/plain": [
              "Text(0.5, 1.0, 'Fraude en cluster 4')"
            ]
          },
          "metadata": {},
          "execution_count": 180
        },
        {
          "output_type": "display_data",
          "data": {
            "image/png": "[encoded data removed]",
            "text/plain": [
              "<Figure size 432x288 with 1 Axes>"
            ]
          },
          "metadata": {
            "needs_background": "light"
          }
        }
      ]
    },
    {
      "cell_type": "code",
      "source": [
        "fig, ax = plt.subplots(nrows=2, ncols=3, figsize=(20,10))\n",
        "\n",
        "sns.countplot(x='genero', data = costumer_cluster4, palette='colorblind',ax=ax[0][0])\n",
        "ax[0][0].set_title(\"Genero en cluster 4\")\n",
        "sns.countplot(x='dispositivo', data = costumer_cluster4, palette='colorblind',ax=ax[1][0])\n",
        "ax[1][0].set_title('\\n Dispositivos en cluster 4')\n",
        "sns.countplot(x='establecimiento', data = costumer_cluster4, palette='colorblind',ax=ax[0][1])\n",
        "ax[0][1].set_title('Establecimientos en cluster 4');\n",
        "sns.countplot(x='ciudad', data = costumer_cluster4, palette='colorblind',ax=ax[1][1])\n",
        "ax[1][1].set_title('Ciudades en cluster 4');\n",
        "sns.countplot(x='tipo_tc', data = costumer_cluster4, palette='colorblind',ax=ax[0][2])\n",
        "ax[0][2].set_title('tipo_tc en cluster 4');\n",
        "sns.countplot(x='is_prime', data = costumer_cluster4, palette='colorblind',ax=ax[1][2])\n",
        "ax[1][2].set_title('Prime en cluster 4');"
      ],
      "metadata": {
        "colab": {
          "base_uri": "https://localhost:8080/",
          "height": 622
        },
        "id": "4x3WWMih2Wa_",
        "outputId": "198ac054-e787-4c28-e511-38deedd8f904"
      },
      "execution_count": 113,
      "outputs": [
        {
          "output_type": "display_data",
          "data": {
            "image/png": "[encoded data removed]",
            "text/plain": [
              "<Figure size 1440x720 with 6 Axes>"
            ]
          },
          "metadata": {
            "needs_background": "light"
          }
        }
      ]
    },
    {
      "cell_type": "markdown",
      "source": [
        "- En el cluster 4 tambien se disminuye la diferencia de genero en los clientes.\n",
        "- Asimismo, mayor frecuencia de hacer trasferencias en establecimientos como MPago, abarrotes y super.\n",
        "- Y solo se encuentran clientes en las ciudades de Guadalajara y Merida.\n",
        "- Asimismo presenta pocos clientes prime respecto a los demas clusteres."
      ],
      "metadata": {
        "id": "5qkRz_xiCAun"
      }
    },
    {
      "cell_type": "markdown",
      "source": [
        "### Conclusion"
      ],
      "metadata": {
        "id": "fQs7k9x17woe"
      }
    },
    {
      "cell_type": "markdown",
      "source": [
        "- Se puede categorizar a los clientes, tomando en cuenta el analisis de los clusteres, con los tipos de establecimiento, las ciudades, diferencia de genero y la diferencia en cantidad de clientes prime.\n",
        "- Respecto a las demás variables no se encuentran diferencias con los demas clusteres, pues, se mantiene o es cercana la proporcion en los distintos clausteres, ya sea entre los dispositivos, la proporcion entre los tipos_tc o los casos de fraude."
      ],
      "metadata": {
        "id": "36wUL4kw70Am"
      }
    }
  ]
}