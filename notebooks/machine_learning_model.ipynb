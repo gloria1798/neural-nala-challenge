{
  "nbformat": 4,
  "nbformat_minor": 0,
  "metadata": {
    "colab": {
      "name": "machine learning model.ipynb",
      "provenance": [],
      "collapsed_sections": []
    },
    "kernelspec": {
      "name": "python3",
      "display_name": "Python 3"
    },
    "language_info": {
      "name": "python"
    }
  },
  "cells": [
    {
      "cell_type": "markdown",
      "source": [
        "## **Librerias**"
      ],
      "metadata": {
        "id": "wbS3hizx-Dbs"
      }
    },
    {
      "cell_type": "code",
      "source": [
        "import pandas as pd\n",
        "import numpy as np\n",
        "import string\n",
        "from sklearn.model_selection import train_test_split\n",
        "import sklearn.decomposition\n",
        "import matplotlib.pyplot as plt\n",
        "import math\n",
        "import statistics\n",
        "import sklearn\n",
        "from sklearn import metrics\n",
        "from sklearn.tree import DecisionTreeRegressor\n",
        "from sklearn.naive_bayes import GaussianNB\n",
        "from sklearn.feature_selection import VarianceThreshold ##new added##\n",
        "from sklearn.model_selection import cross_val_score\n",
        "from sklearn.linear_model import LogisticRegression\n",
        "from sklearn.metrics import mean_squared_error, completeness_score\n",
        "from sklearn.neural_network import MLPRegressor\n",
        "from sklearn.preprocessing import StandardScaler\n",
        "from sklearn import tree\n",
        "import graphviz\n",
        "import pydot\n",
        "import pydotplus\n",
        "from sklearn import svm\n",
        "import os\n",
        "import seaborn as sns"
      ],
      "metadata": {
        "id": "5orryE8f5vJ4"
      },
      "execution_count": null,
      "outputs": []
    },
    {
      "cell_type": "markdown",
      "source": [
        "## **Carga de datos**"
      ],
      "metadata": {
        "id": "DW7m1sW_-GgO"
      }
    },
    {
      "cell_type": "code",
      "source": [
        "fraud_data = pd.read_csv(\"/content/drive/MyDrive/Colab Notebooks/fraud_data_complete_final.csv\")\n",
        "fraud_data = fraud_data.drop(fraud_data.columns[0], axis=1)\n",
        "fraud_data.head(7)"
      ],
      "metadata": {
        "colab": {
          "base_uri": "https://localhost:8080/",
          "height": 269
        },
        "id": "8jLTKpn1psxN",
        "outputId": "e0454283-c5e8-4f2f-b13c-cc9490814108"
      },
      "execution_count": null,
      "outputs": [
        {
          "output_type": "execute_result",
          "data": {
            "text/html": [
              "\n",
              "  <div id=\"df-7dcc1447-c55c-490f-950f-ab255c68ad61\">\n",
              "    <div class=\"colab-df-container\">\n",
              "      <div>\n",
              "<style scoped>\n",
              "    .dataframe tbody tr th:only-of-type {\n",
              "        vertical-align: middle;\n",
              "    }\n",
              "\n",
              "    .dataframe tbody tr th {\n",
              "        vertical-align: top;\n",
              "    }\n",
              "\n",
              "    .dataframe thead th {\n",
              "        text-align: right;\n",
              "    }\n",
              "</style>\n",
              "<table border=\"1\" class=\"dataframe\">\n",
              "  <thead>\n",
              "    <tr style=\"text-align: right;\">\n",
              "      <th></th>\n",
              "      <th>ID_USER</th>\n",
              "      <th>genero</th>\n",
              "      <th>monto</th>\n",
              "      <th>fecha</th>\n",
              "      <th>hora</th>\n",
              "      <th>dispositivo</th>\n",
              "      <th>establecimiento</th>\n",
              "      <th>ciudad</th>\n",
              "      <th>tipo_tc</th>\n",
              "      <th>linea_tc</th>\n",
              "      <th>interes_tc</th>\n",
              "      <th>status_txn</th>\n",
              "      <th>is_prime</th>\n",
              "      <th>dcto</th>\n",
              "      <th>cashback</th>\n",
              "      <th>fraude</th>\n",
              "    </tr>\n",
              "  </thead>\n",
              "  <tbody>\n",
              "    <tr>\n",
              "      <th>0</th>\n",
              "      <td>0</td>\n",
              "      <td>F</td>\n",
              "      <td>608.345633</td>\n",
              "      <td>2020-01-21</td>\n",
              "      <td>20</td>\n",
              "      <td>ANDROID</td>\n",
              "      <td>Super</td>\n",
              "      <td>Merida</td>\n",
              "      <td>Fisica</td>\n",
              "      <td>71000.0</td>\n",
              "      <td>51.0</td>\n",
              "      <td>Aceptada</td>\n",
              "      <td>False</td>\n",
              "      <td>60.834563</td>\n",
              "      <td>5.475111</td>\n",
              "      <td>False</td>\n",
              "    </tr>\n",
              "    <tr>\n",
              "      <th>1</th>\n",
              "      <td>0</td>\n",
              "      <td>F</td>\n",
              "      <td>88.719243</td>\n",
              "      <td>2020-01-15</td>\n",
              "      <td>7</td>\n",
              "      <td>ANDROID</td>\n",
              "      <td>MPago</td>\n",
              "      <td>Merida</td>\n",
              "      <td>Virtual</td>\n",
              "      <td>71000.0</td>\n",
              "      <td>51.0</td>\n",
              "      <td>Aceptada</td>\n",
              "      <td>False</td>\n",
              "      <td>0.000000</td>\n",
              "      <td>1.774385</td>\n",
              "      <td>False</td>\n",
              "    </tr>\n",
              "    <tr>\n",
              "      <th>2</th>\n",
              "      <td>1</td>\n",
              "      <td>F</td>\n",
              "      <td>790.037653</td>\n",
              "      <td>2020-01-17</td>\n",
              "      <td>11</td>\n",
              "      <td>ANDROID</td>\n",
              "      <td>MPago</td>\n",
              "      <td>Guadalajara</td>\n",
              "      <td>Virtual</td>\n",
              "      <td>94000.0</td>\n",
              "      <td>56.0</td>\n",
              "      <td>En proceso</td>\n",
              "      <td>False</td>\n",
              "      <td>0.000000</td>\n",
              "      <td>15.800753</td>\n",
              "      <td>False</td>\n",
              "    </tr>\n",
              "    <tr>\n",
              "      <th>3</th>\n",
              "      <td>1</td>\n",
              "      <td>F</td>\n",
              "      <td>767.005387</td>\n",
              "      <td>2020-01-05</td>\n",
              "      <td>11</td>\n",
              "      <td>WEB</td>\n",
              "      <td>MPago</td>\n",
              "      <td>Guadalajara</td>\n",
              "      <td>Fisica</td>\n",
              "      <td>94000.0</td>\n",
              "      <td>56.0</td>\n",
              "      <td>Aceptada</td>\n",
              "      <td>False</td>\n",
              "      <td>0.000000</td>\n",
              "      <td>7.670054</td>\n",
              "      <td>False</td>\n",
              "    </tr>\n",
              "    <tr>\n",
              "      <th>4</th>\n",
              "      <td>1</td>\n",
              "      <td>F</td>\n",
              "      <td>254.171053</td>\n",
              "      <td>2020-01-30</td>\n",
              "      <td>10</td>\n",
              "      <td>ANDROID</td>\n",
              "      <td>Farmacia</td>\n",
              "      <td>Guadalajara</td>\n",
              "      <td>Fisica</td>\n",
              "      <td>94000.0</td>\n",
              "      <td>56.0</td>\n",
              "      <td>Aceptada</td>\n",
              "      <td>False</td>\n",
              "      <td>0.000000</td>\n",
              "      <td>2.541711</td>\n",
              "      <td>False</td>\n",
              "    </tr>\n",
              "    <tr>\n",
              "      <th>5</th>\n",
              "      <td>1</td>\n",
              "      <td>F</td>\n",
              "      <td>37.003747</td>\n",
              "      <td>2020-01-27</td>\n",
              "      <td>3</td>\n",
              "      <td>ANDROID</td>\n",
              "      <td>MPago</td>\n",
              "      <td>Guadalajara</td>\n",
              "      <td>Fisica</td>\n",
              "      <td>94000.0</td>\n",
              "      <td>56.0</td>\n",
              "      <td>Rechazada</td>\n",
              "      <td>False</td>\n",
              "      <td>0.000000</td>\n",
              "      <td>0.370037</td>\n",
              "      <td>False</td>\n",
              "    </tr>\n",
              "    <tr>\n",
              "      <th>6</th>\n",
              "      <td>1</td>\n",
              "      <td>F</td>\n",
              "      <td>334.516017</td>\n",
              "      <td>2020-01-06</td>\n",
              "      <td>2</td>\n",
              "      <td>ANDROID</td>\n",
              "      <td>Abarrotes</td>\n",
              "      <td>Guadalajara</td>\n",
              "      <td>Fisica</td>\n",
              "      <td>94000.0</td>\n",
              "      <td>56.0</td>\n",
              "      <td>Aceptada</td>\n",
              "      <td>False</td>\n",
              "      <td>33.451602</td>\n",
              "      <td>3.010644</td>\n",
              "      <td>False</td>\n",
              "    </tr>\n",
              "  </tbody>\n",
              "</table>\n",
              "</div>\n",
              "      <button class=\"colab-df-convert\" onclick=\"convertToInteractive('df-7dcc1447-c55c-490f-950f-ab255c68ad61')\"\n",
              "              title=\"Convert this dataframe to an interactive table.\"\n",
              "              style=\"display:none;\">\n",
              "        \n",
              "  <svg xmlns=\"http://www.w3.org/2000/svg\" height=\"24px\"viewBox=\"0 0 24 24\"\n",
              "       width=\"24px\">\n",
              "    <path d=\"M0 0h24v24H0V0z\" fill=\"none\"/>\n",
              "    <path d=\"M18.56 5.44l.94 2.06.94-2.06 2.06-.94-2.06-.94-.94-2.06-.94 2.06-2.06.94zm-11 1L8.5 8.5l.94-2.06 2.06-.94-2.06-.94L8.5 2.5l-.94 2.06-2.06.94zm10 10l.94 2.06.94-2.06 2.06-.94-2.06-.94-.94-2.06-.94 2.06-2.06.94z\"/><path d=\"M17.41 7.96l-1.37-1.37c-.4-.4-.92-.59-1.43-.59-.52 0-1.04.2-1.43.59L10.3 9.45l-7.72 7.72c-.78.78-.78 2.05 0 2.83L4 21.41c.39.39.9.59 1.41.59.51 0 1.02-.2 1.41-.59l7.78-7.78 2.81-2.81c.8-.78.8-2.07 0-2.86zM5.41 20L4 18.59l7.72-7.72 1.47 1.35L5.41 20z\"/>\n",
              "  </svg>\n",
              "      </button>\n",
              "      \n",
              "  <style>\n",
              "    .colab-df-container {\n",
              "      display:flex;\n",
              "      flex-wrap:wrap;\n",
              "      gap: 12px;\n",
              "    }\n",
              "\n",
              "    .colab-df-convert {\n",
              "      background-color: #E8F0FE;\n",
              "      border: none;\n",
              "      border-radius: 50%;\n",
              "      cursor: pointer;\n",
              "      display: none;\n",
              "      fill: #1967D2;\n",
              "      height: 32px;\n",
              "      padding: 0 0 0 0;\n",
              "      width: 32px;\n",
              "    }\n",
              "\n",
              "    .colab-df-convert:hover {\n",
              "      background-color: #E2EBFA;\n",
              "      box-shadow: 0px 1px 2px rgba(60, 64, 67, 0.3), 0px 1px 3px 1px rgba(60, 64, 67, 0.15);\n",
              "      fill: #174EA6;\n",
              "    }\n",
              "\n",
              "    [theme=dark] .colab-df-convert {\n",
              "      background-color: #3B4455;\n",
              "      fill: #D2E3FC;\n",
              "    }\n",
              "\n",
              "    [theme=dark] .colab-df-convert:hover {\n",
              "      background-color: #434B5C;\n",
              "      box-shadow: 0px 1px 3px 1px rgba(0, 0, 0, 0.15);\n",
              "      filter: drop-shadow(0px 1px 2px rgba(0, 0, 0, 0.3));\n",
              "      fill: #FFFFFF;\n",
              "    }\n",
              "  </style>\n",
              "\n",
              "      <script>\n",
              "        const buttonEl =\n",
              "          document.querySelector('#df-7dcc1447-c55c-490f-950f-ab255c68ad61 button.colab-df-convert');\n",
              "        buttonEl.style.display =\n",
              "          google.colab.kernel.accessAllowed ? 'block' : 'none';\n",
              "\n",
              "        async function convertToInteractive(key) {\n",
              "          const element = document.querySelector('#df-7dcc1447-c55c-490f-950f-ab255c68ad61');\n",
              "          const dataTable =\n",
              "            await google.colab.kernel.invokeFunction('convertToInteractive',\n",
              "                                                     [key], {});\n",
              "          if (!dataTable) return;\n",
              "\n",
              "          const docLinkHtml = 'Like what you see? Visit the ' +\n",
              "            '<a target=\"_blank\" href=https://colab.research.google.com/notebooks/data_table.ipynb>data table notebook</a>'\n",
              "            + ' to learn more about interactive tables.';\n",
              "          element.innerHTML = '';\n",
              "          dataTable['output_type'] = 'display_data';\n",
              "          await google.colab.output.renderOutput(dataTable, element);\n",
              "          const docLink = document.createElement('div');\n",
              "          docLink.innerHTML = docLinkHtml;\n",
              "          element.appendChild(docLink);\n",
              "        }\n",
              "      </script>\n",
              "    </div>\n",
              "  </div>\n",
              "  "
            ],
            "text/plain": [
              "   ID_USER genero       monto  ...       dcto   cashback fraude\n",
              "0        0      F  608.345633  ...  60.834563   5.475111  False\n",
              "1        0      F   88.719243  ...   0.000000   1.774385  False\n",
              "2        1      F  790.037653  ...   0.000000  15.800753  False\n",
              "3        1      F  767.005387  ...   0.000000   7.670054  False\n",
              "4        1      F  254.171053  ...   0.000000   2.541711  False\n",
              "5        1      F   37.003747  ...   0.000000   0.370037  False\n",
              "6        1      F  334.516017  ...  33.451602   3.010644  False\n",
              "\n",
              "[7 rows x 16 columns]"
            ]
          },
          "metadata": {},
          "execution_count": 43
        }
      ]
    },
    {
      "cell_type": "code",
      "source": [
        "fraud_data.shape"
      ],
      "metadata": {
        "colab": {
          "base_uri": "https://localhost:8080/"
        },
        "id": "bCdaqvTy0BJ1",
        "outputId": "25397f42-d1a2-48ca-eb33-c445b3bc4bdb"
      },
      "execution_count": null,
      "outputs": [
        {
          "output_type": "execute_result",
          "data": {
            "text/plain": [
              "(6909, 16)"
            ]
          },
          "metadata": {},
          "execution_count": 44
        }
      ]
    },
    {
      "cell_type": "code",
      "source": [
        "fraud_data.dtypes"
      ],
      "metadata": {
        "colab": {
          "base_uri": "https://localhost:8080/"
        },
        "id": "rOvjFSW9C3i9",
        "outputId": "7b1a42fc-4b30-4ea7-d79c-4ae8eb9eaa3f"
      },
      "execution_count": null,
      "outputs": [
        {
          "output_type": "execute_result",
          "data": {
            "text/plain": [
              "ID_USER              int64\n",
              "genero              object\n",
              "monto              float64\n",
              "fecha               object\n",
              "hora                 int64\n",
              "dispositivo         object\n",
              "establecimiento     object\n",
              "ciudad              object\n",
              "tipo_tc             object\n",
              "linea_tc           float64\n",
              "interes_tc         float64\n",
              "status_txn          object\n",
              "is_prime              bool\n",
              "dcto               float64\n",
              "cashback           float64\n",
              "fraude                bool\n",
              "dtype: object"
            ]
          },
          "metadata": {},
          "execution_count": 45
        }
      ]
    },
    {
      "cell_type": "markdown",
      "source": [
        "## **Establecer variables predictoras y variable objetivo**"
      ],
      "metadata": {
        "id": "ToyG4-tZkOud"
      }
    },
    {
      "cell_type": "code",
      "source": [
        "y = fraud_data.fraude\n",
        "\n",
        "fraud_data_features = ['dispositivo', 'establecimiento','ciudad', 'tipo_tc', 'linea_tc','interes_tc', 'is_prime']\n",
        "\n",
        "X = fraud_data[fraud_data_features]"
      ],
      "metadata": {
        "id": "XMK8eI_KoRRc"
      },
      "execution_count": null,
      "outputs": []
    },
    {
      "cell_type": "code",
      "source": [
        "X"
      ],
      "metadata": {
        "colab": {
          "base_uri": "https://localhost:8080/",
          "height": 424
        },
        "id": "uTTLlv34kgaG",
        "outputId": "a6472ca6-684a-48e2-d184-2e02dc4c556e"
      },
      "execution_count": null,
      "outputs": [
        {
          "output_type": "execute_result",
          "data": {
            "text/html": [
              "\n",
              "  <div id=\"df-7699901a-79fe-43c7-9a3d-e3de2c8babd7\">\n",
              "    <div class=\"colab-df-container\">\n",
              "      <div>\n",
              "<style scoped>\n",
              "    .dataframe tbody tr th:only-of-type {\n",
              "        vertical-align: middle;\n",
              "    }\n",
              "\n",
              "    .dataframe tbody tr th {\n",
              "        vertical-align: top;\n",
              "    }\n",
              "\n",
              "    .dataframe thead th {\n",
              "        text-align: right;\n",
              "    }\n",
              "</style>\n",
              "<table border=\"1\" class=\"dataframe\">\n",
              "  <thead>\n",
              "    <tr style=\"text-align: right;\">\n",
              "      <th></th>\n",
              "      <th>dispositivo</th>\n",
              "      <th>establecimiento</th>\n",
              "      <th>ciudad</th>\n",
              "      <th>tipo_tc</th>\n",
              "      <th>linea_tc</th>\n",
              "      <th>interes_tc</th>\n",
              "      <th>is_prime</th>\n",
              "    </tr>\n",
              "  </thead>\n",
              "  <tbody>\n",
              "    <tr>\n",
              "      <th>0</th>\n",
              "      <td>ANDROID</td>\n",
              "      <td>Super</td>\n",
              "      <td>Merida</td>\n",
              "      <td>Fisica</td>\n",
              "      <td>71000.0</td>\n",
              "      <td>51.0</td>\n",
              "      <td>False</td>\n",
              "    </tr>\n",
              "    <tr>\n",
              "      <th>1</th>\n",
              "      <td>ANDROID</td>\n",
              "      <td>MPago</td>\n",
              "      <td>Merida</td>\n",
              "      <td>Virtual</td>\n",
              "      <td>71000.0</td>\n",
              "      <td>51.0</td>\n",
              "      <td>False</td>\n",
              "    </tr>\n",
              "    <tr>\n",
              "      <th>2</th>\n",
              "      <td>ANDROID</td>\n",
              "      <td>MPago</td>\n",
              "      <td>Guadalajara</td>\n",
              "      <td>Virtual</td>\n",
              "      <td>94000.0</td>\n",
              "      <td>56.0</td>\n",
              "      <td>False</td>\n",
              "    </tr>\n",
              "    <tr>\n",
              "      <th>3</th>\n",
              "      <td>WEB</td>\n",
              "      <td>MPago</td>\n",
              "      <td>Guadalajara</td>\n",
              "      <td>Fisica</td>\n",
              "      <td>94000.0</td>\n",
              "      <td>56.0</td>\n",
              "      <td>False</td>\n",
              "    </tr>\n",
              "    <tr>\n",
              "      <th>4</th>\n",
              "      <td>ANDROID</td>\n",
              "      <td>Farmacia</td>\n",
              "      <td>Guadalajara</td>\n",
              "      <td>Fisica</td>\n",
              "      <td>94000.0</td>\n",
              "      <td>56.0</td>\n",
              "      <td>False</td>\n",
              "    </tr>\n",
              "    <tr>\n",
              "      <th>...</th>\n",
              "      <td>...</td>\n",
              "      <td>...</td>\n",
              "      <td>...</td>\n",
              "      <td>...</td>\n",
              "      <td>...</td>\n",
              "      <td>...</td>\n",
              "      <td>...</td>\n",
              "    </tr>\n",
              "    <tr>\n",
              "      <th>6904</th>\n",
              "      <td>WEB</td>\n",
              "      <td>Farmacia</td>\n",
              "      <td>Merida</td>\n",
              "      <td>Virtual</td>\n",
              "      <td>94000.0</td>\n",
              "      <td>45.0</td>\n",
              "      <td>False</td>\n",
              "    </tr>\n",
              "    <tr>\n",
              "      <th>6905</th>\n",
              "      <td>ANDROID</td>\n",
              "      <td>Farmacia</td>\n",
              "      <td>Merida</td>\n",
              "      <td>Virtual</td>\n",
              "      <td>94000.0</td>\n",
              "      <td>45.0</td>\n",
              "      <td>False</td>\n",
              "    </tr>\n",
              "    <tr>\n",
              "      <th>6906</th>\n",
              "      <td>WEB</td>\n",
              "      <td>Super</td>\n",
              "      <td>Merida</td>\n",
              "      <td>Fisica</td>\n",
              "      <td>94000.0</td>\n",
              "      <td>45.0</td>\n",
              "      <td>False</td>\n",
              "    </tr>\n",
              "    <tr>\n",
              "      <th>6907</th>\n",
              "      <td>ANDROID</td>\n",
              "      <td>MPago</td>\n",
              "      <td>Monterrey</td>\n",
              "      <td>Fisica</td>\n",
              "      <td>94000.0</td>\n",
              "      <td>45.0</td>\n",
              "      <td>False</td>\n",
              "    </tr>\n",
              "    <tr>\n",
              "      <th>6908</th>\n",
              "      <td>ANDROID</td>\n",
              "      <td>MPago</td>\n",
              "      <td>Guadalajara</td>\n",
              "      <td>Fisica</td>\n",
              "      <td>96000.0</td>\n",
              "      <td>4.0</td>\n",
              "      <td>False</td>\n",
              "    </tr>\n",
              "  </tbody>\n",
              "</table>\n",
              "<p>6909 rows × 7 columns</p>\n",
              "</div>\n",
              "      <button class=\"colab-df-convert\" onclick=\"convertToInteractive('df-7699901a-79fe-43c7-9a3d-e3de2c8babd7')\"\n",
              "              title=\"Convert this dataframe to an interactive table.\"\n",
              "              style=\"display:none;\">\n",
              "        \n",
              "  <svg xmlns=\"http://www.w3.org/2000/svg\" height=\"24px\"viewBox=\"0 0 24 24\"\n",
              "       width=\"24px\">\n",
              "    <path d=\"M0 0h24v24H0V0z\" fill=\"none\"/>\n",
              "    <path d=\"M18.56 5.44l.94 2.06.94-2.06 2.06-.94-2.06-.94-.94-2.06-.94 2.06-2.06.94zm-11 1L8.5 8.5l.94-2.06 2.06-.94-2.06-.94L8.5 2.5l-.94 2.06-2.06.94zm10 10l.94 2.06.94-2.06 2.06-.94-2.06-.94-.94-2.06-.94 2.06-2.06.94z\"/><path d=\"M17.41 7.96l-1.37-1.37c-.4-.4-.92-.59-1.43-.59-.52 0-1.04.2-1.43.59L10.3 9.45l-7.72 7.72c-.78.78-.78 2.05 0 2.83L4 21.41c.39.39.9.59 1.41.59.51 0 1.02-.2 1.41-.59l7.78-7.78 2.81-2.81c.8-.78.8-2.07 0-2.86zM5.41 20L4 18.59l7.72-7.72 1.47 1.35L5.41 20z\"/>\n",
              "  </svg>\n",
              "      </button>\n",
              "      \n",
              "  <style>\n",
              "    .colab-df-container {\n",
              "      display:flex;\n",
              "      flex-wrap:wrap;\n",
              "      gap: 12px;\n",
              "    }\n",
              "\n",
              "    .colab-df-convert {\n",
              "      background-color: #E8F0FE;\n",
              "      border: none;\n",
              "      border-radius: 50%;\n",
              "      cursor: pointer;\n",
              "      display: none;\n",
              "      fill: #1967D2;\n",
              "      height: 32px;\n",
              "      padding: 0 0 0 0;\n",
              "      width: 32px;\n",
              "    }\n",
              "\n",
              "    .colab-df-convert:hover {\n",
              "      background-color: #E2EBFA;\n",
              "      box-shadow: 0px 1px 2px rgba(60, 64, 67, 0.3), 0px 1px 3px 1px rgba(60, 64, 67, 0.15);\n",
              "      fill: #174EA6;\n",
              "    }\n",
              "\n",
              "    [theme=dark] .colab-df-convert {\n",
              "      background-color: #3B4455;\n",
              "      fill: #D2E3FC;\n",
              "    }\n",
              "\n",
              "    [theme=dark] .colab-df-convert:hover {\n",
              "      background-color: #434B5C;\n",
              "      box-shadow: 0px 1px 3px 1px rgba(0, 0, 0, 0.15);\n",
              "      filter: drop-shadow(0px 1px 2px rgba(0, 0, 0, 0.3));\n",
              "      fill: #FFFFFF;\n",
              "    }\n",
              "  </style>\n",
              "\n",
              "      <script>\n",
              "        const buttonEl =\n",
              "          document.querySelector('#df-7699901a-79fe-43c7-9a3d-e3de2c8babd7 button.colab-df-convert');\n",
              "        buttonEl.style.display =\n",
              "          google.colab.kernel.accessAllowed ? 'block' : 'none';\n",
              "\n",
              "        async function convertToInteractive(key) {\n",
              "          const element = document.querySelector('#df-7699901a-79fe-43c7-9a3d-e3de2c8babd7');\n",
              "          const dataTable =\n",
              "            await google.colab.kernel.invokeFunction('convertToInteractive',\n",
              "                                                     [key], {});\n",
              "          if (!dataTable) return;\n",
              "\n",
              "          const docLinkHtml = 'Like what you see? Visit the ' +\n",
              "            '<a target=\"_blank\" href=https://colab.research.google.com/notebooks/data_table.ipynb>data table notebook</a>'\n",
              "            + ' to learn more about interactive tables.';\n",
              "          element.innerHTML = '';\n",
              "          dataTable['output_type'] = 'display_data';\n",
              "          await google.colab.output.renderOutput(dataTable, element);\n",
              "          const docLink = document.createElement('div');\n",
              "          docLink.innerHTML = docLinkHtml;\n",
              "          element.appendChild(docLink);\n",
              "        }\n",
              "      </script>\n",
              "    </div>\n",
              "  </div>\n",
              "  "
            ],
            "text/plain": [
              "     dispositivo establecimiento       ciudad  ... linea_tc  interes_tc  is_prime\n",
              "0        ANDROID           Super       Merida  ...  71000.0        51.0     False\n",
              "1        ANDROID           MPago       Merida  ...  71000.0        51.0     False\n",
              "2        ANDROID           MPago  Guadalajara  ...  94000.0        56.0     False\n",
              "3            WEB           MPago  Guadalajara  ...  94000.0        56.0     False\n",
              "4        ANDROID        Farmacia  Guadalajara  ...  94000.0        56.0     False\n",
              "...          ...             ...          ...  ...      ...         ...       ...\n",
              "6904         WEB        Farmacia       Merida  ...  94000.0        45.0     False\n",
              "6905     ANDROID        Farmacia       Merida  ...  94000.0        45.0     False\n",
              "6906         WEB           Super       Merida  ...  94000.0        45.0     False\n",
              "6907     ANDROID           MPago    Monterrey  ...  94000.0        45.0     False\n",
              "6908     ANDROID           MPago  Guadalajara  ...  96000.0         4.0     False\n",
              "\n",
              "[6909 rows x 7 columns]"
            ]
          },
          "metadata": {},
          "execution_count": 47
        }
      ]
    },
    {
      "cell_type": "markdown",
      "source": [
        "## **Dividir datos para entrenamiento y validacion**"
      ],
      "metadata": {
        "id": "TTjr93sZpT80"
      }
    },
    {
      "cell_type": "code",
      "source": [
        "train_X, val_X, train_y, val_y = train_test_split(X, y, random_state = 0)"
      ],
      "metadata": {
        "id": "ALutGjWqoQzh"
      },
      "execution_count": null,
      "outputs": []
    },
    {
      "cell_type": "markdown",
      "source": [
        "## **One Hot Encoding**"
      ],
      "metadata": {
        "id": "upsC8ptXRebi"
      }
    },
    {
      "cell_type": "markdown",
      "source": [
        "Establecer variables numericas y categoricas"
      ],
      "metadata": {
        "id": "ez3kUZktRpgq"
      }
    },
    {
      "cell_type": "code",
      "source": [
        "numeric_cols = train_X.select_dtypes(include=['float64', 'int', 'bool']).columns.to_list()\n",
        "cat_cols = train_X.select_dtypes(include=['object', 'category']).columns.to_list()"
      ],
      "metadata": {
        "id": "puJe1UFMN8rw"
      },
      "execution_count": null,
      "outputs": []
    },
    {
      "cell_type": "markdown",
      "source": [
        "Usar OneHotEncoder en las variables categoricas\n",
        "\n"
      ],
      "metadata": {
        "id": "GuP8-4k2Rvma"
      }
    },
    {
      "cell_type": "code",
      "source": [
        "from sklearn.compose import ColumnTransformer\n",
        "from sklearn.preprocessing import OneHotEncoder\n",
        "preprocessor = ColumnTransformer(\n",
        "                   [('onehot', OneHotEncoder(handle_unknown='ignore'), cat_cols)],\n",
        "                remainder='passthrough')\n",
        "\n",
        "train_X_prep = preprocessor.fit_transform(train_X)\n",
        "val_X_prep  = preprocessor.transform(val_X)"
      ],
      "metadata": {
        "id": "PhO5abPMGuTs"
      },
      "execution_count": null,
      "outputs": []
    },
    {
      "cell_type": "code",
      "source": [
        "train_X_prep"
      ],
      "metadata": {
        "colab": {
          "base_uri": "https://localhost:8080/"
        },
        "id": "x1gQaxw6TdGa",
        "outputId": "70203dae-a2f8-4ef5-f44c-3e8f3bb83d25"
      },
      "execution_count": null,
      "outputs": [
        {
          "output_type": "execute_result",
          "data": {
            "text/plain": [
              "array([[0.0, 1.0, 1.0, ..., 48000.0, 57.0, False],\n",
              "       [1.0, 0.0, 0.0, ..., 42000.0, 56.0, True],\n",
              "       [1.0, 0.0, 0.0, ..., 80000.0, 52.0, False],\n",
              "       ...,\n",
              "       [0.0, 1.0, 0.0, ..., 45000.0, 63.0, False],\n",
              "       [1.0, 0.0, 0.0, ..., 82000.0, 47.0, False],\n",
              "       [0.0, 1.0, 0.0, ..., 26000.0, 51.0, False]], dtype=object)"
            ]
          },
          "metadata": {},
          "execution_count": 51
        }
      ]
    },
    {
      "cell_type": "markdown",
      "source": [
        "###**Analisis de varianza en las variables predictoras**\n",
        "\n",
        "- Se busca describir las varianza como altas y bajas, donde True : Baja varianza y False: Alta varianza"
      ],
      "metadata": {
        "id": "9Fs_5WKBR3NL"
      }
    },
    {
      "cell_type": "code",
      "source": [
        "selector = VarianceThreshold()\n",
        "selector.fit(train_X_prep)\n",
        "selector.get_support()"
      ],
      "metadata": {
        "colab": {
          "base_uri": "https://localhost:8080/"
        },
        "id": "3T5JjL5prrF9",
        "outputId": "9849659d-c01c-444d-a30f-9859c0fe6653"
      },
      "execution_count": null,
      "outputs": [
        {
          "output_type": "execute_result",
          "data": {
            "text/plain": [
              "array([ True,  True,  True,  True,  True,  True,  True,  True,  True,\n",
              "        True,  True,  True,  True,  True,  True,  True])"
            ]
          },
          "metadata": {},
          "execution_count": 52
        }
      ]
    },
    {
      "cell_type": "markdown",
      "source": [
        "- Colocamos en formato de dataframe con los nombres de la columnas, para visualizar mejor cuales son las variables con alta y baja varianza."
      ],
      "metadata": {
        "id": "oM1fc3QhSRZ_"
      }
    },
    {
      "cell_type": "code",
      "source": [
        "encoded_cat = preprocessor.named_transformers_['onehot'].get_feature_names(cat_cols)\n",
        "labels = np.concatenate([encoded_cat, numeric_cols])\n",
        "\n",
        "datos_val_prep = preprocessor.transform(val_X)\n",
        "datos_val_prep = pd.DataFrame(val_X_prep, columns=labels)\n",
        "\n",
        "datos_train_prep = preprocessor.transform(train_X)\n",
        "datos_train_prep = pd.DataFrame(train_X_prep, columns=labels)\n",
        "datos_train_prep.info()"
      ],
      "metadata": {
        "colab": {
          "base_uri": "https://localhost:8080/"
        },
        "id": "8t18PTlTNEmb",
        "outputId": "434f732d-5dab-4135-ec83-6bd4d7a82296"
      },
      "execution_count": null,
      "outputs": [
        {
          "output_type": "stream",
          "name": "stdout",
          "text": [
            "<class 'pandas.core.frame.DataFrame'>\n",
            "RangeIndex: 5181 entries, 0 to 5180\n",
            "Data columns (total 16 columns):\n",
            " #   Column                       Non-Null Count  Dtype \n",
            "---  ------                       --------------  ----- \n",
            " 0   dispositivo_ANDROID          5181 non-null   object\n",
            " 1   dispositivo_WEB              5181 non-null   object\n",
            " 2   establecimiento_Abarrotes    5181 non-null   object\n",
            " 3   establecimiento_Farmacia     5181 non-null   object\n",
            " 4   establecimiento_MPago        5181 non-null   object\n",
            " 5   establecimiento_Restaurante  5181 non-null   object\n",
            " 6   establecimiento_Super        5181 non-null   object\n",
            " 7   ciudad_Guadalajara           5181 non-null   object\n",
            " 8   ciudad_Merida                5181 non-null   object\n",
            " 9   ciudad_Monterrey             5181 non-null   object\n",
            " 10  ciudad_Toluca                5181 non-null   object\n",
            " 11  tipo_tc_Fisica               5181 non-null   object\n",
            " 12  tipo_tc_Virtual              5181 non-null   object\n",
            " 13  linea_tc                     5181 non-null   object\n",
            " 14  interes_tc                   5181 non-null   object\n",
            " 15  is_prime                     5181 non-null   object\n",
            "dtypes: object(16)\n",
            "memory usage: 647.8+ KB\n"
          ]
        },
        {
          "output_type": "stream",
          "name": "stderr",
          "text": [
            "/usr/local/lib/python3.7/dist-packages/sklearn/utils/deprecation.py:87: FutureWarning: Function get_feature_names is deprecated; get_feature_names is deprecated in 1.0 and will be removed in 1.2. Please use get_feature_names_out instead.\n",
            "  warnings.warn(msg, category=FutureWarning)\n"
          ]
        }
      ]
    },
    {
      "cell_type": "markdown",
      "source": [
        "- Imprimimos las variables con alta varianza"
      ],
      "metadata": {
        "id": "-WNyCIBsSir_"
      }
    },
    {
      "cell_type": "code",
      "source": [
        "selector = VarianceThreshold()\n",
        "selector.fit(datos_train_prep)\n",
        "concol = [column for column in datos_train_prep.columns \n",
        "          if column not in datos_train_prep.columns[selector.get_support()]]\n",
        "\n",
        "print(concol)"
      ],
      "metadata": {
        "colab": {
          "base_uri": "https://localhost:8080/"
        },
        "id": "cRsRNofKMjfn",
        "outputId": "d2f35911-7932-4546-b026-95eed311d569"
      },
      "execution_count": null,
      "outputs": [
        {
          "output_type": "stream",
          "name": "stdout",
          "text": [
            "[]\n"
          ]
        }
      ]
    },
    {
      "cell_type": "markdown",
      "source": [
        "Como se puede verificar, ninguna de las variables tiene alta varianza, lo cual podria afectar al modelo. Es importante que se verifique este procedimiento antes de hacer la estandarizacion."
      ],
      "metadata": {
        "id": "QP9WQ-i5SzLc"
      }
    },
    {
      "cell_type": "markdown",
      "source": [
        "## **Estandarización de las variables numericas**"
      ],
      "metadata": {
        "id": "eYITKEyxTDr-"
      }
    },
    {
      "cell_type": "markdown",
      "source": [
        "Usar StandardScaler"
      ],
      "metadata": {
        "id": "yTrV5fmkY8xv"
      }
    },
    {
      "cell_type": "code",
      "source": [
        "from sklearn.preprocessing import StandardScaler\n",
        "# Se estandarizan las columnas numéricas\n",
        "\n",
        "preprocessor = ColumnTransformer(\n",
        "                   [('scale', StandardScaler(), numeric_cols)],\n",
        "                remainder='passthrough')"
      ],
      "metadata": {
        "id": "4q7Pq8aPI6fD"
      },
      "execution_count": null,
      "outputs": []
    },
    {
      "cell_type": "code",
      "source": [
        "train_X_prep = preprocessor.fit_transform(datos_train_prep)\n",
        "val_X_prep  = preprocessor.transform(datos_val_prep)"
      ],
      "metadata": {
        "id": "KLUcP6tL89QC"
      },
      "execution_count": null,
      "outputs": []
    },
    {
      "cell_type": "code",
      "source": [
        "train_X_prep"
      ],
      "metadata": {
        "colab": {
          "base_uri": "https://localhost:8080/"
        },
        "id": "Fi2hQAiCRWpu",
        "outputId": "77725f88-eb2d-4c17-c7bd-1e30eb307892"
      },
      "execution_count": null,
      "outputs": [
        {
          "output_type": "execute_result",
          "data": {
            "text/plain": [
              "array([[-0.6470078656153512, 0.9454937610043455, -0.3880287220562067,\n",
              "        ..., 0.0, 0.0, 1.0],\n",
              "       [-0.9167767173579179, 0.8411638315906017, 2.577128813302506, ...,\n",
              "        0.0, 0.0, 1.0],\n",
              "       [0.791759343678338, 0.4238441139356265, -0.3880287220562067, ...,\n",
              "        0.0, 1.0, 0.0],\n",
              "       ...,\n",
              "       [-0.7818922914866345, 1.5714733374868082, -0.3880287220562067,\n",
              "        ..., 0.0, 0.0, 1.0],\n",
              "       [0.8816822942591936, -0.09780553313309243, -0.3880287220562067,\n",
              "        ..., 0.0, 1.0, 0.0],\n",
              "       [-1.6361603220047625, 0.31951418452188274, -0.3880287220562067,\n",
              "        ..., 1.0, 1.0, 0.0]], dtype=object)"
            ]
          },
          "metadata": {},
          "execution_count": 57
        }
      ]
    },
    {
      "cell_type": "code",
      "source": [
        "val_X_prep"
      ],
      "metadata": {
        "colab": {
          "base_uri": "https://localhost:8080/"
        },
        "id": "c-nK3iy6VGPe",
        "outputId": "28276ed0-6bf9-41f7-81cf-ad542b2e7eee"
      },
      "execution_count": null,
      "outputs": [
        {
          "output_type": "execute_result",
          "data": {
            "text/plain": [
              "array([[0.7018363930974825, 0.8411638315906017, -0.3880287220562067, ...,\n",
              "        0.0, 0.0, 1.0],\n",
              "       [-1.1415840938100568, -0.6194551802018113, -0.3880287220562067,\n",
              "        ..., 0.0, 1.0, 0.0],\n",
              "       [1.0165667201304769, -0.9324449684430427, -0.3880287220562067,\n",
              "        ..., 0.0, 1.0, 0.0],\n",
              "       ...,\n",
              "       [-0.7818922914866345, 1.2584835492455768, 2.577128813302506, ...,\n",
              "        0.0, 0.0, 1.0],\n",
              "       [1.421219997744327, -0.5151252507880676, -0.3880287220562067, ...,\n",
              "        0.0, 1.0, 0.0],\n",
              "       [0.9716052448400492, 0.21518425510813893, -0.3880287220562067,\n",
              "        ..., 0.0, 0.0, 1.0]], dtype=object)"
            ]
          },
          "metadata": {},
          "execution_count": 58
        }
      ]
    },
    {
      "cell_type": "markdown",
      "source": [
        "# **Evaluando la prediccion con diferentes modelos**"
      ],
      "metadata": {
        "id": "onL2j4YVryTT"
      }
    },
    {
      "cell_type": "markdown",
      "source": [
        "## **Random Forest Model**"
      ],
      "metadata": {
        "id": "FsjPs-_ju0NO"
      }
    },
    {
      "cell_type": "code",
      "source": [
        "from sklearn.ensemble import RandomForestRegressor\n",
        "from sklearn.metrics import mean_absolute_error\n",
        "\n",
        "#max_depth  = 100, n_estimators =1000, n_jobs=1, min_samples_leaf=200\n",
        "randomforest_model = RandomForestRegressor(n_estimators=50, random_state=0)\n",
        "randomforest_model.fit(train_X_prep, train_y)\n",
        "preds = randomforest_model.predict(val_X_prep)\n",
        "\n",
        "print(\"Mean Absolute Error:\") \n",
        "print(mean_absolute_error(val_y, preds))"
      ],
      "metadata": {
        "colab": {
          "base_uri": "https://localhost:8080/"
        },
        "id": "RISHBrlVHDLd",
        "outputId": "d3a402de-363d-46c8-c687-16888d41956d"
      },
      "execution_count": null,
      "outputs": [
        {
          "output_type": "stream",
          "name": "stdout",
          "text": [
            "Mean Absolute Error:\n",
            "0.074184596043103\n"
          ]
        }
      ]
    },
    {
      "cell_type": "code",
      "source": [
        "preds = pd.DataFrame(preds)\n",
        "preds = round(preds, 0)\n",
        "preds = preds.replace(0, False)\n",
        "preds = preds.replace(1, True)\n",
        "preds"
      ],
      "metadata": {
        "id": "xGRUQOLWHHD5"
      },
      "execution_count": null,
      "outputs": []
    },
    {
      "cell_type": "code",
      "source": [
        "confMat_RFM = sklearn.metrics.confusion_matrix(val_y, preds)\n",
        "confMatList_RFM = confMat_RFM.tolist()\n",
        "TN = confMatList_RFM[0][0]\n",
        "TP = confMatList_RFM[1][1]\n",
        "FN = confMatList_RFM[1][0]\n",
        "FP = confMatList_RFM[0][1]\n",
        "\n",
        "accuracy_RFM = (TP + TN)/(TP + FP + FN + TN)\n",
        "recall_RFM = (TP) / (TP + FN)\n",
        "print(\"Accuracy:\", accuracy_RFM)\n",
        "print(\"-\"*50)\n",
        "if (TP + FP) == 0:\n",
        "  print(\"Durante la prediccion no detectó fraudes a pesar de su existencia. No es posible calcular la precision\")\n",
        "else:\n",
        "  precision_RFM = (TP)/(TP + FP)\n",
        "  print(\"Precision: \", precision_RFM)\n",
        "print(\"-\"*50)\n",
        "print(\"Recall:\", recall_RFM)\n",
        "print(\"-\"*50)\n",
        "confMat_RFM"
      ],
      "metadata": {
        "colab": {
          "base_uri": "https://localhost:8080/"
        },
        "id": "GBZ9C1bstgvA",
        "outputId": "ed6365e7-cf47-4abf-ca77-18255f7b7a1a"
      },
      "execution_count": null,
      "outputs": [
        {
          "output_type": "stream",
          "name": "stdout",
          "text": [
            "Accuracy: 0.9594907407407407\n",
            "--------------------------------------------------\n",
            "Precision:  0.0\n",
            "--------------------------------------------------\n",
            "Recall: 0.0\n",
            "--------------------------------------------------\n"
          ]
        },
        {
          "output_type": "execute_result",
          "data": {
            "text/plain": [
              "array([[1658,   12],\n",
              "       [  58,    0]])"
            ]
          },
          "metadata": {},
          "execution_count": 176
        }
      ]
    },
    {
      "cell_type": "markdown",
      "source": [
        "## **Neural Network**"
      ],
      "metadata": {
        "id": "0l1ASS73FbZh"
      }
    },
    {
      "cell_type": "code",
      "source": [
        "neuralnetwork_model = MLPRegressor()\n",
        "neuralnetwork_model.fit(train_X_prep, train_y)\n",
        "y_pred_nn = neuralnetwork_model.predict(val_X_prep)\n",
        "y_pred_nn = np.rint(y_pred_nn)\n",
        "\n",
        "confMat_nn = sklearn.metrics.confusion_matrix(val_y, y_pred_nn)\n",
        "confMatList_nn = confMat_nn.tolist()\n",
        "TN = confMatList_nn[0][0]\n",
        "TP = confMatList_nn[1][1]\n",
        "FN = confMatList_nn[1][0]\n",
        "FP = confMatList_nn[0][1]\n",
        "\n",
        "accuracy_nn = (TP + TN)/(TP + FP + FN + TN)\n",
        "recall_nn = (TP) / (TP + FN)\n",
        "print(\"Accuracy:\", accuracy_nn)\n",
        "print(\"-\"*50)\n",
        "if (TP + FP) == 0:\n",
        "  print(\"Durante la prediccion no detectó fraudes a pesar de su existencia. No es posible calcular la precision\")\n",
        "else:\n",
        "  precision_nn = (TP)/(TP + FP)\n",
        "  print(\"Precision: \", precision_nn)\n",
        "print(\"-\"*50)\n",
        "print(\"Recall:\", recall_nn)\n",
        "print(\"-\"*50)\n",
        "confMat_nn"
      ],
      "metadata": {
        "id": "-lkdzTK7FbAL",
        "colab": {
          "base_uri": "https://localhost:8080/"
        },
        "outputId": "2fb878d9-49bd-40f1-8359-3e0e74c6a0ad"
      },
      "execution_count": null,
      "outputs": [
        {
          "output_type": "stream",
          "name": "stdout",
          "text": [
            "Accuracy: 0.9664351851851852\n",
            "--------------------------------------------------\n",
            "Durante la prediccion no detectó fraudes a pesar de su existencia. No es posible calcular la precision\n",
            "--------------------------------------------------\n",
            "Recall: 0.0\n",
            "--------------------------------------------------\n"
          ]
        },
        {
          "output_type": "execute_result",
          "data": {
            "text/plain": [
              "array([[1670,    0],\n",
              "       [  58,    0]])"
            ]
          },
          "metadata": {},
          "execution_count": 139
        }
      ]
    },
    {
      "cell_type": "markdown",
      "source": [
        "## **Regresion logistica**"
      ],
      "metadata": {
        "id": "06TvFOjT0ffu"
      }
    },
    {
      "cell_type": "code",
      "source": [
        "reglog_model = sklearn.linear_model.LogisticRegression()\n",
        "reglog_model.fit(train_X_prep, train_y)\n",
        "\n",
        "y_pred_reglog = reglog_model.predict(val_X_prep)\n",
        "confmat_reglog = sklearn.metrics.confusion_matrix(val_y, y_pred_reglog)\n",
        "confmatlist_reglog = confmat_reglog.tolist()\n",
        "TN = confmatlist_reglog[0][0]\n",
        "TP = confmatlist_reglog[1][1]\n",
        "FN = confmatlist_reglog[1][0]\n",
        "FP = confmatlist_reglog[0][1]\n",
        "\n",
        "accuracy_reglog = (TP + TN)/(TP + FP + FN + TN)\n",
        "recall_reglog = (TP) / (TP + FN)\n",
        "\n",
        "print(\"Accuracy:\", accuracy_reglog)\n",
        "print(\"-\"*50)\n",
        "if (TP + FP) == 0:\n",
        "  print(\"Durante la prediccion no detectó fraudes a pesar de su existencia. No es posible calcular la precision\")\n",
        "else:\n",
        "  precision_reglog = (TP)/(TP + FP)\n",
        "  print(\"Precision: \", precision_reglog)\n",
        "print(\"-\"*50)\n",
        "print(\"Recall:\", recall_reglog)\n",
        "print(\"-\"*50)\n",
        "confmat_reglog"
      ],
      "metadata": {
        "id": "3ClzqtDA0eUn",
        "colab": {
          "base_uri": "https://localhost:8080/"
        },
        "outputId": "6997e61f-6155-474c-b51b-717ac4b1bfb3"
      },
      "execution_count": null,
      "outputs": [
        {
          "output_type": "stream",
          "name": "stdout",
          "text": [
            "Accuracy: 0.9664351851851852\n",
            "--------------------------------------------------\n",
            "Durante la prediccion no detectó fraudes a pesar de su existencia. No es posible calcular la precision\n",
            "--------------------------------------------------\n",
            "Recall: 0.0\n",
            "--------------------------------------------------\n"
          ]
        },
        {
          "output_type": "execute_result",
          "data": {
            "text/plain": [
              "array([[1670,    0],\n",
              "       [  58,    0]])"
            ]
          },
          "metadata": {},
          "execution_count": 135
        }
      ]
    },
    {
      "cell_type": "markdown",
      "source": [
        "# **¿Cuán bueno es el modelo?**"
      ],
      "metadata": {
        "id": "Lx0cEk3Oq6cd"
      }
    },
    {
      "cell_type": "markdown",
      "source": [
        "De los 3 modelos, el modelo predictivo usando Random Forest arroja datos interpretables para el 'precision' a diferencia de los demas modelos que arrojan datos no deterministicos. Sin embargo, en la deteccion de fraudes verdaderos Random Forest no detecta algún caso a pesar de su existencia. Esto podría deberse a la varianza presente en la variables predictoras, puesto que se encontró que todas tenian varianza baja."
      ],
      "metadata": {
        "id": "Os4YZkWDriNq"
      }
    },
    {
      "cell_type": "code",
      "source": [
        "comparar_tabla = [['Accuracy', round(accuracy_RFM, 2),round(accuracy_nn, 2),round(accuracy_reglog, 2)], ['Precision', precision_RFM,'no determinado','no determinado'], ['Recall',recall_RFM,recall_nn,recall_reglog]]\n",
        "comparar_tabla = pd.DataFrame(comparar_tabla)\n",
        "comparar_tabla.columns = ['Metrica', 'Random Forest', 'Neural Network', 'Regresion Logistica']\n",
        "comparar_tabla"
      ],
      "metadata": {
        "colab": {
          "base_uri": "https://localhost:8080/",
          "height": 143
        },
        "id": "mv9MSVDmDxWX",
        "outputId": "0f20e2f7-ddcd-4207-c0aa-7dd5f9a68bbf"
      },
      "execution_count": null,
      "outputs": [
        {
          "output_type": "execute_result",
          "data": {
            "text/html": [
              "\n",
              "  <div id=\"df-9d0636dd-4931-4d83-a8e6-79b31e734e81\">\n",
              "    <div class=\"colab-df-container\">\n",
              "      <div>\n",
              "<style scoped>\n",
              "    .dataframe tbody tr th:only-of-type {\n",
              "        vertical-align: middle;\n",
              "    }\n",
              "\n",
              "    .dataframe tbody tr th {\n",
              "        vertical-align: top;\n",
              "    }\n",
              "\n",
              "    .dataframe thead th {\n",
              "        text-align: right;\n",
              "    }\n",
              "</style>\n",
              "<table border=\"1\" class=\"dataframe\">\n",
              "  <thead>\n",
              "    <tr style=\"text-align: right;\">\n",
              "      <th></th>\n",
              "      <th>Metrica</th>\n",
              "      <th>Random Forest</th>\n",
              "      <th>Neural Network</th>\n",
              "      <th>Regresion Logistica</th>\n",
              "    </tr>\n",
              "  </thead>\n",
              "  <tbody>\n",
              "    <tr>\n",
              "      <th>0</th>\n",
              "      <td>Accuracy</td>\n",
              "      <td>0.96</td>\n",
              "      <td>0.97</td>\n",
              "      <td>0.97</td>\n",
              "    </tr>\n",
              "    <tr>\n",
              "      <th>1</th>\n",
              "      <td>Precision</td>\n",
              "      <td>0.00</td>\n",
              "      <td>no determinado</td>\n",
              "      <td>no determinado</td>\n",
              "    </tr>\n",
              "    <tr>\n",
              "      <th>2</th>\n",
              "      <td>Recall</td>\n",
              "      <td>0.00</td>\n",
              "      <td>0</td>\n",
              "      <td>0</td>\n",
              "    </tr>\n",
              "  </tbody>\n",
              "</table>\n",
              "</div>\n",
              "      <button class=\"colab-df-convert\" onclick=\"convertToInteractive('df-9d0636dd-4931-4d83-a8e6-79b31e734e81')\"\n",
              "              title=\"Convert this dataframe to an interactive table.\"\n",
              "              style=\"display:none;\">\n",
              "        \n",
              "  <svg xmlns=\"http://www.w3.org/2000/svg\" height=\"24px\"viewBox=\"0 0 24 24\"\n",
              "       width=\"24px\">\n",
              "    <path d=\"M0 0h24v24H0V0z\" fill=\"none\"/>\n",
              "    <path d=\"M18.56 5.44l.94 2.06.94-2.06 2.06-.94-2.06-.94-.94-2.06-.94 2.06-2.06.94zm-11 1L8.5 8.5l.94-2.06 2.06-.94-2.06-.94L8.5 2.5l-.94 2.06-2.06.94zm10 10l.94 2.06.94-2.06 2.06-.94-2.06-.94-.94-2.06-.94 2.06-2.06.94z\"/><path d=\"M17.41 7.96l-1.37-1.37c-.4-.4-.92-.59-1.43-.59-.52 0-1.04.2-1.43.59L10.3 9.45l-7.72 7.72c-.78.78-.78 2.05 0 2.83L4 21.41c.39.39.9.59 1.41.59.51 0 1.02-.2 1.41-.59l7.78-7.78 2.81-2.81c.8-.78.8-2.07 0-2.86zM5.41 20L4 18.59l7.72-7.72 1.47 1.35L5.41 20z\"/>\n",
              "  </svg>\n",
              "      </button>\n",
              "      \n",
              "  <style>\n",
              "    .colab-df-container {\n",
              "      display:flex;\n",
              "      flex-wrap:wrap;\n",
              "      gap: 12px;\n",
              "    }\n",
              "\n",
              "    .colab-df-convert {\n",
              "      background-color: #E8F0FE;\n",
              "      border: none;\n",
              "      border-radius: 50%;\n",
              "      cursor: pointer;\n",
              "      display: none;\n",
              "      fill: #1967D2;\n",
              "      height: 32px;\n",
              "      padding: 0 0 0 0;\n",
              "      width: 32px;\n",
              "    }\n",
              "\n",
              "    .colab-df-convert:hover {\n",
              "      background-color: #E2EBFA;\n",
              "      box-shadow: 0px 1px 2px rgba(60, 64, 67, 0.3), 0px 1px 3px 1px rgba(60, 64, 67, 0.15);\n",
              "      fill: #174EA6;\n",
              "    }\n",
              "\n",
              "    [theme=dark] .colab-df-convert {\n",
              "      background-color: #3B4455;\n",
              "      fill: #D2E3FC;\n",
              "    }\n",
              "\n",
              "    [theme=dark] .colab-df-convert:hover {\n",
              "      background-color: #434B5C;\n",
              "      box-shadow: 0px 1px 3px 1px rgba(0, 0, 0, 0.15);\n",
              "      filter: drop-shadow(0px 1px 2px rgba(0, 0, 0, 0.3));\n",
              "      fill: #FFFFFF;\n",
              "    }\n",
              "  </style>\n",
              "\n",
              "      <script>\n",
              "        const buttonEl =\n",
              "          document.querySelector('#df-9d0636dd-4931-4d83-a8e6-79b31e734e81 button.colab-df-convert');\n",
              "        buttonEl.style.display =\n",
              "          google.colab.kernel.accessAllowed ? 'block' : 'none';\n",
              "\n",
              "        async function convertToInteractive(key) {\n",
              "          const element = document.querySelector('#df-9d0636dd-4931-4d83-a8e6-79b31e734e81');\n",
              "          const dataTable =\n",
              "            await google.colab.kernel.invokeFunction('convertToInteractive',\n",
              "                                                     [key], {});\n",
              "          if (!dataTable) return;\n",
              "\n",
              "          const docLinkHtml = 'Like what you see? Visit the ' +\n",
              "            '<a target=\"_blank\" href=https://colab.research.google.com/notebooks/data_table.ipynb>data table notebook</a>'\n",
              "            + ' to learn more about interactive tables.';\n",
              "          element.innerHTML = '';\n",
              "          dataTable['output_type'] = 'display_data';\n",
              "          await google.colab.output.renderOutput(dataTable, element);\n",
              "          const docLink = document.createElement('div');\n",
              "          docLink.innerHTML = docLinkHtml;\n",
              "          element.appendChild(docLink);\n",
              "        }\n",
              "      </script>\n",
              "    </div>\n",
              "  </div>\n",
              "  "
            ],
            "text/plain": [
              "     Metrica  Random Forest  Neural Network Regresion Logistica\n",
              "0   Accuracy           0.96            0.97                0.97\n",
              "1  Precision           0.00  no determinado      no determinado\n",
              "2     Recall           0.00               0                   0"
            ]
          },
          "metadata": {},
          "execution_count": 148
        }
      ]
    },
    {
      "cell_type": "markdown",
      "source": [
        "# **¿Cuáles son las características más importantes y cómo los valores de las variables influyen en el modelo?**"
      ],
      "metadata": {
        "id": "CQ3lIZlwra82"
      }
    },
    {
      "cell_type": "markdown",
      "source": [
        "Acorde al análisis exploratorio de lo datos, se encontró que las variables 'dispositivo', 'establecimiento','ciudad', 'tipo_tc', 'linea_tc','interes_tc' y 'is_prime' presentaban distribuciones interesantes en los casos de fraude (3.3% del total), aunque no se evidenciaron correlacion fuertes en el mapa de calor. La inclusion de estas variables en el modelo para predecir la presencia de fraude no ha evidenciado buenos resultados en los diferentes modelos evaluados (Random Forest, Neural Network y Regresion Logistica). Ello puede deberse a las caracteristicas de las variables, ya que sus varianzas son bajas. Se recomendaria continuar el analisis, donde pueda resolverse el tema de las varianzas y reevaluar el rendimiento."
      ],
      "metadata": {
        "id": "IOmF_BXzrtiL"
      }
    },
    {
      "cell_type": "markdown",
      "source": [
        "# **Explique la compensación de usar su modelo para detectar estafadores** "
      ],
      "metadata": {
        "id": "WpYnl9-Wri_6"
      }
    },
    {
      "cell_type": "markdown",
      "source": [
        ""
      ],
      "metadata": {
        "id": "Ovjg9bvuLJYq"
      }
    }
  ]
}