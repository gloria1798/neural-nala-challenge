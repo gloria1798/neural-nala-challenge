{
  "nbformat": 4,
  "nbformat_minor": 0,
  "metadata": {
    "colab": {
      "name": "eda.ipynb",
      "provenance": [],
      "collapsed_sections": []
    },
    "kernelspec": {
      "name": "python3",
      "display_name": "Python 3"
    },
    "language_info": {
      "name": "python"
    }
  },
  "cells": [
    {
      "cell_type": "markdown",
      "source": [
        "# **ANALISIS EXPLORATORIO DE DATOS (EDA)**"
      ],
      "metadata": {
        "id": "tx-rkBWehr2W"
      }
    },
    {
      "cell_type": "code",
      "execution_count": 748,
      "metadata": {
        "id": "BvYMyN-NABpM"
      },
      "outputs": [],
      "source": [
        "import pandas as pd\n",
        "import matplotlib.pyplot as plt\n",
        "from matplotlib.patches import Rectangle\n",
        "import numpy as np\n",
        "from pprint import pprint as pp\n",
        "import csv\n",
        "import seaborn as sns"
      ]
    },
    {
      "cell_type": "code",
      "source": [
        "data = pd.read_csv(\"/content/DS Challenge.csv\", sep= \";\")\n",
        "data.head(7)"
      ],
      "metadata": {
        "colab": {
          "base_uri": "https://localhost:8080/",
          "height": 732
        },
        "id": "uUJ4UE8fB3j-",
        "outputId": "56087aeb-014b-407b-88eb-a4063769dda8"
      },
      "execution_count": 749,
      "outputs": [
        {
          "output_type": "execute_result",
          "data": {
            "text/html": [
              "\n",
              "  <div id=\"df-06ea42fd-2451-4454-8262-7194c0058daa\">\n",
              "    <div class=\"colab-df-container\">\n",
              "      <div>\n",
              "<style scoped>\n",
              "    .dataframe tbody tr th:only-of-type {\n",
              "        vertical-align: middle;\n",
              "    }\n",
              "\n",
              "    .dataframe tbody tr th {\n",
              "        vertical-align: top;\n",
              "    }\n",
              "\n",
              "    .dataframe thead th {\n",
              "        text-align: right;\n",
              "    }\n",
              "</style>\n",
              "<table border=\"1\" class=\"dataframe\">\n",
              "  <thead>\n",
              "    <tr style=\"text-align: right;\">\n",
              "      <th></th>\n",
              "      <th>ID_USER</th>\n",
              "      <th>genero</th>\n",
              "      <th>monto</th>\n",
              "      <th>fecha</th>\n",
              "      <th>hora</th>\n",
              "      <th>dispositivo</th>\n",
              "      <th>establecimiento</th>\n",
              "      <th>ciudad</th>\n",
              "      <th>tipo_tc</th>\n",
              "      <th>linea_tc</th>\n",
              "      <th>interes_tc</th>\n",
              "      <th>status_txn</th>\n",
              "      <th>is_prime</th>\n",
              "      <th>dcto</th>\n",
              "      <th>cashback</th>\n",
              "      <th>fraude</th>\n",
              "    </tr>\n",
              "  </thead>\n",
              "  <tbody>\n",
              "    <tr>\n",
              "      <th>0</th>\n",
              "      <td>0</td>\n",
              "      <td>F</td>\n",
              "      <td>608,3456335</td>\n",
              "      <td>21/01/2020</td>\n",
              "      <td>20</td>\n",
              "      <td>{'model': 2020; 'device_score': 3; 'os': 'ANDR...</td>\n",
              "      <td>Super</td>\n",
              "      <td>Merida</td>\n",
              "      <td>FÃ­sica</td>\n",
              "      <td>71000</td>\n",
              "      <td>51</td>\n",
              "      <td>Aceptada</td>\n",
              "      <td>False</td>\n",
              "      <td>60,83456335</td>\n",
              "      <td>5,475110702</td>\n",
              "      <td>False</td>\n",
              "    </tr>\n",
              "    <tr>\n",
              "      <th>1</th>\n",
              "      <td>0</td>\n",
              "      <td>F</td>\n",
              "      <td>88,71924289</td>\n",
              "      <td>15/01/2020</td>\n",
              "      <td>7</td>\n",
              "      <td>{'model': 2020; 'device_score': 1; 'os': 'ANDR...</td>\n",
              "      <td>NaN</td>\n",
              "      <td>Merida</td>\n",
              "      <td>Virtual</td>\n",
              "      <td>71000</td>\n",
              "      <td>51</td>\n",
              "      <td>Aceptada</td>\n",
              "      <td>False</td>\n",
              "      <td>0</td>\n",
              "      <td>1,774384858</td>\n",
              "      <td>False</td>\n",
              "    </tr>\n",
              "    <tr>\n",
              "      <th>2</th>\n",
              "      <td>1</td>\n",
              "      <td>F</td>\n",
              "      <td>790,0376533</td>\n",
              "      <td>17/01/2020</td>\n",
              "      <td>11</td>\n",
              "      <td>{'model': 2020; 'device_score': 1; 'os': ','}</td>\n",
              "      <td>NaN</td>\n",
              "      <td>Guadalajara</td>\n",
              "      <td>Virtual</td>\n",
              "      <td>94000</td>\n",
              "      <td>56</td>\n",
              "      <td>En proceso</td>\n",
              "      <td>False</td>\n",
              "      <td>0</td>\n",
              "      <td>15,80075307</td>\n",
              "      <td>False</td>\n",
              "    </tr>\n",
              "    <tr>\n",
              "      <th>3</th>\n",
              "      <td>1</td>\n",
              "      <td>F</td>\n",
              "      <td>767,0053873</td>\n",
              "      <td>5/01/2020</td>\n",
              "      <td>11</td>\n",
              "      <td>{'model': 2020; 'device_score': 3; 'os': 'WEB'}</td>\n",
              "      <td>MPago</td>\n",
              "      <td>Guadalajara</td>\n",
              "      <td>FÃ­sica</td>\n",
              "      <td>94000</td>\n",
              "      <td>56</td>\n",
              "      <td>Aceptada</td>\n",
              "      <td>False</td>\n",
              "      <td>0</td>\n",
              "      <td>7,670053873</td>\n",
              "      <td>False</td>\n",
              "    </tr>\n",
              "    <tr>\n",
              "      <th>4</th>\n",
              "      <td>1</td>\n",
              "      <td>F</td>\n",
              "      <td>254,1710526</td>\n",
              "      <td>30/01/2020</td>\n",
              "      <td>10</td>\n",
              "      <td>{'model': 2020; 'device_score': 3; 'os': '%%'}</td>\n",
              "      <td>NaN</td>\n",
              "      <td>Guadalajara</td>\n",
              "      <td>FÃ­sica</td>\n",
              "      <td>94000</td>\n",
              "      <td>56</td>\n",
              "      <td>Aceptada</td>\n",
              "      <td>False</td>\n",
              "      <td>0</td>\n",
              "      <td>2,541710526</td>\n",
              "      <td>False</td>\n",
              "    </tr>\n",
              "    <tr>\n",
              "      <th>5</th>\n",
              "      <td>1</td>\n",
              "      <td>F</td>\n",
              "      <td>37,00374724</td>\n",
              "      <td>27/01/2020</td>\n",
              "      <td>3</td>\n",
              "      <td>{'model': 2020; 'device_score': 2; 'os': '%%'}</td>\n",
              "      <td>NaN</td>\n",
              "      <td>Guadalajara</td>\n",
              "      <td>FÃ­sica</td>\n",
              "      <td>94000</td>\n",
              "      <td>56</td>\n",
              "      <td>Rechazada</td>\n",
              "      <td>False</td>\n",
              "      <td>0</td>\n",
              "      <td>0,370037472</td>\n",
              "      <td>False</td>\n",
              "    </tr>\n",
              "    <tr>\n",
              "      <th>6</th>\n",
              "      <td>1</td>\n",
              "      <td>F</td>\n",
              "      <td>334,5160168</td>\n",
              "      <td>6/01/2020</td>\n",
              "      <td>2</td>\n",
              "      <td>{'model': 2020; 'device_score': 1; 'os': '%%'}</td>\n",
              "      <td>Abarrotes</td>\n",
              "      <td>Guadalajara</td>\n",
              "      <td>FÃ­sica</td>\n",
              "      <td>94000</td>\n",
              "      <td>56</td>\n",
              "      <td>Aceptada</td>\n",
              "      <td>False</td>\n",
              "      <td>33,45160168</td>\n",
              "      <td>3,010644152</td>\n",
              "      <td>False</td>\n",
              "    </tr>\n",
              "  </tbody>\n",
              "</table>\n",
              "</div>\n",
              "      <button class=\"colab-df-convert\" onclick=\"convertToInteractive('df-06ea42fd-2451-4454-8262-7194c0058daa')\"\n",
              "              title=\"Convert this dataframe to an interactive table.\"\n",
              "              style=\"display:none;\">\n",
              "        \n",
              "  <svg xmlns=\"http://www.w3.org/2000/svg\" height=\"24px\"viewBox=\"0 0 24 24\"\n",
              "       width=\"24px\">\n",
              "    <path d=\"M0 0h24v24H0V0z\" fill=\"none\"/>\n",
              "    <path d=\"M18.56 5.44l.94 2.06.94-2.06 2.06-.94-2.06-.94-.94-2.06-.94 2.06-2.06.94zm-11 1L8.5 8.5l.94-2.06 2.06-.94-2.06-.94L8.5 2.5l-.94 2.06-2.06.94zm10 10l.94 2.06.94-2.06 2.06-.94-2.06-.94-.94-2.06-.94 2.06-2.06.94z\"/><path d=\"M17.41 7.96l-1.37-1.37c-.4-.4-.92-.59-1.43-.59-.52 0-1.04.2-1.43.59L10.3 9.45l-7.72 7.72c-.78.78-.78 2.05 0 2.83L4 21.41c.39.39.9.59 1.41.59.51 0 1.02-.2 1.41-.59l7.78-7.78 2.81-2.81c.8-.78.8-2.07 0-2.86zM5.41 20L4 18.59l7.72-7.72 1.47 1.35L5.41 20z\"/>\n",
              "  </svg>\n",
              "      </button>\n",
              "      \n",
              "  <style>\n",
              "    .colab-df-container {\n",
              "      display:flex;\n",
              "      flex-wrap:wrap;\n",
              "      gap: 12px;\n",
              "    }\n",
              "\n",
              "    .colab-df-convert {\n",
              "      background-color: #E8F0FE;\n",
              "      border: none;\n",
              "      border-radius: 50%;\n",
              "      cursor: pointer;\n",
              "      display: none;\n",
              "      fill: #1967D2;\n",
              "      height: 32px;\n",
              "      padding: 0 0 0 0;\n",
              "      width: 32px;\n",
              "    }\n",
              "\n",
              "    .colab-df-convert:hover {\n",
              "      background-color: #E2EBFA;\n",
              "      box-shadow: 0px 1px 2px rgba(60, 64, 67, 0.3), 0px 1px 3px 1px rgba(60, 64, 67, 0.15);\n",
              "      fill: #174EA6;\n",
              "    }\n",
              "\n",
              "    [theme=dark] .colab-df-convert {\n",
              "      background-color: #3B4455;\n",
              "      fill: #D2E3FC;\n",
              "    }\n",
              "\n",
              "    [theme=dark] .colab-df-convert:hover {\n",
              "      background-color: #434B5C;\n",
              "      box-shadow: 0px 1px 3px 1px rgba(0, 0, 0, 0.15);\n",
              "      filter: drop-shadow(0px 1px 2px rgba(0, 0, 0, 0.3));\n",
              "      fill: #FFFFFF;\n",
              "    }\n",
              "  </style>\n",
              "\n",
              "      <script>\n",
              "        const buttonEl =\n",
              "          document.querySelector('#df-06ea42fd-2451-4454-8262-7194c0058daa button.colab-df-convert');\n",
              "        buttonEl.style.display =\n",
              "          google.colab.kernel.accessAllowed ? 'block' : 'none';\n",
              "\n",
              "        async function convertToInteractive(key) {\n",
              "          const element = document.querySelector('#df-06ea42fd-2451-4454-8262-7194c0058daa');\n",
              "          const dataTable =\n",
              "            await google.colab.kernel.invokeFunction('convertToInteractive',\n",
              "                                                     [key], {});\n",
              "          if (!dataTable) return;\n",
              "\n",
              "          const docLinkHtml = 'Like what you see? Visit the ' +\n",
              "            '<a target=\"_blank\" href=https://colab.research.google.com/notebooks/data_table.ipynb>data table notebook</a>'\n",
              "            + ' to learn more about interactive tables.';\n",
              "          element.innerHTML = '';\n",
              "          dataTable['output_type'] = 'display_data';\n",
              "          await google.colab.output.renderOutput(dataTable, element);\n",
              "          const docLink = document.createElement('div');\n",
              "          docLink.innerHTML = docLinkHtml;\n",
              "          element.appendChild(docLink);\n",
              "        }\n",
              "      </script>\n",
              "    </div>\n",
              "  </div>\n",
              "  "
            ],
            "text/plain": [
              "   ID_USER genero        monto  ...         dcto     cashback fraude\n",
              "0        0      F  608,3456335  ...  60,83456335  5,475110702  False\n",
              "1        0      F  88,71924289  ...            0  1,774384858  False\n",
              "2        1      F  790,0376533  ...            0  15,80075307  False\n",
              "3        1      F  767,0053873  ...            0  7,670053873  False\n",
              "4        1      F  254,1710526  ...            0  2,541710526  False\n",
              "5        1      F  37,00374724  ...            0  0,370037472  False\n",
              "6        1      F  334,5160168  ...  33,45160168  3,010644152  False\n",
              "\n",
              "[7 rows x 16 columns]"
            ]
          },
          "metadata": {},
          "execution_count": 749
        }
      ]
    },
    {
      "cell_type": "code",
      "source": [
        "data.shape"
      ],
      "metadata": {
        "id": "ioitctROCdDV",
        "colab": {
          "base_uri": "https://localhost:8080/"
        },
        "outputId": "e085f49f-cbf5-4a4a-e702-7134c4c165f5"
      },
      "execution_count": 750,
      "outputs": [
        {
          "output_type": "execute_result",
          "data": {
            "text/plain": [
              "(6909, 16)"
            ]
          },
          "metadata": {},
          "execution_count": 750
        }
      ]
    },
    {
      "cell_type": "markdown",
      "source": [
        "Se puede visualizar en la variable dispositivo que en la parte de 'os'(sistema operativo), algunos no estan bien rellenados.\n",
        "Reemplazaremos los valores ' , '  y ' %% ' que aparecen en el 'os' dentro de la variable \"**dispositivo**\" por el valor 'desconocido' provisionalmente para visualizar mejor los gráficos"
      ],
      "metadata": {
        "id": "kvsPp3t-5Y6H"
      }
    },
    {
      "cell_type": "code",
      "source": [
        "import ast \n",
        "dispositivo = []\n",
        "for i in range(len(data['dispositivo'])):\n",
        "  dispositivo.append(ast.literal_eval(data['dispositivo'][i].replace(';', ','))['os'])\n",
        "data['dispositivo'] = dispositivo\n",
        "\n",
        "# VAMOS A REEMPLAZAR LOS VALORES ',' Y '%%' POR LA ETIQUETA 'desconocido' PARA VISUALIZAR SU PROPORCION\n",
        "data['dispositivo'] = data['dispositivo'].replace(',', 'desconocido')\n",
        "data['dispositivo'] = data['dispositivo'].replace('%%', 'desconocido')\n",
        "data['dispositivo'].unique()"
      ],
      "metadata": {
        "colab": {
          "base_uri": "https://localhost:8080/"
        },
        "id": "BVPpnQ-z5E0D",
        "outputId": "7fd7b866-141e-4f8d-96e2-5170481a95b7"
      },
      "execution_count": 751,
      "outputs": [
        {
          "output_type": "execute_result",
          "data": {
            "text/plain": [
              "array(['ANDROID', 'desconocido', 'WEB'], dtype=object)"
            ]
          },
          "metadata": {},
          "execution_count": 751
        }
      ]
    },
    {
      "cell_type": "markdown",
      "source": [
        "Tambien corregiremos el texto de la variable \"**tipo_tc**\""
      ],
      "metadata": {
        "id": "6YRdp9UQIVHy"
      }
    },
    {
      "cell_type": "code",
      "source": [
        "data['tipo_tc'] = data['tipo_tc'].replace('FÃ­sica', 'Fisica')\n",
        "data['tipo_tc'].head()"
      ],
      "metadata": {
        "colab": {
          "base_uri": "https://localhost:8080/"
        },
        "id": "igbr9jQJIcix",
        "outputId": "560310f4-bd06-4e30-c988-54944b41b402"
      },
      "execution_count": 752,
      "outputs": [
        {
          "output_type": "execute_result",
          "data": {
            "text/plain": [
              "0     Fisica\n",
              "1    Virtual\n",
              "2    Virtual\n",
              "3     Fisica\n",
              "4     Fisica\n",
              "Name: tipo_tc, dtype: object"
            ]
          },
          "metadata": {},
          "execution_count": 752
        }
      ]
    },
    {
      "cell_type": "markdown",
      "source": [
        "En los tipos de datos algunos no son adecuados para lo que realmente representan algunas variables "
      ],
      "metadata": {
        "id": "Pt8JsDxg6Daq"
      }
    },
    {
      "cell_type": "code",
      "source": [
        "data.dtypes"
      ],
      "metadata": {
        "id": "_LbLFaupCiCv",
        "colab": {
          "base_uri": "https://localhost:8080/"
        },
        "outputId": "c6c7d024-d6ce-4b2d-9017-762ef997914c"
      },
      "execution_count": 753,
      "outputs": [
        {
          "output_type": "execute_result",
          "data": {
            "text/plain": [
              "ID_USER             int64\n",
              "genero             object\n",
              "monto              object\n",
              "fecha              object\n",
              "hora                int64\n",
              "dispositivo        object\n",
              "establecimiento    object\n",
              "ciudad             object\n",
              "tipo_tc            object\n",
              "linea_tc            int64\n",
              "interes_tc          int64\n",
              "status_txn         object\n",
              "is_prime           object\n",
              "dcto               object\n",
              "cashback           object\n",
              "fraude             object\n",
              "dtype: object"
            ]
          },
          "metadata": {},
          "execution_count": 753
        }
      ]
    },
    {
      "cell_type": "markdown",
      "source": [
        "### **Correcion del tipo de dato**\n",
        "\n",
        "Para las variables monto, dcto, cashback"
      ],
      "metadata": {
        "id": "qhvCDhGUy8Xi"
      }
    },
    {
      "cell_type": "code",
      "source": [
        "monto = []\n",
        "for item in data['monto']:\n",
        "    monto.append(float(item.replace(',', '.')))\n",
        "data['monto'] = monto\n",
        "\n",
        "dcto = []\n",
        "for item in data['dcto']:\n",
        "    dcto.append(float(str(item).replace(',', '.')))\n",
        "data['dcto'] = dcto\n",
        "\n",
        "cashback = []\n",
        "for item in data['cashback']:\n",
        "    cashback.append(float(str(item).replace(',', '.')))\n",
        "data['cashback'] = cashback\n"
      ],
      "metadata": {
        "id": "-V00VpPAMcei"
      },
      "execution_count": 754,
      "outputs": []
    },
    {
      "cell_type": "markdown",
      "source": [
        "### **Analizando los valores nulos**\n",
        "1. Revisando la cantidad de valores nulos"
      ],
      "metadata": {
        "id": "OPQaBNRV3D8n"
      }
    },
    {
      "cell_type": "code",
      "source": [
        "data.isna().sum()"
      ],
      "metadata": {
        "id": "ubhd2Y51C5Ck",
        "colab": {
          "base_uri": "https://localhost:8080/"
        },
        "outputId": "40140be1-fc4c-4845-bfb4-a10d357f64b4"
      },
      "execution_count": 755,
      "outputs": [
        {
          "output_type": "execute_result",
          "data": {
            "text/plain": [
              "ID_USER               0\n",
              "genero                0\n",
              "monto                 0\n",
              "fecha                 0\n",
              "hora                  0\n",
              "dispositivo           0\n",
              "establecimiento    2588\n",
              "ciudad             3018\n",
              "tipo_tc               0\n",
              "linea_tc              0\n",
              "interes_tc            0\n",
              "status_txn            1\n",
              "is_prime              1\n",
              "dcto                  1\n",
              "cashback              1\n",
              "fraude                1\n",
              "dtype: int64"
            ]
          },
          "metadata": {},
          "execution_count": 755
        }
      ]
    },
    {
      "cell_type": "markdown",
      "source": [
        "2. Dado la cantidad notoria de valores nulos en las variables \"**dispositivo**\" y \"**establecimiento**\", lo rellenaremos provisionalmente con la etiqueta \"**desconocido**\" para visualizar los graficos"
      ],
      "metadata": {
        "id": "nGT2WY2n4MtF"
      }
    },
    {
      "cell_type": "code",
      "source": [
        "data['establecimiento'] = data['establecimiento'].fillna('desconocido')\n",
        "data['ciudad'] = data['ciudad'].fillna('desconocido')"
      ],
      "metadata": {
        "id": "HnRrm1JVlEJ3"
      },
      "execution_count": 756,
      "outputs": []
    },
    {
      "cell_type": "markdown",
      "source": [
        "## **Primeros gráficos**\n",
        "\n"
      ],
      "metadata": {
        "id": "IPDt8bbL6PCI"
      }
    },
    {
      "cell_type": "markdown",
      "source": [
        "Existe un 3.3% del total que son Fraude"
      ],
      "metadata": {
        "id": "3GW20dawPx5v"
      }
    },
    {
      "cell_type": "code",
      "source": [
        "fraude = len(data[data['fraude']==1])\n",
        "nofraude = len(data[data['fraude']==0])\n",
        "\n",
        "## Data to plot\n",
        "labels = 'Fraude','No Fraude'\n",
        "sizes = [fraude, nofraude]\n",
        "\n",
        "#plot\n",
        "plt.figure(figsize=(10,8))\n",
        "plt.pie(sizes,labels=labels,autopct='%1.1f%%', startangle=0)\n",
        "plt.title('Ratio de Fraude Vs. No Fraude \\n', fontsize=20)\n",
        "sns.set_context(\"paper\", font_scale=2)"
      ],
      "metadata": {
        "colab": {
          "base_uri": "https://localhost:8080/",
          "height": 509
        },
        "id": "g9duUGIZkjkz",
        "outputId": "d742f2e0-49b0-4fd1-cee3-66bd20ce55ba"
      },
      "execution_count": 757,
      "outputs": [
        {
          "output_type": "display_data",
          "data": {
            "image/png": "[encoded data removed]",
            "text/plain": [
              "<Figure size 720x576 with 1 Axes>"
            ]
          },
          "metadata": {}
        }
      ]
    },
    {
      "cell_type": "markdown",
      "source": [
        "No se perciben diferencias notorias en la distribucion del \"monto\" en situaciones de fraude y no fraude. Los rangos minimos y maximos en el monto son similares en ambos grupos, con una ligera alza en la proporcion de monto 0-200 en la situacion de fraude."
      ],
      "metadata": {
        "id": "sv85jF3KP3ez"
      }
    },
    {
      "cell_type": "code",
      "source": [
        "fraude_data = data[data['fraude']==True]\n",
        "nofraude_data = data[data['fraude']==False]\n",
        "\n",
        "fig, ax = plt.subplots(nrows=1, ncols=2, figsize=(20,5))\n",
        "\n",
        "sns.distplot(nofraude_data['monto'], color='green', ax=ax[0]);\n",
        "ax[0].set_title(\"Distribucion de monto en situación de NO fraude\")\n",
        "\n",
        "sns.distplot(fraude_data['monto'], color='green', ax=ax[1]);\n",
        "ax[1].set_title(\"Distribucion de monto en situación de Fraude\")"
      ],
      "metadata": {
        "colab": {
          "base_uri": "https://localhost:8080/",
          "height": 480
        },
        "id": "oZbI7XxCCwpQ",
        "outputId": "1e99b487-f417-421f-d1d3-c1483172e0ee"
      },
      "execution_count": 758,
      "outputs": [
        {
          "output_type": "stream",
          "name": "stderr",
          "text": [
            "/usr/local/lib/python3.7/dist-packages/seaborn/distributions.py:2619: FutureWarning: `distplot` is a deprecated function and will be removed in a future version. Please adapt your code to use either `displot` (a figure-level function with similar flexibility) or `histplot` (an axes-level function for histograms).\n",
            "  warnings.warn(msg, FutureWarning)\n",
            "/usr/local/lib/python3.7/dist-packages/seaborn/distributions.py:2619: FutureWarning: `distplot` is a deprecated function and will be removed in a future version. Please adapt your code to use either `displot` (a figure-level function with similar flexibility) or `histplot` (an axes-level function for histograms).\n",
            "  warnings.warn(msg, FutureWarning)\n"
          ]
        },
        {
          "output_type": "execute_result",
          "data": {
            "text/plain": [
              "Text(0.5, 1.0, 'Distribucion de monto en situación de Fraude')"
            ]
          },
          "metadata": {},
          "execution_count": 758
        },
        {
          "output_type": "display_data",
          "data": {
            "image/png": "[encoded data removed]",
            "text/plain": [
              "<Figure size 1440x360 with 2 Axes>"
            ]
          },
          "metadata": {
            "needs_background": "light"
          }
        }
      ]
    },
    {
      "cell_type": "markdown",
      "source": [
        "### Podemos observar los casos de fraude por fecha"
      ],
      "metadata": {
        "id": "3ISRV60SSOHs"
      }
    },
    {
      "cell_type": "code",
      "source": [
        "import datetime\n",
        "\n",
        "date_time = []\n",
        "for item in data['fecha']:\n",
        "    date_time.append(datetime.datetime.strptime(item, '%d/%m/%Y').date())\n",
        "data['fecha'] = date_time "
      ],
      "metadata": {
        "id": "BcvxH-YYQvdc"
      },
      "execution_count": 759,
      "outputs": []
    },
    {
      "cell_type": "code",
      "source": [
        "by_date = fraude_data.sort_values('fecha', ascending=True)\n",
        "\n",
        "plt.figure(figsize= (15,4))\n",
        "sns.countplot(x=by_date['fecha'], data = by_date, palette='colorblind')\n",
        "plt.xticks(size=12, rotation = 'vertical')\n",
        "plt.title(\"Densidad de Fraude por fechas\")"
      ],
      "metadata": {
        "colab": {
          "base_uri": "https://localhost:8080/",
          "height": 386
        },
        "id": "YriifXgQESAE",
        "outputId": "02a783c9-b565-45c7-b902-556243d84121"
      },
      "execution_count": 760,
      "outputs": [
        {
          "output_type": "execute_result",
          "data": {
            "text/plain": [
              "Text(0.5, 1.0, 'Densidad de Fraude por fechas')"
            ]
          },
          "metadata": {},
          "execution_count": 760
        },
        {
          "output_type": "display_data",
          "data": {
            "image/png": "[encoded data removed]",
            "text/plain": [
              "<Figure size 1080x288 with 1 Axes>"
            ]
          },
          "metadata": {
            "needs_background": "light"
          }
        }
      ]
    },
    {
      "cell_type": "code",
      "source": [
        "fig, ax = plt.subplots(nrows=2, ncols=2, figsize=(25,15))\n",
        "\n",
        "sns.countplot(x='establecimiento', hue='fraude', data = data, palette='colorblind',ax=ax[0][0])\n",
        "ax[0][0].set_title(\"Tipos de establecimiento y proporcion de Fraude\")\n",
        "\n",
        "sns.countplot(x='ciudad', hue='fraude', data = data, palette='colorblind',ax=ax[1][0])\n",
        "ax[1][0].set_title('\\n Ciudades y proporcion de Fraude')\n",
        "\n",
        "sns.countplot(x='dispositivo', hue='fraude', data = data, palette='colorblind',ax=ax[0][1])\n",
        "ax[0][1].set_title('Tipos de dispositivo y proporcion de Fraude');\n",
        "\n",
        "sns.countplot(x='is_prime', hue='fraude', data = data, palette='colorblind',ax=ax[1][1])\n",
        "ax[1][1].set_title('Clase prime y proporcion de Fraude');"
      ],
      "metadata": {
        "id": "VCqS9oG4E8DL",
        "colab": {
          "base_uri": "https://localhost:8080/",
          "height": 883
        },
        "outputId": "a33b030a-4a3e-4688-8ea1-373a21f36974"
      },
      "execution_count": 761,
      "outputs": [
        {
          "output_type": "display_data",
          "data": {
            "image/png": "[encoded data removed]",
            "text/plain": [
              "<Figure size 1800x1080 with 4 Axes>"
            ]
          },
          "metadata": {
            "needs_background": "light"
          }
        }
      ]
    },
    {
      "cell_type": "markdown",
      "source": [
        "Los valores que fueron asignado como 'desconocido' en las variables de **ciudad**, **establecimiento** y **dispositivo**, representan una gran proporcion, y no aportan algun dato interesante cuando se le compara en los grupos de fraude y no fraude. Por ende se opta mejor por intentar una imputacion de datos a esos valores 'desconocidos' mediante un metodo de machine learning basado en el algoritmo KNN (k nearest neighbors), para predecir y rellenar sus valores."
      ],
      "metadata": {
        "id": "z1r4gcFLTsAp"
      }
    },
    {
      "cell_type": "markdown",
      "source": [
        "\n",
        "## **Imputación de valores nulos mediante metodo de KNN**"
      ],
      "metadata": {
        "id": "B_W2muS1dqpa"
      }
    },
    {
      "cell_type": "markdown",
      "source": [
        "### **Codificar variables categoricas**"
      ],
      "metadata": {
        "id": "YYLcWbsTs1gI"
      }
    },
    {
      "cell_type": "code",
      "source": [
        "data['establecimiento'] = data['establecimiento'].replace('desconocido', np.nan)\n",
        "data['ciudad'] = data['ciudad'].replace('desconocido', np.nan)\n",
        "data['dispositivo'] = data['dispositivo'].replace('desconocido', np.nan)"
      ],
      "metadata": {
        "id": "IOqvet1oT1LZ"
      },
      "execution_count": 762,
      "outputs": []
    },
    {
      "cell_type": "code",
      "source": [
        "vars_included = data.loc[:, ~data.columns.isin(['ID_USER', 'fecha', 'hora'])].columns"
      ],
      "metadata": {
        "id": "nCJHmZlxOhK-"
      },
      "execution_count": 763,
      "outputs": []
    },
    {
      "cell_type": "code",
      "source": [
        "from sklearn.preprocessing import OrdinalEncoder\n",
        "\n",
        "genero_ordenc = OrdinalEncoder()\n",
        "data['genero'] = genero_ordenc.fit_transform(data[[\"genero\"]])\n",
        "dispo_ordenc = OrdinalEncoder()\n",
        "data[\"dispositivo\"] = dispo_ordenc.fit_transform(data[[\"dispositivo\"]])\n",
        "establ_ordenc = OrdinalEncoder()\n",
        "data[\"establecimiento\"] = establ_ordenc.fit_transform(data[[\"establecimiento\"]])\n",
        "ciu_ordenc = OrdinalEncoder()\n",
        "data[\"ciudad\"] = ciu_ordenc.fit_transform(data[[\"ciudad\"]])\n",
        "tipotc_ordenc = OrdinalEncoder()\n",
        "data[\"tipo_tc\"] = tipotc_ordenc.fit_transform(data[[\"tipo_tc\"]])\n",
        "isprime_ordenc = OrdinalEncoder()\n",
        "data[\"is_prime\"] = isprime_ordenc.fit_transform(data[[\"is_prime\"]])\n",
        "fraude_ordenc = OrdinalEncoder()\n",
        "data[\"fraude\"] = fraude_ordenc.fit_transform(data[[\"fraude\"]])\n",
        "statustxn_ordenc = OrdinalEncoder()\n",
        "data['status_txn'] = statustxn_ordenc.fit_transform(data[[\"status_txn\"]])\n",
        "\n",
        "data[vars_included]"
      ],
      "metadata": {
        "id": "-c38UXzSltvU",
        "colab": {
          "base_uri": "https://localhost:8080/",
          "height": 424
        },
        "outputId": "2c923052-47e1-40dc-cf51-099660a1fe01"
      },
      "execution_count": 764,
      "outputs": [
        {
          "output_type": "execute_result",
          "data": {
            "text/html": [
              "\n",
              "  <div id=\"df-c37da3bc-5d7b-4f94-84fe-47516eabf327\">\n",
              "    <div class=\"colab-df-container\">\n",
              "      <div>\n",
              "<style scoped>\n",
              "    .dataframe tbody tr th:only-of-type {\n",
              "        vertical-align: middle;\n",
              "    }\n",
              "\n",
              "    .dataframe tbody tr th {\n",
              "        vertical-align: top;\n",
              "    }\n",
              "\n",
              "    .dataframe thead th {\n",
              "        text-align: right;\n",
              "    }\n",
              "</style>\n",
              "<table border=\"1\" class=\"dataframe\">\n",
              "  <thead>\n",
              "    <tr style=\"text-align: right;\">\n",
              "      <th></th>\n",
              "      <th>genero</th>\n",
              "      <th>monto</th>\n",
              "      <th>dispositivo</th>\n",
              "      <th>establecimiento</th>\n",
              "      <th>ciudad</th>\n",
              "      <th>tipo_tc</th>\n",
              "      <th>linea_tc</th>\n",
              "      <th>interes_tc</th>\n",
              "      <th>status_txn</th>\n",
              "      <th>is_prime</th>\n",
              "      <th>dcto</th>\n",
              "      <th>cashback</th>\n",
              "      <th>fraude</th>\n",
              "    </tr>\n",
              "  </thead>\n",
              "  <tbody>\n",
              "    <tr>\n",
              "      <th>0</th>\n",
              "      <td>1.0</td>\n",
              "      <td>608.345633</td>\n",
              "      <td>0.0</td>\n",
              "      <td>4.0</td>\n",
              "      <td>1.0</td>\n",
              "      <td>0.0</td>\n",
              "      <td>71000</td>\n",
              "      <td>51</td>\n",
              "      <td>0.0</td>\n",
              "      <td>0.0</td>\n",
              "      <td>60.834563</td>\n",
              "      <td>5.475111</td>\n",
              "      <td>0.0</td>\n",
              "    </tr>\n",
              "    <tr>\n",
              "      <th>1</th>\n",
              "      <td>1.0</td>\n",
              "      <td>88.719243</td>\n",
              "      <td>0.0</td>\n",
              "      <td>NaN</td>\n",
              "      <td>1.0</td>\n",
              "      <td>1.0</td>\n",
              "      <td>71000</td>\n",
              "      <td>51</td>\n",
              "      <td>0.0</td>\n",
              "      <td>0.0</td>\n",
              "      <td>0.000000</td>\n",
              "      <td>1.774385</td>\n",
              "      <td>0.0</td>\n",
              "    </tr>\n",
              "    <tr>\n",
              "      <th>2</th>\n",
              "      <td>1.0</td>\n",
              "      <td>790.037653</td>\n",
              "      <td>NaN</td>\n",
              "      <td>NaN</td>\n",
              "      <td>0.0</td>\n",
              "      <td>1.0</td>\n",
              "      <td>94000</td>\n",
              "      <td>56</td>\n",
              "      <td>1.0</td>\n",
              "      <td>0.0</td>\n",
              "      <td>0.000000</td>\n",
              "      <td>15.800753</td>\n",
              "      <td>0.0</td>\n",
              "    </tr>\n",
              "    <tr>\n",
              "      <th>3</th>\n",
              "      <td>1.0</td>\n",
              "      <td>767.005387</td>\n",
              "      <td>1.0</td>\n",
              "      <td>2.0</td>\n",
              "      <td>0.0</td>\n",
              "      <td>0.0</td>\n",
              "      <td>94000</td>\n",
              "      <td>56</td>\n",
              "      <td>0.0</td>\n",
              "      <td>0.0</td>\n",
              "      <td>0.000000</td>\n",
              "      <td>7.670054</td>\n",
              "      <td>0.0</td>\n",
              "    </tr>\n",
              "    <tr>\n",
              "      <th>4</th>\n",
              "      <td>1.0</td>\n",
              "      <td>254.171053</td>\n",
              "      <td>NaN</td>\n",
              "      <td>NaN</td>\n",
              "      <td>0.0</td>\n",
              "      <td>0.0</td>\n",
              "      <td>94000</td>\n",
              "      <td>56</td>\n",
              "      <td>0.0</td>\n",
              "      <td>0.0</td>\n",
              "      <td>0.000000</td>\n",
              "      <td>2.541711</td>\n",
              "      <td>0.0</td>\n",
              "    </tr>\n",
              "    <tr>\n",
              "      <th>...</th>\n",
              "      <td>...</td>\n",
              "      <td>...</td>\n",
              "      <td>...</td>\n",
              "      <td>...</td>\n",
              "      <td>...</td>\n",
              "      <td>...</td>\n",
              "      <td>...</td>\n",
              "      <td>...</td>\n",
              "      <td>...</td>\n",
              "      <td>...</td>\n",
              "      <td>...</td>\n",
              "      <td>...</td>\n",
              "      <td>...</td>\n",
              "    </tr>\n",
              "    <tr>\n",
              "      <th>6904</th>\n",
              "      <td>2.0</td>\n",
              "      <td>852.563741</td>\n",
              "      <td>1.0</td>\n",
              "      <td>1.0</td>\n",
              "      <td>NaN</td>\n",
              "      <td>1.0</td>\n",
              "      <td>94000</td>\n",
              "      <td>45</td>\n",
              "      <td>2.0</td>\n",
              "      <td>0.0</td>\n",
              "      <td>85.256374</td>\n",
              "      <td>15.346147</td>\n",
              "      <td>0.0</td>\n",
              "    </tr>\n",
              "    <tr>\n",
              "      <th>6905</th>\n",
              "      <td>2.0</td>\n",
              "      <td>755.155504</td>\n",
              "      <td>NaN</td>\n",
              "      <td>NaN</td>\n",
              "      <td>NaN</td>\n",
              "      <td>1.0</td>\n",
              "      <td>94000</td>\n",
              "      <td>45</td>\n",
              "      <td>0.0</td>\n",
              "      <td>0.0</td>\n",
              "      <td>0.000000</td>\n",
              "      <td>15.103110</td>\n",
              "      <td>1.0</td>\n",
              "    </tr>\n",
              "    <tr>\n",
              "      <th>6906</th>\n",
              "      <td>2.0</td>\n",
              "      <td>253.325077</td>\n",
              "      <td>1.0</td>\n",
              "      <td>4.0</td>\n",
              "      <td>NaN</td>\n",
              "      <td>0.0</td>\n",
              "      <td>94000</td>\n",
              "      <td>45</td>\n",
              "      <td>1.0</td>\n",
              "      <td>0.0</td>\n",
              "      <td>0.000000</td>\n",
              "      <td>2.533251</td>\n",
              "      <td>0.0</td>\n",
              "    </tr>\n",
              "    <tr>\n",
              "      <th>6907</th>\n",
              "      <td>2.0</td>\n",
              "      <td>202.956233</td>\n",
              "      <td>NaN</td>\n",
              "      <td>NaN</td>\n",
              "      <td>NaN</td>\n",
              "      <td>0.0</td>\n",
              "      <td>94000</td>\n",
              "      <td>45</td>\n",
              "      <td>0.0</td>\n",
              "      <td>0.0</td>\n",
              "      <td>0.000000</td>\n",
              "      <td>2.029562</td>\n",
              "      <td>0.0</td>\n",
              "    </tr>\n",
              "    <tr>\n",
              "      <th>6908</th>\n",
              "      <td>2.0</td>\n",
              "      <td>564.922733</td>\n",
              "      <td>NaN</td>\n",
              "      <td>NaN</td>\n",
              "      <td>0.0</td>\n",
              "      <td>0.0</td>\n",
              "      <td>96000</td>\n",
              "      <td>4</td>\n",
              "      <td>NaN</td>\n",
              "      <td>NaN</td>\n",
              "      <td>NaN</td>\n",
              "      <td>NaN</td>\n",
              "      <td>NaN</td>\n",
              "    </tr>\n",
              "  </tbody>\n",
              "</table>\n",
              "<p>6909 rows × 13 columns</p>\n",
              "</div>\n",
              "      <button class=\"colab-df-convert\" onclick=\"convertToInteractive('df-c37da3bc-5d7b-4f94-84fe-47516eabf327')\"\n",
              "              title=\"Convert this dataframe to an interactive table.\"\n",
              "              style=\"display:none;\">\n",
              "        \n",
              "  <svg xmlns=\"http://www.w3.org/2000/svg\" height=\"24px\"viewBox=\"0 0 24 24\"\n",
              "       width=\"24px\">\n",
              "    <path d=\"M0 0h24v24H0V0z\" fill=\"none\"/>\n",
              "    <path d=\"M18.56 5.44l.94 2.06.94-2.06 2.06-.94-2.06-.94-.94-2.06-.94 2.06-2.06.94zm-11 1L8.5 8.5l.94-2.06 2.06-.94-2.06-.94L8.5 2.5l-.94 2.06-2.06.94zm10 10l.94 2.06.94-2.06 2.06-.94-2.06-.94-.94-2.06-.94 2.06-2.06.94z\"/><path d=\"M17.41 7.96l-1.37-1.37c-.4-.4-.92-.59-1.43-.59-.52 0-1.04.2-1.43.59L10.3 9.45l-7.72 7.72c-.78.78-.78 2.05 0 2.83L4 21.41c.39.39.9.59 1.41.59.51 0 1.02-.2 1.41-.59l7.78-7.78 2.81-2.81c.8-.78.8-2.07 0-2.86zM5.41 20L4 18.59l7.72-7.72 1.47 1.35L5.41 20z\"/>\n",
              "  </svg>\n",
              "      </button>\n",
              "      \n",
              "  <style>\n",
              "    .colab-df-container {\n",
              "      display:flex;\n",
              "      flex-wrap:wrap;\n",
              "      gap: 12px;\n",
              "    }\n",
              "\n",
              "    .colab-df-convert {\n",
              "      background-color: #E8F0FE;\n",
              "      border: none;\n",
              "      border-radius: 50%;\n",
              "      cursor: pointer;\n",
              "      display: none;\n",
              "      fill: #1967D2;\n",
              "      height: 32px;\n",
              "      padding: 0 0 0 0;\n",
              "      width: 32px;\n",
              "    }\n",
              "\n",
              "    .colab-df-convert:hover {\n",
              "      background-color: #E2EBFA;\n",
              "      box-shadow: 0px 1px 2px rgba(60, 64, 67, 0.3), 0px 1px 3px 1px rgba(60, 64, 67, 0.15);\n",
              "      fill: #174EA6;\n",
              "    }\n",
              "\n",
              "    [theme=dark] .colab-df-convert {\n",
              "      background-color: #3B4455;\n",
              "      fill: #D2E3FC;\n",
              "    }\n",
              "\n",
              "    [theme=dark] .colab-df-convert:hover {\n",
              "      background-color: #434B5C;\n",
              "      box-shadow: 0px 1px 3px 1px rgba(0, 0, 0, 0.15);\n",
              "      filter: drop-shadow(0px 1px 2px rgba(0, 0, 0, 0.3));\n",
              "      fill: #FFFFFF;\n",
              "    }\n",
              "  </style>\n",
              "\n",
              "      <script>\n",
              "        const buttonEl =\n",
              "          document.querySelector('#df-c37da3bc-5d7b-4f94-84fe-47516eabf327 button.colab-df-convert');\n",
              "        buttonEl.style.display =\n",
              "          google.colab.kernel.accessAllowed ? 'block' : 'none';\n",
              "\n",
              "        async function convertToInteractive(key) {\n",
              "          const element = document.querySelector('#df-c37da3bc-5d7b-4f94-84fe-47516eabf327');\n",
              "          const dataTable =\n",
              "            await google.colab.kernel.invokeFunction('convertToInteractive',\n",
              "                                                     [key], {});\n",
              "          if (!dataTable) return;\n",
              "\n",
              "          const docLinkHtml = 'Like what you see? Visit the ' +\n",
              "            '<a target=\"_blank\" href=https://colab.research.google.com/notebooks/data_table.ipynb>data table notebook</a>'\n",
              "            + ' to learn more about interactive tables.';\n",
              "          element.innerHTML = '';\n",
              "          dataTable['output_type'] = 'display_data';\n",
              "          await google.colab.output.renderOutput(dataTable, element);\n",
              "          const docLink = document.createElement('div');\n",
              "          docLink.innerHTML = docLinkHtml;\n",
              "          element.appendChild(docLink);\n",
              "        }\n",
              "      </script>\n",
              "    </div>\n",
              "  </div>\n",
              "  "
            ],
            "text/plain": [
              "      genero       monto  dispositivo  ...       dcto   cashback  fraude\n",
              "0        1.0  608.345633          0.0  ...  60.834563   5.475111     0.0\n",
              "1        1.0   88.719243          0.0  ...   0.000000   1.774385     0.0\n",
              "2        1.0  790.037653          NaN  ...   0.000000  15.800753     0.0\n",
              "3        1.0  767.005387          1.0  ...   0.000000   7.670054     0.0\n",
              "4        1.0  254.171053          NaN  ...   0.000000   2.541711     0.0\n",
              "...      ...         ...          ...  ...        ...        ...     ...\n",
              "6904     2.0  852.563741          1.0  ...  85.256374  15.346147     0.0\n",
              "6905     2.0  755.155504          NaN  ...   0.000000  15.103110     1.0\n",
              "6906     2.0  253.325077          1.0  ...   0.000000   2.533251     0.0\n",
              "6907     2.0  202.956233          NaN  ...   0.000000   2.029562     0.0\n",
              "6908     2.0  564.922733          NaN  ...        NaN        NaN     NaN\n",
              "\n",
              "[6909 rows x 13 columns]"
            ]
          },
          "metadata": {},
          "execution_count": 764
        }
      ]
    },
    {
      "cell_type": "markdown",
      "source": [
        "\n",
        "### **Método de estandarización min-max**\n",
        "\n",
        "Primero normalizamos los valores que van a ingresar a la función KNN imputer, mediante el método de estandarización min-max\n"
      ],
      "metadata": {
        "id": "jHQfQq_avCRH"
      }
    },
    {
      "cell_type": "code",
      "source": [
        "#Obtenemos y almacenamos los valores mínimos y máximos de las variables incluidas\n",
        "vmin = data[vars_included].min()\n",
        "vmax = data[vars_included].max()"
      ],
      "metadata": {
        "id": "kiRMWQtgL1Vs"
      },
      "execution_count": 765,
      "outputs": []
    },
    {
      "cell_type": "code",
      "source": [
        "#Almacenamos la data en una variable llama data_to_norm, la cual almacenará la data con los valores de las variables numéricas estandarizadas.\n",
        "data_to_norm = data"
      ],
      "metadata": {
        "id": "XOtr8ejAvwxH"
      },
      "execution_count": 766,
      "outputs": []
    },
    {
      "cell_type": "code",
      "source": [
        "#Implementamos la función min-max y la ejecutamos\n",
        "def minmax_norm(df_input):\n",
        "    return (df_input-df_input.min())/(df_input.max() - df_input.min())\n",
        "\n",
        "data_to_norm[vars_included] = minmax_norm(data[vars_included])\n",
        "print(data_to_norm[vars_included])"
      ],
      "metadata": {
        "id": "KU-z-t93v6CL",
        "colab": {
          "base_uri": "https://localhost:8080/"
        },
        "outputId": "e68326a2-cd42-4b75-8bc5-fc2f63d67741"
      },
      "execution_count": 767,
      "outputs": [
        {
          "output_type": "stream",
          "name": "stdout",
          "text": [
            "      genero     monto  dispositivo  ...      dcto  cashback  fraude\n",
            "0        0.5  0.608332          0.0  ...  0.305614  0.273809     0.0\n",
            "1        0.5  0.088434          0.0  ...  0.000000  0.088625     0.0\n",
            "2        0.5  0.790119          NaN  ...  0.000000  0.790505     0.0\n",
            "3        0.5  0.767075          1.0  ...  0.000000  0.383644     0.0\n",
            "4        0.5  0.253972          NaN  ...  0.000000  0.127022     0.0\n",
            "...      ...       ...          ...  ...       ...       ...     ...\n",
            "6904     1.0  0.852678          1.0  ...  0.428302  0.767756     0.0\n",
            "6905     1.0  0.755218          NaN  ...  0.000000  0.755594     1.0\n",
            "6906     1.0  0.253126          1.0  ...  0.000000  0.126598     0.0\n",
            "6907     1.0  0.202731          NaN  ...  0.000000  0.101394     0.0\n",
            "6908     1.0  0.564886          NaN  ...       NaN       NaN     NaN\n",
            "\n",
            "[6909 rows x 13 columns]\n"
          ]
        }
      ]
    },
    {
      "cell_type": "code",
      "source": [
        "data_to_norm"
      ],
      "metadata": {
        "colab": {
          "base_uri": "https://localhost:8080/",
          "height": 468
        },
        "id": "U39yka6wY3Od",
        "outputId": "1e9ce179-43d4-4488-933c-bb35c9bcd235"
      },
      "execution_count": 768,
      "outputs": [
        {
          "output_type": "execute_result",
          "data": {
            "text/html": [
              "\n",
              "  <div id=\"df-84389bb8-6c3e-4c71-89f5-e5f18df1b738\">\n",
              "    <div class=\"colab-df-container\">\n",
              "      <div>\n",
              "<style scoped>\n",
              "    .dataframe tbody tr th:only-of-type {\n",
              "        vertical-align: middle;\n",
              "    }\n",
              "\n",
              "    .dataframe tbody tr th {\n",
              "        vertical-align: top;\n",
              "    }\n",
              "\n",
              "    .dataframe thead th {\n",
              "        text-align: right;\n",
              "    }\n",
              "</style>\n",
              "<table border=\"1\" class=\"dataframe\">\n",
              "  <thead>\n",
              "    <tr style=\"text-align: right;\">\n",
              "      <th></th>\n",
              "      <th>ID_USER</th>\n",
              "      <th>genero</th>\n",
              "      <th>monto</th>\n",
              "      <th>fecha</th>\n",
              "      <th>hora</th>\n",
              "      <th>dispositivo</th>\n",
              "      <th>establecimiento</th>\n",
              "      <th>ciudad</th>\n",
              "      <th>tipo_tc</th>\n",
              "      <th>linea_tc</th>\n",
              "      <th>interes_tc</th>\n",
              "      <th>status_txn</th>\n",
              "      <th>is_prime</th>\n",
              "      <th>dcto</th>\n",
              "      <th>cashback</th>\n",
              "      <th>fraude</th>\n",
              "    </tr>\n",
              "  </thead>\n",
              "  <tbody>\n",
              "    <tr>\n",
              "      <th>0</th>\n",
              "      <td>0</td>\n",
              "      <td>0.5</td>\n",
              "      <td>0.608332</td>\n",
              "      <td>2020-01-21</td>\n",
              "      <td>20</td>\n",
              "      <td>0.0</td>\n",
              "      <td>1.00</td>\n",
              "      <td>0.333333</td>\n",
              "      <td>0.0</td>\n",
              "      <td>0.621622</td>\n",
              "      <td>0.783333</td>\n",
              "      <td>0.0</td>\n",
              "      <td>0.0</td>\n",
              "      <td>0.305614</td>\n",
              "      <td>0.273809</td>\n",
              "      <td>0.0</td>\n",
              "    </tr>\n",
              "    <tr>\n",
              "      <th>1</th>\n",
              "      <td>0</td>\n",
              "      <td>0.5</td>\n",
              "      <td>0.088434</td>\n",
              "      <td>2020-01-15</td>\n",
              "      <td>7</td>\n",
              "      <td>0.0</td>\n",
              "      <td>NaN</td>\n",
              "      <td>0.333333</td>\n",
              "      <td>1.0</td>\n",
              "      <td>0.621622</td>\n",
              "      <td>0.783333</td>\n",
              "      <td>0.0</td>\n",
              "      <td>0.0</td>\n",
              "      <td>0.000000</td>\n",
              "      <td>0.088625</td>\n",
              "      <td>0.0</td>\n",
              "    </tr>\n",
              "    <tr>\n",
              "      <th>2</th>\n",
              "      <td>1</td>\n",
              "      <td>0.5</td>\n",
              "      <td>0.790119</td>\n",
              "      <td>2020-01-17</td>\n",
              "      <td>11</td>\n",
              "      <td>NaN</td>\n",
              "      <td>NaN</td>\n",
              "      <td>0.000000</td>\n",
              "      <td>1.0</td>\n",
              "      <td>0.932432</td>\n",
              "      <td>0.866667</td>\n",
              "      <td>0.5</td>\n",
              "      <td>0.0</td>\n",
              "      <td>0.000000</td>\n",
              "      <td>0.790505</td>\n",
              "      <td>0.0</td>\n",
              "    </tr>\n",
              "    <tr>\n",
              "      <th>3</th>\n",
              "      <td>1</td>\n",
              "      <td>0.5</td>\n",
              "      <td>0.767075</td>\n",
              "      <td>2020-01-05</td>\n",
              "      <td>11</td>\n",
              "      <td>1.0</td>\n",
              "      <td>0.50</td>\n",
              "      <td>0.000000</td>\n",
              "      <td>0.0</td>\n",
              "      <td>0.932432</td>\n",
              "      <td>0.866667</td>\n",
              "      <td>0.0</td>\n",
              "      <td>0.0</td>\n",
              "      <td>0.000000</td>\n",
              "      <td>0.383644</td>\n",
              "      <td>0.0</td>\n",
              "    </tr>\n",
              "    <tr>\n",
              "      <th>4</th>\n",
              "      <td>1</td>\n",
              "      <td>0.5</td>\n",
              "      <td>0.253972</td>\n",
              "      <td>2020-01-30</td>\n",
              "      <td>10</td>\n",
              "      <td>NaN</td>\n",
              "      <td>NaN</td>\n",
              "      <td>0.000000</td>\n",
              "      <td>0.0</td>\n",
              "      <td>0.932432</td>\n",
              "      <td>0.866667</td>\n",
              "      <td>0.0</td>\n",
              "      <td>0.0</td>\n",
              "      <td>0.000000</td>\n",
              "      <td>0.127022</td>\n",
              "      <td>0.0</td>\n",
              "    </tr>\n",
              "    <tr>\n",
              "      <th>...</th>\n",
              "      <td>...</td>\n",
              "      <td>...</td>\n",
              "      <td>...</td>\n",
              "      <td>...</td>\n",
              "      <td>...</td>\n",
              "      <td>...</td>\n",
              "      <td>...</td>\n",
              "      <td>...</td>\n",
              "      <td>...</td>\n",
              "      <td>...</td>\n",
              "      <td>...</td>\n",
              "      <td>...</td>\n",
              "      <td>...</td>\n",
              "      <td>...</td>\n",
              "      <td>...</td>\n",
              "      <td>...</td>\n",
              "    </tr>\n",
              "    <tr>\n",
              "      <th>6904</th>\n",
              "      <td>1060</td>\n",
              "      <td>1.0</td>\n",
              "      <td>0.852678</td>\n",
              "      <td>2020-01-28</td>\n",
              "      <td>10</td>\n",
              "      <td>1.0</td>\n",
              "      <td>0.25</td>\n",
              "      <td>NaN</td>\n",
              "      <td>1.0</td>\n",
              "      <td>0.932432</td>\n",
              "      <td>0.683333</td>\n",
              "      <td>1.0</td>\n",
              "      <td>0.0</td>\n",
              "      <td>0.428302</td>\n",
              "      <td>0.767756</td>\n",
              "      <td>0.0</td>\n",
              "    </tr>\n",
              "    <tr>\n",
              "      <th>6905</th>\n",
              "      <td>1060</td>\n",
              "      <td>1.0</td>\n",
              "      <td>0.755218</td>\n",
              "      <td>2020-01-26</td>\n",
              "      <td>16</td>\n",
              "      <td>NaN</td>\n",
              "      <td>NaN</td>\n",
              "      <td>NaN</td>\n",
              "      <td>1.0</td>\n",
              "      <td>0.932432</td>\n",
              "      <td>0.683333</td>\n",
              "      <td>0.0</td>\n",
              "      <td>0.0</td>\n",
              "      <td>0.000000</td>\n",
              "      <td>0.755594</td>\n",
              "      <td>1.0</td>\n",
              "    </tr>\n",
              "    <tr>\n",
              "      <th>6906</th>\n",
              "      <td>1060</td>\n",
              "      <td>1.0</td>\n",
              "      <td>0.253126</td>\n",
              "      <td>2020-01-18</td>\n",
              "      <td>16</td>\n",
              "      <td>1.0</td>\n",
              "      <td>1.00</td>\n",
              "      <td>NaN</td>\n",
              "      <td>0.0</td>\n",
              "      <td>0.932432</td>\n",
              "      <td>0.683333</td>\n",
              "      <td>0.5</td>\n",
              "      <td>0.0</td>\n",
              "      <td>0.000000</td>\n",
              "      <td>0.126598</td>\n",
              "      <td>0.0</td>\n",
              "    </tr>\n",
              "    <tr>\n",
              "      <th>6907</th>\n",
              "      <td>1060</td>\n",
              "      <td>1.0</td>\n",
              "      <td>0.202731</td>\n",
              "      <td>2020-01-12</td>\n",
              "      <td>23</td>\n",
              "      <td>NaN</td>\n",
              "      <td>NaN</td>\n",
              "      <td>NaN</td>\n",
              "      <td>0.0</td>\n",
              "      <td>0.932432</td>\n",
              "      <td>0.683333</td>\n",
              "      <td>0.0</td>\n",
              "      <td>0.0</td>\n",
              "      <td>0.000000</td>\n",
              "      <td>0.101394</td>\n",
              "      <td>0.0</td>\n",
              "    </tr>\n",
              "    <tr>\n",
              "      <th>6908</th>\n",
              "      <td>1061</td>\n",
              "      <td>1.0</td>\n",
              "      <td>0.564886</td>\n",
              "      <td>2020-01-29</td>\n",
              "      <td>1</td>\n",
              "      <td>NaN</td>\n",
              "      <td>NaN</td>\n",
              "      <td>0.000000</td>\n",
              "      <td>0.0</td>\n",
              "      <td>0.959459</td>\n",
              "      <td>0.000000</td>\n",
              "      <td>NaN</td>\n",
              "      <td>NaN</td>\n",
              "      <td>NaN</td>\n",
              "      <td>NaN</td>\n",
              "      <td>NaN</td>\n",
              "    </tr>\n",
              "  </tbody>\n",
              "</table>\n",
              "<p>6909 rows × 16 columns</p>\n",
              "</div>\n",
              "      <button class=\"colab-df-convert\" onclick=\"convertToInteractive('df-84389bb8-6c3e-4c71-89f5-e5f18df1b738')\"\n",
              "              title=\"Convert this dataframe to an interactive table.\"\n",
              "              style=\"display:none;\">\n",
              "        \n",
              "  <svg xmlns=\"http://www.w3.org/2000/svg\" height=\"24px\"viewBox=\"0 0 24 24\"\n",
              "       width=\"24px\">\n",
              "    <path d=\"M0 0h24v24H0V0z\" fill=\"none\"/>\n",
              "    <path d=\"M18.56 5.44l.94 2.06.94-2.06 2.06-.94-2.06-.94-.94-2.06-.94 2.06-2.06.94zm-11 1L8.5 8.5l.94-2.06 2.06-.94-2.06-.94L8.5 2.5l-.94 2.06-2.06.94zm10 10l.94 2.06.94-2.06 2.06-.94-2.06-.94-.94-2.06-.94 2.06-2.06.94z\"/><path d=\"M17.41 7.96l-1.37-1.37c-.4-.4-.92-.59-1.43-.59-.52 0-1.04.2-1.43.59L10.3 9.45l-7.72 7.72c-.78.78-.78 2.05 0 2.83L4 21.41c.39.39.9.59 1.41.59.51 0 1.02-.2 1.41-.59l7.78-7.78 2.81-2.81c.8-.78.8-2.07 0-2.86zM5.41 20L4 18.59l7.72-7.72 1.47 1.35L5.41 20z\"/>\n",
              "  </svg>\n",
              "      </button>\n",
              "      \n",
              "  <style>\n",
              "    .colab-df-container {\n",
              "      display:flex;\n",
              "      flex-wrap:wrap;\n",
              "      gap: 12px;\n",
              "    }\n",
              "\n",
              "    .colab-df-convert {\n",
              "      background-color: #E8F0FE;\n",
              "      border: none;\n",
              "      border-radius: 50%;\n",
              "      cursor: pointer;\n",
              "      display: none;\n",
              "      fill: #1967D2;\n",
              "      height: 32px;\n",
              "      padding: 0 0 0 0;\n",
              "      width: 32px;\n",
              "    }\n",
              "\n",
              "    .colab-df-convert:hover {\n",
              "      background-color: #E2EBFA;\n",
              "      box-shadow: 0px 1px 2px rgba(60, 64, 67, 0.3), 0px 1px 3px 1px rgba(60, 64, 67, 0.15);\n",
              "      fill: #174EA6;\n",
              "    }\n",
              "\n",
              "    [theme=dark] .colab-df-convert {\n",
              "      background-color: #3B4455;\n",
              "      fill: #D2E3FC;\n",
              "    }\n",
              "\n",
              "    [theme=dark] .colab-df-convert:hover {\n",
              "      background-color: #434B5C;\n",
              "      box-shadow: 0px 1px 3px 1px rgba(0, 0, 0, 0.15);\n",
              "      filter: drop-shadow(0px 1px 2px rgba(0, 0, 0, 0.3));\n",
              "      fill: #FFFFFF;\n",
              "    }\n",
              "  </style>\n",
              "\n",
              "      <script>\n",
              "        const buttonEl =\n",
              "          document.querySelector('#df-84389bb8-6c3e-4c71-89f5-e5f18df1b738 button.colab-df-convert');\n",
              "        buttonEl.style.display =\n",
              "          google.colab.kernel.accessAllowed ? 'block' : 'none';\n",
              "\n",
              "        async function convertToInteractive(key) {\n",
              "          const element = document.querySelector('#df-84389bb8-6c3e-4c71-89f5-e5f18df1b738');\n",
              "          const dataTable =\n",
              "            await google.colab.kernel.invokeFunction('convertToInteractive',\n",
              "                                                     [key], {});\n",
              "          if (!dataTable) return;\n",
              "\n",
              "          const docLinkHtml = 'Like what you see? Visit the ' +\n",
              "            '<a target=\"_blank\" href=https://colab.research.google.com/notebooks/data_table.ipynb>data table notebook</a>'\n",
              "            + ' to learn more about interactive tables.';\n",
              "          element.innerHTML = '';\n",
              "          dataTable['output_type'] = 'display_data';\n",
              "          await google.colab.output.renderOutput(dataTable, element);\n",
              "          const docLink = document.createElement('div');\n",
              "          docLink.innerHTML = docLinkHtml;\n",
              "          element.appendChild(docLink);\n",
              "        }\n",
              "      </script>\n",
              "    </div>\n",
              "  </div>\n",
              "  "
            ],
            "text/plain": [
              "      ID_USER  genero     monto  ...      dcto  cashback  fraude\n",
              "0           0     0.5  0.608332  ...  0.305614  0.273809     0.0\n",
              "1           0     0.5  0.088434  ...  0.000000  0.088625     0.0\n",
              "2           1     0.5  0.790119  ...  0.000000  0.790505     0.0\n",
              "3           1     0.5  0.767075  ...  0.000000  0.383644     0.0\n",
              "4           1     0.5  0.253972  ...  0.000000  0.127022     0.0\n",
              "...       ...     ...       ...  ...       ...       ...     ...\n",
              "6904     1060     1.0  0.852678  ...  0.428302  0.767756     0.0\n",
              "6905     1060     1.0  0.755218  ...  0.000000  0.755594     1.0\n",
              "6906     1060     1.0  0.253126  ...  0.000000  0.126598     0.0\n",
              "6907     1060     1.0  0.202731  ...  0.000000  0.101394     0.0\n",
              "6908     1061     1.0  0.564886  ...       NaN       NaN     NaN\n",
              "\n",
              "[6909 rows x 16 columns]"
            ]
          },
          "metadata": {},
          "execution_count": 768
        }
      ]
    },
    {
      "cell_type": "markdown",
      "source": [
        "### **Metodo KNN imputer**"
      ],
      "metadata": {
        "id": "LFOUyAAKwVkW"
      }
    },
    {
      "cell_type": "code",
      "source": [
        "from sklearn.impute import KNNImputer\n",
        "\n",
        "knn = KNNImputer(n_neighbors=3)\n",
        "data_to_norm[vars_included] = knn.fit_transform(data_to_norm[vars_included])\n",
        "data_to_norm.isnull().sum()"
      ],
      "metadata": {
        "id": "rKd7dmyEwIMo",
        "colab": {
          "base_uri": "https://localhost:8080/"
        },
        "outputId": "9dcda9f8-9b65-4d8c-e6c1-353c45992a07"
      },
      "execution_count": 769,
      "outputs": [
        {
          "output_type": "execute_result",
          "data": {
            "text/plain": [
              "ID_USER            0\n",
              "genero             0\n",
              "monto              0\n",
              "fecha              0\n",
              "hora               0\n",
              "dispositivo        0\n",
              "establecimiento    0\n",
              "ciudad             0\n",
              "tipo_tc            0\n",
              "linea_tc           0\n",
              "interes_tc         0\n",
              "status_txn         0\n",
              "is_prime           0\n",
              "dcto               0\n",
              "cashback           0\n",
              "fraude             0\n",
              "dtype: int64"
            ]
          },
          "metadata": {},
          "execution_count": 769
        }
      ]
    },
    {
      "cell_type": "code",
      "source": [
        "data_to_desnorm = data_to_norm"
      ],
      "metadata": {
        "id": "uJIGNE-TxLpW"
      },
      "execution_count": 770,
      "outputs": []
    },
    {
      "cell_type": "code",
      "source": [
        "#Implementamos la función min-max en reversa y la ejecutamos\n",
        "def minmax_desnorm(df_input):\n",
        "  return (df_input)*(vmax - vmin) + vmin\n",
        "\n",
        "data_to_desnorm[vars_included] = minmax_desnorm(data_to_norm[vars_included])"
      ],
      "metadata": {
        "id": "Bh2kk-jvxa7Z"
      },
      "execution_count": 771,
      "outputs": []
    },
    {
      "cell_type": "markdown",
      "source": [
        "Una vez que se tiene el dataset con los valores desnormalizados y con los valores nulos imputados, se almacena nuevamente el dataset."
      ],
      "metadata": {
        "id": "3zgtwPx8xtmL"
      }
    },
    {
      "cell_type": "code",
      "source": [
        "data = data_to_desnorm"
      ],
      "metadata": {
        "id": "mhbV8t1ZxqUC"
      },
      "execution_count": 772,
      "outputs": []
    },
    {
      "cell_type": "code",
      "source": [
        "data[[\"dispositivo\"]] = dispo_ordenc.inverse_transform(data[[\"dispositivo\"]])\n",
        "data[[\"establecimiento\"]] = establ_ordenc.inverse_transform(data[[\"establecimiento\"]])\n",
        "data[[\"ciudad\"]] = ciu_ordenc.inverse_transform(data[[\"ciudad\"]])\n",
        "data[[\"tipo_tc\"]] = tipotc_ordenc.inverse_transform(data[[\"tipo_tc\"]])\n",
        "data[[\"is_prime\"]] = isprime_ordenc.inverse_transform(data[[\"is_prime\"]])\n",
        "data[[\"fraude\"]] = fraude_ordenc.inverse_transform(data[[\"fraude\"]])\n",
        "data[['genero']] = genero_ordenc.inverse_transform(data[['genero']])\n",
        "data[['status_txn']] = statustxn_ordenc.inverse_transform(data[['status_txn']])"
      ],
      "metadata": {
        "id": "u-XzKGDM2FQ7"
      },
      "execution_count": 773,
      "outputs": []
    },
    {
      "cell_type": "code",
      "source": [
        "data"
      ],
      "metadata": {
        "id": "eIrfHhYsx5qa",
        "colab": {
          "base_uri": "https://localhost:8080/",
          "height": 488
        },
        "outputId": "412ac96e-b64a-49ed-ea4d-3b031c38e969"
      },
      "execution_count": 774,
      "outputs": [
        {
          "output_type": "execute_result",
          "data": {
            "text/html": [
              "\n",
              "  <div id=\"df-222c5039-cbcd-4569-a6a5-442538805b2a\">\n",
              "    <div class=\"colab-df-container\">\n",
              "      <div>\n",
              "<style scoped>\n",
              "    .dataframe tbody tr th:only-of-type {\n",
              "        vertical-align: middle;\n",
              "    }\n",
              "\n",
              "    .dataframe tbody tr th {\n",
              "        vertical-align: top;\n",
              "    }\n",
              "\n",
              "    .dataframe thead th {\n",
              "        text-align: right;\n",
              "    }\n",
              "</style>\n",
              "<table border=\"1\" class=\"dataframe\">\n",
              "  <thead>\n",
              "    <tr style=\"text-align: right;\">\n",
              "      <th></th>\n",
              "      <th>ID_USER</th>\n",
              "      <th>genero</th>\n",
              "      <th>monto</th>\n",
              "      <th>fecha</th>\n",
              "      <th>hora</th>\n",
              "      <th>dispositivo</th>\n",
              "      <th>establecimiento</th>\n",
              "      <th>ciudad</th>\n",
              "      <th>tipo_tc</th>\n",
              "      <th>linea_tc</th>\n",
              "      <th>interes_tc</th>\n",
              "      <th>status_txn</th>\n",
              "      <th>is_prime</th>\n",
              "      <th>dcto</th>\n",
              "      <th>cashback</th>\n",
              "      <th>fraude</th>\n",
              "    </tr>\n",
              "  </thead>\n",
              "  <tbody>\n",
              "    <tr>\n",
              "      <th>0</th>\n",
              "      <td>0</td>\n",
              "      <td>F</td>\n",
              "      <td>608.345633</td>\n",
              "      <td>2020-01-21</td>\n",
              "      <td>20</td>\n",
              "      <td>ANDROID</td>\n",
              "      <td>Super</td>\n",
              "      <td>Merida</td>\n",
              "      <td>Fisica</td>\n",
              "      <td>71000.0</td>\n",
              "      <td>51.0</td>\n",
              "      <td>Aceptada</td>\n",
              "      <td>False</td>\n",
              "      <td>60.834563</td>\n",
              "      <td>5.475111</td>\n",
              "      <td>False</td>\n",
              "    </tr>\n",
              "    <tr>\n",
              "      <th>1</th>\n",
              "      <td>0</td>\n",
              "      <td>F</td>\n",
              "      <td>88.719243</td>\n",
              "      <td>2020-01-15</td>\n",
              "      <td>7</td>\n",
              "      <td>ANDROID</td>\n",
              "      <td>MPago</td>\n",
              "      <td>Merida</td>\n",
              "      <td>Virtual</td>\n",
              "      <td>71000.0</td>\n",
              "      <td>51.0</td>\n",
              "      <td>Aceptada</td>\n",
              "      <td>False</td>\n",
              "      <td>0.000000</td>\n",
              "      <td>1.774385</td>\n",
              "      <td>False</td>\n",
              "    </tr>\n",
              "    <tr>\n",
              "      <th>2</th>\n",
              "      <td>1</td>\n",
              "      <td>F</td>\n",
              "      <td>790.037653</td>\n",
              "      <td>2020-01-17</td>\n",
              "      <td>11</td>\n",
              "      <td>ANDROID</td>\n",
              "      <td>MPago</td>\n",
              "      <td>Guadalajara</td>\n",
              "      <td>Virtual</td>\n",
              "      <td>94000.0</td>\n",
              "      <td>56.0</td>\n",
              "      <td>En proceso</td>\n",
              "      <td>False</td>\n",
              "      <td>0.000000</td>\n",
              "      <td>15.800753</td>\n",
              "      <td>False</td>\n",
              "    </tr>\n",
              "    <tr>\n",
              "      <th>3</th>\n",
              "      <td>1</td>\n",
              "      <td>F</td>\n",
              "      <td>767.005387</td>\n",
              "      <td>2020-01-05</td>\n",
              "      <td>11</td>\n",
              "      <td>WEB</td>\n",
              "      <td>MPago</td>\n",
              "      <td>Guadalajara</td>\n",
              "      <td>Fisica</td>\n",
              "      <td>94000.0</td>\n",
              "      <td>56.0</td>\n",
              "      <td>Aceptada</td>\n",
              "      <td>False</td>\n",
              "      <td>0.000000</td>\n",
              "      <td>7.670054</td>\n",
              "      <td>False</td>\n",
              "    </tr>\n",
              "    <tr>\n",
              "      <th>4</th>\n",
              "      <td>1</td>\n",
              "      <td>F</td>\n",
              "      <td>254.171053</td>\n",
              "      <td>2020-01-30</td>\n",
              "      <td>10</td>\n",
              "      <td>ANDROID</td>\n",
              "      <td>Farmacia</td>\n",
              "      <td>Guadalajara</td>\n",
              "      <td>Fisica</td>\n",
              "      <td>94000.0</td>\n",
              "      <td>56.0</td>\n",
              "      <td>Aceptada</td>\n",
              "      <td>False</td>\n",
              "      <td>0.000000</td>\n",
              "      <td>2.541711</td>\n",
              "      <td>False</td>\n",
              "    </tr>\n",
              "    <tr>\n",
              "      <th>...</th>\n",
              "      <td>...</td>\n",
              "      <td>...</td>\n",
              "      <td>...</td>\n",
              "      <td>...</td>\n",
              "      <td>...</td>\n",
              "      <td>...</td>\n",
              "      <td>...</td>\n",
              "      <td>...</td>\n",
              "      <td>...</td>\n",
              "      <td>...</td>\n",
              "      <td>...</td>\n",
              "      <td>...</td>\n",
              "      <td>...</td>\n",
              "      <td>...</td>\n",
              "      <td>...</td>\n",
              "      <td>...</td>\n",
              "    </tr>\n",
              "    <tr>\n",
              "      <th>6904</th>\n",
              "      <td>1060</td>\n",
              "      <td>M</td>\n",
              "      <td>852.563741</td>\n",
              "      <td>2020-01-28</td>\n",
              "      <td>10</td>\n",
              "      <td>WEB</td>\n",
              "      <td>Farmacia</td>\n",
              "      <td>Merida</td>\n",
              "      <td>Virtual</td>\n",
              "      <td>94000.0</td>\n",
              "      <td>45.0</td>\n",
              "      <td>Rechazada</td>\n",
              "      <td>False</td>\n",
              "      <td>85.256374</td>\n",
              "      <td>15.346147</td>\n",
              "      <td>False</td>\n",
              "    </tr>\n",
              "    <tr>\n",
              "      <th>6905</th>\n",
              "      <td>1060</td>\n",
              "      <td>M</td>\n",
              "      <td>755.155504</td>\n",
              "      <td>2020-01-26</td>\n",
              "      <td>16</td>\n",
              "      <td>ANDROID</td>\n",
              "      <td>Farmacia</td>\n",
              "      <td>Merida</td>\n",
              "      <td>Virtual</td>\n",
              "      <td>94000.0</td>\n",
              "      <td>45.0</td>\n",
              "      <td>Aceptada</td>\n",
              "      <td>False</td>\n",
              "      <td>0.000000</td>\n",
              "      <td>15.103110</td>\n",
              "      <td>True</td>\n",
              "    </tr>\n",
              "    <tr>\n",
              "      <th>6906</th>\n",
              "      <td>1060</td>\n",
              "      <td>M</td>\n",
              "      <td>253.325077</td>\n",
              "      <td>2020-01-18</td>\n",
              "      <td>16</td>\n",
              "      <td>WEB</td>\n",
              "      <td>Super</td>\n",
              "      <td>Merida</td>\n",
              "      <td>Fisica</td>\n",
              "      <td>94000.0</td>\n",
              "      <td>45.0</td>\n",
              "      <td>En proceso</td>\n",
              "      <td>False</td>\n",
              "      <td>0.000000</td>\n",
              "      <td>2.533251</td>\n",
              "      <td>False</td>\n",
              "    </tr>\n",
              "    <tr>\n",
              "      <th>6907</th>\n",
              "      <td>1060</td>\n",
              "      <td>M</td>\n",
              "      <td>202.956233</td>\n",
              "      <td>2020-01-12</td>\n",
              "      <td>23</td>\n",
              "      <td>ANDROID</td>\n",
              "      <td>MPago</td>\n",
              "      <td>Monterrey</td>\n",
              "      <td>Fisica</td>\n",
              "      <td>94000.0</td>\n",
              "      <td>45.0</td>\n",
              "      <td>Aceptada</td>\n",
              "      <td>False</td>\n",
              "      <td>0.000000</td>\n",
              "      <td>2.029562</td>\n",
              "      <td>False</td>\n",
              "    </tr>\n",
              "    <tr>\n",
              "      <th>6908</th>\n",
              "      <td>1061</td>\n",
              "      <td>M</td>\n",
              "      <td>564.922733</td>\n",
              "      <td>2020-01-29</td>\n",
              "      <td>1</td>\n",
              "      <td>ANDROID</td>\n",
              "      <td>MPago</td>\n",
              "      <td>Guadalajara</td>\n",
              "      <td>Fisica</td>\n",
              "      <td>96000.0</td>\n",
              "      <td>4.0</td>\n",
              "      <td>Aceptada</td>\n",
              "      <td>False</td>\n",
              "      <td>70.334678</td>\n",
              "      <td>5.498567</td>\n",
              "      <td>False</td>\n",
              "    </tr>\n",
              "  </tbody>\n",
              "</table>\n",
              "<p>6909 rows × 16 columns</p>\n",
              "</div>\n",
              "      <button class=\"colab-df-convert\" onclick=\"convertToInteractive('df-222c5039-cbcd-4569-a6a5-442538805b2a')\"\n",
              "              title=\"Convert this dataframe to an interactive table.\"\n",
              "              style=\"display:none;\">\n",
              "        \n",
              "  <svg xmlns=\"http://www.w3.org/2000/svg\" height=\"24px\"viewBox=\"0 0 24 24\"\n",
              "       width=\"24px\">\n",
              "    <path d=\"M0 0h24v24H0V0z\" fill=\"none\"/>\n",
              "    <path d=\"M18.56 5.44l.94 2.06.94-2.06 2.06-.94-2.06-.94-.94-2.06-.94 2.06-2.06.94zm-11 1L8.5 8.5l.94-2.06 2.06-.94-2.06-.94L8.5 2.5l-.94 2.06-2.06.94zm10 10l.94 2.06.94-2.06 2.06-.94-2.06-.94-.94-2.06-.94 2.06-2.06.94z\"/><path d=\"M17.41 7.96l-1.37-1.37c-.4-.4-.92-.59-1.43-.59-.52 0-1.04.2-1.43.59L10.3 9.45l-7.72 7.72c-.78.78-.78 2.05 0 2.83L4 21.41c.39.39.9.59 1.41.59.51 0 1.02-.2 1.41-.59l7.78-7.78 2.81-2.81c.8-.78.8-2.07 0-2.86zM5.41 20L4 18.59l7.72-7.72 1.47 1.35L5.41 20z\"/>\n",
              "  </svg>\n",
              "      </button>\n",
              "      \n",
              "  <style>\n",
              "    .colab-df-container {\n",
              "      display:flex;\n",
              "      flex-wrap:wrap;\n",
              "      gap: 12px;\n",
              "    }\n",
              "\n",
              "    .colab-df-convert {\n",
              "      background-color: #E8F0FE;\n",
              "      border: none;\n",
              "      border-radius: 50%;\n",
              "      cursor: pointer;\n",
              "      display: none;\n",
              "      fill: #1967D2;\n",
              "      height: 32px;\n",
              "      padding: 0 0 0 0;\n",
              "      width: 32px;\n",
              "    }\n",
              "\n",
              "    .colab-df-convert:hover {\n",
              "      background-color: #E2EBFA;\n",
              "      box-shadow: 0px 1px 2px rgba(60, 64, 67, 0.3), 0px 1px 3px 1px rgba(60, 64, 67, 0.15);\n",
              "      fill: #174EA6;\n",
              "    }\n",
              "\n",
              "    [theme=dark] .colab-df-convert {\n",
              "      background-color: #3B4455;\n",
              "      fill: #D2E3FC;\n",
              "    }\n",
              "\n",
              "    [theme=dark] .colab-df-convert:hover {\n",
              "      background-color: #434B5C;\n",
              "      box-shadow: 0px 1px 3px 1px rgba(0, 0, 0, 0.15);\n",
              "      filter: drop-shadow(0px 1px 2px rgba(0, 0, 0, 0.3));\n",
              "      fill: #FFFFFF;\n",
              "    }\n",
              "  </style>\n",
              "\n",
              "      <script>\n",
              "        const buttonEl =\n",
              "          document.querySelector('#df-222c5039-cbcd-4569-a6a5-442538805b2a button.colab-df-convert');\n",
              "        buttonEl.style.display =\n",
              "          google.colab.kernel.accessAllowed ? 'block' : 'none';\n",
              "\n",
              "        async function convertToInteractive(key) {\n",
              "          const element = document.querySelector('#df-222c5039-cbcd-4569-a6a5-442538805b2a');\n",
              "          const dataTable =\n",
              "            await google.colab.kernel.invokeFunction('convertToInteractive',\n",
              "                                                     [key], {});\n",
              "          if (!dataTable) return;\n",
              "\n",
              "          const docLinkHtml = 'Like what you see? Visit the ' +\n",
              "            '<a target=\"_blank\" href=https://colab.research.google.com/notebooks/data_table.ipynb>data table notebook</a>'\n",
              "            + ' to learn more about interactive tables.';\n",
              "          element.innerHTML = '';\n",
              "          dataTable['output_type'] = 'display_data';\n",
              "          await google.colab.output.renderOutput(dataTable, element);\n",
              "          const docLink = document.createElement('div');\n",
              "          docLink.innerHTML = docLinkHtml;\n",
              "          element.appendChild(docLink);\n",
              "        }\n",
              "      </script>\n",
              "    </div>\n",
              "  </div>\n",
              "  "
            ],
            "text/plain": [
              "      ID_USER genero       monto  ...       dcto   cashback fraude\n",
              "0           0      F  608.345633  ...  60.834563   5.475111  False\n",
              "1           0      F   88.719243  ...   0.000000   1.774385  False\n",
              "2           1      F  790.037653  ...   0.000000  15.800753  False\n",
              "3           1      F  767.005387  ...   0.000000   7.670054  False\n",
              "4           1      F  254.171053  ...   0.000000   2.541711  False\n",
              "...       ...    ...         ...  ...        ...        ...    ...\n",
              "6904     1060      M  852.563741  ...  85.256374  15.346147  False\n",
              "6905     1060      M  755.155504  ...   0.000000  15.103110   True\n",
              "6906     1060      M  253.325077  ...   0.000000   2.533251  False\n",
              "6907     1060      M  202.956233  ...   0.000000   2.029562  False\n",
              "6908     1061      M  564.922733  ...  70.334678   5.498567  False\n",
              "\n",
              "[6909 rows x 16 columns]"
            ]
          },
          "metadata": {},
          "execution_count": 774
        }
      ]
    },
    {
      "cell_type": "code",
      "source": [
        "data.isnull().sum()"
      ],
      "metadata": {
        "colab": {
          "base_uri": "https://localhost:8080/"
        },
        "id": "loX1ZcDIPra2",
        "outputId": "d2d8d043-e249-4edc-9b82-e0eb0ee9fb9c"
      },
      "execution_count": 775,
      "outputs": [
        {
          "output_type": "execute_result",
          "data": {
            "text/plain": [
              "ID_USER            0\n",
              "genero             0\n",
              "monto              0\n",
              "fecha              0\n",
              "hora               0\n",
              "dispositivo        0\n",
              "establecimiento    0\n",
              "ciudad             0\n",
              "tipo_tc            0\n",
              "linea_tc           0\n",
              "interes_tc         0\n",
              "status_txn         0\n",
              "is_prime           0\n",
              "dcto               0\n",
              "cashback           0\n",
              "fraude             0\n",
              "dtype: int64"
            ]
          },
          "metadata": {},
          "execution_count": 775
        }
      ]
    },
    {
      "cell_type": "markdown",
      "source": [
        "### Finalmente la data se encuentra limpia de valores nulos y con las variables correcta y adecuadamente rellenadas para su análisis."
      ],
      "metadata": {
        "id": "7HTmckT3Llki"
      }
    },
    {
      "cell_type": "code",
      "source": [
        "data.to_csv('fraud_data_complete_final.csv')"
      ],
      "metadata": {
        "id": "XeIWJUbHn_gA"
      },
      "execution_count": 785,
      "outputs": []
    },
    {
      "cell_type": "code",
      "source": [
        "data.dtypes"
      ],
      "metadata": {
        "colab": {
          "base_uri": "https://localhost:8080/"
        },
        "id": "H-p03Ey2rG3Q",
        "outputId": "7ba16b5b-acc9-40dc-ac50-e81205d45c13"
      },
      "execution_count": 777,
      "outputs": [
        {
          "output_type": "execute_result",
          "data": {
            "text/plain": [
              "ID_USER              int64\n",
              "genero              object\n",
              "monto              float64\n",
              "fecha               object\n",
              "hora                 int64\n",
              "dispositivo         object\n",
              "establecimiento     object\n",
              "ciudad              object\n",
              "tipo_tc             object\n",
              "linea_tc           float64\n",
              "interes_tc         float64\n",
              "status_txn          object\n",
              "is_prime              bool\n",
              "dcto               float64\n",
              "cashback           float64\n",
              "fraude                bool\n",
              "dtype: object"
            ]
          },
          "metadata": {},
          "execution_count": 777
        }
      ]
    },
    {
      "cell_type": "markdown",
      "source": [
        "## **Correlaciones entre las variables**"
      ],
      "metadata": {
        "id": "F9TggxJyLarB"
      }
    },
    {
      "cell_type": "code",
      "source": [
        "from scipy import stats\n",
        "num_corr= data.corr()\n",
        "plt.figure(figsize=(20, 8))\n",
        "mask = np.triu(np.ones_like(num_corr, dtype=np.bool))\n",
        "num_heatmap = sns.heatmap(num_corr, mask=mask, vmin=-1, vmax=1, annot=True, cmap='BuPu')\n",
        "plt.title"
      ],
      "metadata": {
        "id": "MeDUnTWJG95F",
        "colab": {
          "base_uri": "https://localhost:8080/",
          "height": 516
        },
        "outputId": "556244e8-82f7-4fc5-995d-a8c3f0ca37bb"
      },
      "execution_count": 778,
      "outputs": [
        {
          "output_type": "execute_result",
          "data": {
            "text/plain": [
              "<function matplotlib.pyplot.title>"
            ]
          },
          "metadata": {},
          "execution_count": 778
        },
        {
          "output_type": "display_data",
          "data": {
            "image/png": "[encoded data removed]",
            "text/plain": [
              "<Figure size 1440x576 with 2 Axes>"
            ]
          },
          "metadata": {
            "needs_background": "light"
          }
        }
      ]
    },
    {
      "cell_type": "markdown",
      "source": [
        "Algunas correlaciones halladas, refieren que a mayor monto le corresponde mayor cashback y dcto. Y tambien que a mayor dcto le corresponde mayor cashback"
      ],
      "metadata": {
        "id": "HSDNg_a6geSI"
      }
    },
    {
      "cell_type": "markdown",
      "source": [
        "### **Analisis de la data con estado de fraude**\n",
        "\n",
        "Cabe recalcar que a este nivel, ya no se encuentran valores nulos, pues fueron imputados previamente con el algoritmo de machine learning KNNimputer\n",
        "\n",
        "\n"
      ],
      "metadata": {
        "id": "X4ycs8klQokX"
      }
    },
    {
      "cell_type": "code",
      "source": [
        "fraude_data = data[data['fraude']==True]"
      ],
      "metadata": {
        "id": "Q-mVazXlrD4F"
      },
      "execution_count": 779,
      "outputs": []
    },
    {
      "cell_type": "code",
      "source": [
        "fraude_data.shape"
      ],
      "metadata": {
        "colab": {
          "base_uri": "https://localhost:8080/"
        },
        "id": "aoPU2BgYrlza",
        "outputId": "fd449ff6-3628-4805-b001-bf8396e3d504"
      },
      "execution_count": 780,
      "outputs": [
        {
          "output_type": "execute_result",
          "data": {
            "text/plain": [
              "(229, 16)"
            ]
          },
          "metadata": {},
          "execution_count": 780
        }
      ]
    },
    {
      "cell_type": "code",
      "source": [
        "fraude_data['establecimiento'].unique()"
      ],
      "metadata": {
        "colab": {
          "base_uri": "https://localhost:8080/"
        },
        "id": "QSYxuybcilYd",
        "outputId": "aa34cb09-147d-4d6e-ca87-67ea3b91766f"
      },
      "execution_count": 781,
      "outputs": [
        {
          "output_type": "execute_result",
          "data": {
            "text/plain": [
              "array(['Farmacia', 'Abarrotes', 'MPago', 'Restaurante', 'Super'],\n",
              "      dtype=object)"
            ]
          },
          "metadata": {},
          "execution_count": 781
        }
      ]
    },
    {
      "cell_type": "code",
      "source": [
        "fig, ax = plt.subplots(nrows=2, ncols=2, figsize=(25,15))\n",
        "\n",
        "sns.countplot(x='establecimiento', data = fraude_data, palette='colorblind',ax=ax[0][0])\n",
        "ax[0][0].set_title(\"Tipos de establecimiento\")\n",
        "\n",
        "sns.countplot(x='ciudad', data = fraude_data, palette='colorblind',ax=ax[1][0])\n",
        "ax[1][0].set_title('\\n Ciudades')\n",
        "\n",
        "sns.countplot(x='dispositivo', data = fraude_data, palette='colorblind',ax=ax[0][1])\n",
        "ax[0][1].set_title('Tipos de dispositivo');\n",
        "\n",
        "sns.countplot(x='is_prime', data = fraude_data, palette='colorblind',ax=ax[1][1])\n",
        "ax[1][1].set_title('Clase prime');"
      ],
      "metadata": {
        "colab": {
          "base_uri": "https://localhost:8080/",
          "height": 889
        },
        "id": "ekYunFGsfIak",
        "outputId": "08a4b4ef-e801-4564-cb72-f51bedd78867"
      },
      "execution_count": 782,
      "outputs": [
        {
          "output_type": "display_data",
          "data": {
            "image/png": "[encoded data removed]",
            "text/plain": [
              "<Figure size 1800x1080 with 4 Axes>"
            ]
          },
          "metadata": {
            "needs_background": "light"
          }
        }
      ]
    },
    {
      "cell_type": "markdown",
      "source": [
        "- Se visualiza que hay mas fraude en el establecimiento MPago, y menos en el Super.\n",
        "- Tambien que hay mas fraude desde dispositivo ANDROID.\n",
        "- Y más en la ciudad de Merida, y los mas bajos en Toluca\n",
        "- Asimismo que la mayor cantidad de fraude se da en clientes que no son Prime."
      ],
      "metadata": {
        "id": "jYfGcF7xhtKF"
      }
    },
    {
      "cell_type": "code",
      "source": [
        "fig, ax = plt.subplots(nrows=1, ncols=3, figsize=(25,5))\n",
        "\n",
        "sns.histplot(nofraude_data['tipo_tc'], color='green', ax=ax[0]);\n",
        "ax[0].set_title(\"Distribucion de tipo_tc en situación de fraude\")\n",
        "\n",
        "sns.histplot(fraude_data['linea_tc'], color='green', ax=ax[1]);\n",
        "ax[1].set_title(\"Distribucion de linea_tc en situación de Fraude\")\n",
        "\n",
        "sns.histplot(fraude_data['interes_tc'], color='green', ax=ax[2]);\n",
        "ax[2].set_title(\"Distribucion de interes_tc en situación de Fraude\")"
      ],
      "metadata": {
        "colab": {
          "base_uri": "https://localhost:8080/",
          "height": 372
        },
        "id": "4LGlQG0BjLeL",
        "outputId": "0cc90638-ba11-4fe7-b320-d0c0e933103a"
      },
      "execution_count": 783,
      "outputs": [
        {
          "output_type": "execute_result",
          "data": {
            "text/plain": [
              "Text(0.5, 1.0, 'Distribucion de interes_tc en situación de Fraude')"
            ]
          },
          "metadata": {},
          "execution_count": 783
        },
        {
          "output_type": "display_data",
          "data": {
            "image/png": "[encoded data removed]",
            "text/plain": [
              "<Figure size 1800x360 with 3 Axes>"
            ]
          },
          "metadata": {
            "needs_background": "light"
          }
        }
      ]
    },
    {
      "cell_type": "markdown",
      "source": [
        "- Se observa una mayor densidad en el tipo_tc 'Fisica' que en la 'Virtual'.\n",
        "- Y en cuanto la variable interes_tc se observa una menor densidad de casos de fraude en el intervalo aproximado de 47 - 50.\n"
      ],
      "metadata": {
        "id": "bSR07xFWj-PD"
      }
    }
  ]
}